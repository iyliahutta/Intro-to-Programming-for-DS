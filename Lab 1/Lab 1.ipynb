{
 "cells": [
  {
   "cell_type": "markdown",
   "metadata": {},
   "source": [
    "# 2. Inputs, Outputs and Variables in Python"
   ]
  },
  {
   "cell_type": "markdown",
   "metadata": {},
   "source": [
    "#### Task 1: Basic Inputs and Outputs in Python"
   ]
  },
  {
   "cell_type": "code",
   "execution_count": 2,
   "metadata": {},
   "outputs": [
    {
     "name": "stdout",
     "output_type": "stream",
     "text": [
      "Hello Iylia\n"
     ]
    }
   ],
   "source": [
    "name = input(\"Enter your name:\")\n",
    "print(\"Hello \" + name)"
   ]
  },
  {
   "cell_type": "markdown",
   "metadata": {},
   "source": [
    "#### Task 2: Converting numeric inputs"
   ]
  },
  {
   "cell_type": "code",
   "execution_count": 13,
   "metadata": {},
   "outputs": [
    {
     "name": "stdout",
     "output_type": "stream",
     "text": [
      "Area of the square is:25\n",
      "Perimeter of the square is:20\n"
     ]
    }
   ],
   "source": [
    "length = int(input(\"Enter the length of the square:\"))\n",
    "#print(\"Area of the square is:\" + str(length ** 2))\n",
    "print(\"Area of the square is:\" + str(pow(length,2)))\n",
    "print(\"Perimeter of the square is:\" + str(length * 4))"
   ]
  },
  {
   "cell_type": "markdown",
   "metadata": {},
   "source": [
    "#### Task 3: Formatting outputs"
   ]
  },
  {
   "cell_type": "code",
   "execution_count": 54,
   "metadata": {},
   "outputs": [
    {
     "name": "stdout",
     "output_type": "stream",
     "text": [
      "Your BMI  is  18.6\n"
     ]
    }
   ],
   "source": [
    "weight = int(input(\"Enter your weight:\"))\n",
    "height = float(input(\"Enter your height:\"))\n",
    "print(f\"Your BMI  is  {(weight/(height ** 2)):.1f}\")"
   ]
  },
  {
   "cell_type": "markdown",
   "metadata": {},
   "source": [
    "#### Task 4: Average of electricity bills (SUBMISSION REQUIRED)"
   ]
  },
  {
   "cell_type": "code",
   "execution_count": 6,
   "metadata": {},
   "outputs": [
    {
     "name": "stdout",
     "output_type": "stream",
     "text": [
      "***********************************************************\n",
      "Calculate the average of your last 6-months electrcity bill\n",
      "***********************************************************\n",
      "Your electricity bills for the past 6 months are: $123.43, $234.56, $567.89, $678.90. $124.50, $186.70\n",
      "The average of your electricity bill is $319.33\n"
     ]
    }
   ],
   "source": [
    "from statistics import mean\n",
    "\n",
    "# declare empty list\n",
    "bill6mth = []\n",
    "\n",
    "# for loop to get each month's bill into list\n",
    "for i in range(1,7):\n",
    "    bill6mth.append(float(input(f'Enter bill #{i}: ')))\n",
    "\n",
    "border = '*'\n",
    "header = 'Calculate the average of your last 6-months electrcity bill'\n",
    "\n",
    "print(border*len(header))\n",
    "print(header)\n",
    "print(border*len(header))\n",
    "\n",
    "print(f'Your electricity bills for the past 6 months are: ${bill6mth[0]:.2f}, ${bill6mth[1]:.2f}, ${bill6mth[2]:.2f}, ${bill6mth[3]:.2f}. ${bill6mth[4]:.2f}, ${bill6mth[5]:.2f}')\n",
    "\n",
    "print(f'The average of your electricity bill is ${mean(bill6mth):.2f}')"
   ]
  },
  {
   "cell_type": "markdown",
   "metadata": {},
   "source": [
    "# 3. Using import in Python"
   ]
  },
  {
   "cell_type": "markdown",
   "metadata": {},
   "source": [
    "#### Task 1: Timer"
   ]
  },
  {
   "cell_type": "code",
   "execution_count": 69,
   "metadata": {},
   "outputs": [
    {
     "name": "stdout",
     "output_type": "stream",
     "text": [
      "Let's count down 10 now....\n",
      "Time is up!\n"
     ]
    }
   ],
   "source": [
    "from time import sleep\n",
    "\n",
    "time_to_wait = input(\"Enter the number of seconds to count down:\")\n",
    "\n",
    "print(f\"Let's count down {time_to_wait} seconds now....\")\n",
    "sleep(int(time_to_wait))\n",
    "print(\"Time is up!\")"
   ]
  },
  {
   "cell_type": "markdown",
   "metadata": {},
   "source": [
    "#### Task 2: Reaction game"
   ]
  },
  {
   "cell_type": "code",
   "execution_count": 65,
   "metadata": {},
   "outputs": [
    {
     "name": "stdout",
     "output_type": "stream",
     "text": [
      "You took 0.684866 seconds to type 2\n"
     ]
    }
   ],
   "source": [
    "from datetime import datetime\n",
    "\n",
    "time_now = datetime.now()\n",
    "\n",
    "user_input = input('Timer starts now! Press any key + Enter as quickly as possible!')\n",
    "\n",
    "time_entered = datetime.now()\n",
    "\n",
    "time_response = time_entered - time_now\n",
    "\n",
    "print(f'You took {time_response.total_seconds()} seconds to type {user_input}')\n"
   ]
  },
  {
   "cell_type": "markdown",
   "metadata": {},
   "source": [
    "#### Task 3: Days before assignment is due"
   ]
  },
  {
   "cell_type": "code",
   "execution_count": 71,
   "metadata": {},
   "outputs": [
    {
     "name": "stdout",
     "output_type": "stream",
     "text": [
      "Assignment due date is 20-Jan-2023\n",
      "2 months, 20 days till assignment is due\n"
     ]
    }
   ],
   "source": [
    "from datetime import date\n",
    "from dateutil import relativedelta as rd\n",
    "\n",
    "date_today = date.today()\n",
    "\n",
    "assignment_duedate = datetime.strptime(input('Please enter the due date of the assignment in DD-MM-YYYY format'),'%d-%m-%Y').date()\n",
    "\n",
    "number_of_months = rd.relativedelta(assignment_duedate, date_today).months\n",
    "\n",
    "number_of_days = rd.relativedelta(assignment_duedate, date_today).days\n",
    "\n",
    "print(f'Assignment due date is {assignment_duedate:%d-%b-%Y}\\n{number_of_months} months, {number_of_days} days till assignment is due')"
   ]
  },
  {
   "cell_type": "markdown",
   "metadata": {},
   "source": [
    "# 4. Working with Python numeric types"
   ]
  },
  {
   "cell_type": "markdown",
   "metadata": {},
   "source": [
    "#### Task 1: Perform basic mathematical calculations"
   ]
  },
  {
   "cell_type": "code",
   "execution_count": 82,
   "metadata": {},
   "outputs": [
    {
     "name": "stdout",
     "output_type": "stream",
     "text": [
      "The four numbers are 1, 2, 3, 4\n",
      "Sum is 10\n",
      "Difference is -3\n",
      "Product is 6\n",
      "Quotient is 0.42857142857142855\n",
      "Remainder is 2\n",
      "Power is 1\n"
     ]
    }
   ],
   "source": [
    "import math\n",
    "\n",
    "#prompt user to enter four numbers\n",
    "n1, n2, n3, n4 = int(input('Enter number 1: ')), int(input('Enter number 2: ')), int(input('Enter number 3: ')), int(input('Enter number 4: '))\n",
    "\n",
    "print(f'The four numbers are {n1}, {n2}, {n3}, {n4}')\n",
    "\n",
    "#function to sum multiple numbers\n",
    "def multi_sum(num1, *args):\n",
    "    total = num1\n",
    "    for num in args:\n",
    "        total = total + num\n",
    "    return total\n",
    "\n",
    "add = multi_sum(n1, n2, n3, n4)\n",
    "difference = n1 - n4\n",
    "product = n2 * n3\n",
    "quotient = (n1 + n2) / (n3 + n4)\n",
    "remainder = (n1 * n2) % (n3 * n4)\n",
    "powerl = int(math.pow(n1,n2))\n",
    "\n",
    "print(f'Sum is {add}\\nDifference is {difference}\\nProduct is {product}\\nQuotient is {quotient}\\nRemainder is {remainder}\\nPower is {powerl}')"
   ]
  },
  {
   "cell_type": "markdown",
   "metadata": {},
   "source": [
    "#### Task 2: Mathematical functions in Python"
   ]
  },
  {
   "cell_type": "code",
   "execution_count": 91,
   "metadata": {},
   "outputs": [
    {
     "name": "stdout",
     "output_type": "stream",
     "text": [
      "The square root of 4.5 is 2.1213203435596424\n",
      "The ceiling value of n1_squareroot is 3\n",
      "\n",
      "6.7 times 3.141592653589793 is 21.048670779051616\n",
      "The truncated value of n2_times_pi is 21\n",
      "\n",
      "7.3 to the power of 4.5 is 7672.782201279266\n",
      "The floor value of n3_powerof_n1 is 7672\n",
      "\n",
      "9.0 factorial is 362880\n",
      "362880 divided by 7.3 is 49709.58904109589\n",
      "The fractional value of the result is 0.5890410958891152\n",
      "The integer value of the result is 49709.0\n"
     ]
    }
   ],
   "source": [
    "import math\n",
    "\n",
    "#prompt user to enter four numbers\n",
    "n1, n2, n3, n4 = float(input('Enter number 1: ')), float(input('Enter number 2: ')), float(input('Enter number 3: ')), float(input('Enter number 4: '))\n",
    "\n",
    "#sqrt of n1 and print ceiling value\n",
    "n1_squareroot = math.sqrt(n1)\n",
    "print(f'The square root of {n1} is {n1_squareroot}\\nThe ceiling value of n1_squareroot is {math.ceil(n1_squareroot)}')\n",
    "\n",
    "#n2 times pi and print truncated value\n",
    "n2_times_pi = n2 * math.pi\n",
    "print(f'\\n{n2} times {math.pi} is {n2_times_pi}\\nThe truncated value of n2_times_pi is {math.trunc(n2_times_pi)}')\n",
    "\n",
    "#n3 to power of n1 and print floor value\n",
    "n3_powerof_n1 = math.pow(n3,n1)\n",
    "print(f'\\n{n3} to the power of {n1} is {n3_powerof_n1}\\nThe floor value of n3_powerof_n1 is {math.floor(n3_powerof_n1)}')\n",
    "\n",
    "#n4 factorial divided by n3 then print fractional value and integer value of result\n",
    "n4_factorial = math.factorial(int(n4))\n",
    "n4n3 = n4_factorial / n3\n",
    "\n",
    "#modf function saves float as fractional then integer in tuple\n",
    "f, i = math.modf(n4n3) #(f, i)\n",
    "\n",
    "print(f'\\n{n4} factorial is {n4_factorial}\\n{n4_factorial} divided by {n3} is {n4n3}\\nThe fractional value of the result is {f}\\nThe integer value of the result is {i}')"
   ]
  },
  {
   "cell_type": "markdown",
   "metadata": {},
   "source": [
    "# 5. Working with Python string types"
   ]
  },
  {
   "cell_type": "markdown",
   "metadata": {},
   "source": [
    "#### Task 1: Perform simple string operations"
   ]
  },
  {
   "cell_type": "code",
   "execution_count": 10,
   "metadata": {},
   "outputs": [
    {
     "name": "stdout",
     "output_type": "stream",
     "text": [
      "Length of string 1 hello is 5\n",
      "Length of string 2 many is 4\n",
      "Length of string 3 that is the question is 20\n",
      "String 1 in all caps HELLO\n",
      "The letter a in many is in index position 1\n",
      "The first two characters of that is the question is th\n"
     ]
    }
   ],
   "source": [
    "#prompt user to enter three string variables s1, s2, s3\n",
    "s1 = input('Enter string 1:')\n",
    "s2 = input('Emter string 2:')\n",
    "s3 = input('Enter string 3:')\n",
    "\n",
    "#print out the length of all the strings\n",
    "print(f'Length of string 1 {s1} is {len(s1)}')\n",
    "print(f'Length of string 2 {s2} is {len(s2)}')\n",
    "print(f'Length of string 3 {s3} is {len(s3)}')\n",
    "\n",
    "#print out s1 in all capital letters\n",
    "print(f'String 1 in all caps {s1.upper()}')\n",
    "\n",
    "#locate letter a in s2 and print out index if found or print \"The letter a is not found in s2\"\n",
    "s2_index = s2.index('a')\n",
    "if s2_index > 0:\n",
    "    print(f'The letter a in {s2} is in index position {s2_index}')\n",
    "else:\n",
    "    print(f'The letter a is not found in {s2}')\n",
    "\n",
    "#extract the first 2 characters from s3 and print them out\n",
    "print(f'The first two characters of {s3} is {s3[0:2]}')"
   ]
  },
  {
   "cell_type": "markdown",
   "metadata": {},
   "source": [
    "#### Task 2: Perform simple string operations (SUBMISSION REQUIRED)"
   ]
  },
  {
   "cell_type": "code",
   "execution_count": 15,
   "metadata": {},
   "outputs": [
    {
     "name": "stdout",
     "output_type": "stream",
     "text": [
      "s1 is When Breath Becomes Air\n",
      "Length of When Breath Becomes Air is 23\n",
      "2nd and 3rd characters of When Breath Becomes Air is he\n",
      "\n",
      "s2 is The 91-Storey Treehouse\n",
      "Length of The 91-Storey Treehouse is 23\n",
      "5th to 7th characters of The 91-Storey Treehouse is 91-\n",
      "\n",
      "s3 is Harry Potter and the Prisoner of Azkaban\n",
      "Length of Harry Potter and the Prisoner of Azkaban is 40\n",
      "Last two characters of Harry Potter and the Prisoner of Azkaban is an\n"
     ]
    }
   ],
   "source": [
    "#prompt the user to enter 3 random strings of at least 8 characters long, each separated by a comma\n",
    "random_strings = input('Please enter 3 random strings of at least 8 characters long, each separated by a comma:')\n",
    "\n",
    "s1 = random_strings.split(',')[0]\n",
    "s2 = random_strings.split(',')[1]\n",
    "s3 = random_strings.split(',')[2]\n",
    "\n",
    "len_s1 = len(s1)\n",
    "len_s2 = len(s2)\n",
    "len_s3 = len(s3)\n",
    "\n",
    "second_third_s1 = s1[1:3]\n",
    "fifth_to_seven_s2 = s2[4:7]\n",
    "last_two_s3 = s3[-2:]\n",
    "\n",
    "print(f's1 is {s1}')\n",
    "print(f'Length of {s1} is {len_s1}')\n",
    "print(f'2nd and 3rd characters of {s1} is {second_third_s1}\\n')\n",
    "\n",
    "print(f's2 is {s2}')\n",
    "print(f'Length of {s2} is {len_s2}')\n",
    "print(f'5th to 7th characters of {s2} is {fifth_to_seven_s2}\\n')\n",
    "\n",
    "print(f's3 is {s3}')\n",
    "print(f'Length of {s3} is {len_s3}')\n",
    "print(f'Last two characters of {s3} is {last_two_s3}')"
   ]
  },
  {
   "cell_type": "markdown",
   "metadata": {},
   "source": [
    "# 6. if-else statements"
   ]
  },
  {
   "cell_type": "markdown",
   "metadata": {},
   "source": [
    "#### Task 1: Odd or even"
   ]
  },
  {
   "cell_type": "code",
   "execution_count": 3,
   "metadata": {},
   "outputs": [
    {
     "name": "stdout",
     "output_type": "stream",
     "text": [
      "21 is odd\n"
     ]
    }
   ],
   "source": [
    "#ask the user for a number\n",
    "#if the input is not numeric, display an error message and exit the program\n",
    "\n",
    "num = input('Enter a number:')\n",
    "\n",
    "if num.isnumeric() == False:\n",
    "    print('You did not enter a number')\n",
    "    exit();\n",
    "else:\n",
    "    if int(num) % 2 == 0:\n",
    "        print(f'{num} is even')\n",
    "    else:\n",
    "        print(f'{num} is odd')"
   ]
  },
  {
   "cell_type": "markdown",
   "metadata": {},
   "source": [
    "#### Task 2: Spdonalds (SUBMISSION REQUIRED)"
   ]
  },
  {
   "cell_type": "code",
   "execution_count": 19,
   "metadata": {},
   "outputs": [
    {
     "name": "stdout",
     "output_type": "stream",
     "text": [
      "Welcome to SPdonalds!\n",
      "Below is our Breakfast menu:\n",
      "1. SPMuffin ($5.00)\n",
      "2. SPancakes ($3.00)\n",
      "3. SPHashbrown ($1.50)\n",
      "\n",
      "Key in [Q] to exit\n",
      "SPHashbrown $1.50 added!\n",
      "The total cost for 6 SPHashbrown is $9.00\n",
      "\n",
      "Exiting program....\n"
     ]
    }
   ],
   "source": [
    "def create_order_item(menu_key, menu):\n",
    "    #print price of item\n",
    "    print(f\"{menu[menu_key]['item']} ${menu[menu_key]['price']:.2f} added!\")\n",
    "\n",
    "    #prompt user for quantity\n",
    "    quantity = int(input(f\"How many {menu[menu_key]['item']} do you want to order?:\"))\n",
    "\n",
    "    #calculate price with quantity and store\n",
    "    subtotal = quantity*menu[menu_key]['price']\n",
    "\n",
    "    #display subtotal\n",
    "    print(f\"The total cost for {quantity} {menu[menu_key]['item']} is ${subtotal:.2f}\\n\")\n",
    "\n",
    "    return[menu_key, quantity, subtotal]\n",
    "\n",
    "print('Welcome to SPdonalds!')\n",
    "\n",
    "#create dictionary for menu and prices\n",
    "menu = {\n",
    "    1: {'item': 'SPMuffin', 'price': 5.00},\n",
    "    2: {'item': 'SPancakes', 'price': 3.00},\n",
    "    3: {'item': 'SPHashbrown', 'price': 1.50}\n",
    "}\n",
    "\n",
    "print('Below is our Breakfast menu:')\n",
    "\n",
    "#print menu with keys and items and prices\n",
    "for key in menu:\n",
    "    print(f\"{key}. {menu[key]['item']} (${menu[key]['price']:.2f})\")\n",
    "\n",
    "#prompt for key to exit menu\n",
    "print('\\nKey in [Q] to exit')\n",
    "\n",
    "order = []\n",
    "\n",
    "while True:\n",
    "    #prompt user to key in choice of item\n",
    "    choice = input('Enter your choice of food:')\n",
    "    \n",
    "    if choice.upper() == 'Q':\n",
    "        print('Exiting program....')\n",
    "        break;\n",
    "    elif int(choice) > 3:\n",
    "        print('Sorry, you have entered an invalid choice\\nUnable to continue. Exiting program....')\n",
    "        break;\n",
    "    else:\n",
    "        menu_key = int(choice)\n",
    "\n",
    "        #if choice in menu:\n",
    "        if menu_key >= 0 and menu_key <= len(menu):\n",
    "            #use function\n",
    "            order_item = create_order_item(menu_key, menu)\n",
    "\n",
    "            #add order item to list\n",
    "            order.append(order_item)"
   ]
  },
  {
   "cell_type": "markdown",
   "metadata": {},
   "source": [
    "# 7. for loop"
   ]
  },
  {
   "cell_type": "markdown",
   "metadata": {},
   "source": [
    "#### Task 1: Repeat a user-specified message"
   ]
  },
  {
   "cell_type": "code",
   "execution_count": 21,
   "metadata": {},
   "outputs": [
    {
     "name": "stdout",
     "output_type": "stream",
     "text": [
      "Hello what are you doing?\n",
      "Hello what are you doing?\n",
      "Hello what are you doing?\n",
      "Hello what are you doing?\n",
      "Hello what are you doing?\n",
      "Hello what are you doing?\n",
      "Hello what are you doing?\n",
      "Hello what are you doing?\n",
      "Hello what are you doing?\n",
      "Hello what are you doing?\n"
     ]
    }
   ],
   "source": [
    "#prompt user for a message\n",
    "message = input('Enter the message you want to repeat:')\n",
    "\n",
    "#prompt user for number of times to repeat the message\n",
    "iterate = int(input('Enter the number of times you want to repeat this message:'))\n",
    "\n",
    "#repeat the message by number of iterate\n",
    "for i in range(1,iterate+1):\n",
    "    print(message)"
   ]
  },
  {
   "cell_type": "markdown",
   "metadata": {},
   "source": [
    "#### Task 2: Calculate sum of numbers within a range (SUBMISSION REQUIRED)"
   ]
  },
  {
   "cell_type": "code",
   "execution_count": 25,
   "metadata": {},
   "outputs": [
    {
     "name": "stdout",
     "output_type": "stream",
     "text": [
      "This program prints the sum of a range of numbers from x to y\n",
      "\n",
      "For example, if x is 10 and y is 50, the program will print the sum of numbers from 10 to 50\n",
      "\n",
      "The sum of numbers between 50 and 100 is 3825\n"
     ]
    }
   ],
   "source": [
    "# Inform the user the purpose of the program\n",
    "print('This program prints the sum of a range of numbers from x to y\\n')\n",
    "print('For example, if x is 10 and y is 50, the program will print the sum of numbers from 10 to 50\\n')\n",
    "\n",
    "# Prompt the user to enter the value for x and y.\n",
    "# check if 1) x and y are numeric \n",
    "# 2) higher than zero \n",
    "# 3) y is greater than x. \n",
    "# If not, display an error message and terminate the program.\n",
    "\n",
    "x = input('Please enter the value of x:')\n",
    "y = input('Please enter the value of y:')\n",
    "\n",
    "if x.isnumeric() != True or y.isnumeric() != True:\n",
    "    print('One or more of your inputs are not numeric!\\nUnable to continue. Program terminated.')\n",
    "elif int(x) <= 0 or int(y) <= 0:\n",
    "    print('One or more of your inputs are not greater than zero.\\nUnable to continue. Program terminated.')\n",
    "elif int(y) <= int(x):\n",
    "    print('You did not enter a value of y that is greater than x.\\nUnable to continue. Program terminated.')\n",
    "else:\n",
    "    # Use a for loop to calculate the sum of numbers from x to y and store the final value in the variable sum_of_numbers\n",
    "    x = int(x)\n",
    "    y = int(y)\n",
    "    sum_of_numbers = 0\n",
    "\n",
    "    for i in list(range(x,y+1)):\n",
    "        sum_of_numbers += i\n",
    "\n",
    "# display sum_of_numbers to the user\n",
    "print(f'The sum of numbers between {x} and {y} is {sum_of_numbers}')"
   ]
  },
  {
   "cell_type": "markdown",
   "metadata": {},
   "source": [
    "# 8. while loop"
   ]
  },
  {
   "cell_type": "markdown",
   "metadata": {},
   "source": [
    "#### Task 1: Count down timer"
   ]
  },
  {
   "cell_type": "code",
   "execution_count": 28,
   "metadata": {},
   "outputs": [
    {
     "name": "stdout",
     "output_type": "stream",
     "text": [
      "20 seconds till the timer expires\n",
      "19 seconds till the timer expires\n",
      "18 seconds till the timer expires\n",
      "17 seconds till the timer expires\n",
      "16 seconds till the timer expires\n",
      "15 seconds till the timer expires\n",
      "14 seconds till the timer expires\n",
      "13 seconds till the timer expires\n",
      "12 seconds till the timer expires\n",
      "11 seconds till the timer expires\n",
      "10 seconds till the timer expires\n",
      "9 seconds till the timer expires\n",
      "8 seconds till the timer expires\n",
      "7 seconds till the timer expires\n",
      "6 seconds till the timer expires\n",
      "5 seconds till the timer expires\n",
      "4 seconds till the timer expires\n",
      "3 seconds till the timer expires\n",
      "2 seconds till the timer expires\n",
      "1 seconds till the timer expires\n",
      "0 seconds till the timer expires\n",
      "Time is up!\n"
     ]
    }
   ],
   "source": [
    "# Create a program using while loop which will prompt the user to enter the number of seconds he wishes to count down, then indicate how long there is to go before time runs outs. When time runs out it should display “Time is up!”\n",
    "\n",
    "from time import sleep\n",
    "\n",
    "# prompt user to enter the number of seconds to count down\n",
    "count = int(input('Enter the number of seconds to count down:'))\n",
    "\n",
    "while count >= 0:\n",
    "    print(f'{count} seconds till the timer expires')\n",
    "    # delay 1 second after each message\n",
    "    sleep(1)\n",
    "    # subtract 1 from count after each message until 0\n",
    "    count -= 1\n",
    "\n",
    "# when count less than 0    \n",
    "print('Time is up!')"
   ]
  },
  {
   "cell_type": "markdown",
   "metadata": {},
   "source": [
    "#### Task 2: High-low number game"
   ]
  },
  {
   "cell_type": "code",
   "execution_count": 31,
   "metadata": {},
   "outputs": [
    {
     "name": "stdout",
     "output_type": "stream",
     "text": [
      "This program will generate a random number between a lower limit and upper limit of your choice:\n",
      "\n",
      "Too high\n",
      "Too high\n",
      "Tooo low\n",
      "Tooo low\n",
      "You are right!\n"
     ]
    }
   ],
   "source": [
    "# Write a Python ‘game’ that generates a random number and repeatedly allows the user to guess the number by giving him hints until he gets it right.\n",
    "\n",
    "import random\n",
    "\n",
    "# introduce the program\n",
    "print('This program will generate a random number between a lower limit and upper limit of your choice:\\n')\n",
    "\n",
    "# ask the user to select the lower limit and the upper limit for the random number generator\n",
    "lower = int(input('Enter the lower limit:'))\n",
    "upper = int(input('Enter the upper limit:'))\n",
    "\n",
    "# generate a number between that range and store it in a variable named secret_number\n",
    "secret_number = random.randint(lower, upper)\n",
    "\n",
    "# a while loop that repeatedly performs the following actions until the user guesses the random number correctly\n",
    "while True:\n",
    "    # prompt the user to guess the value of the number\n",
    "    guess = int(input(f'Enter your guess ({lower} to {upper}):'))\n",
    "    # if guess is higher than secret_number, print 'Too high'\n",
    "    if guess > secret_number:\n",
    "        print('Too high')\n",
    "    # if guess is lower than secret_number, print 'Too low'\n",
    "    elif guess < secret_number:\n",
    "        print('Too low')\n",
    "    # if guess equal to secret_number, print 'You are right!' and exit the loop\n",
    "    elif guess == secret_number:\n",
    "        print('You are right!')\n",
    "        break;"
   ]
  },
  {
   "cell_type": "markdown",
   "metadata": {},
   "source": [
    "# 9. Python Lists"
   ]
  },
  {
   "cell_type": "markdown",
   "metadata": {},
   "source": [
    "#### Task 1: Lists (Elements less than 5)"
   ]
  },
  {
   "cell_type": "code",
   "execution_count": 37,
   "metadata": {},
   "outputs": [
    {
     "name": "stdout",
     "output_type": "stream",
     "text": [
      "The list elements are [1, 1, 2, 3, 5, 8, 13, 21, 34, 55, 89]\n",
      "\n",
      "Items less than 5 are:\n",
      "1\n",
      "1\n",
      "2\n",
      "3\n"
     ]
    }
   ],
   "source": [
    "# write a program that prints out all the elements of a given list that are less than 5\n",
    "\n",
    "# given list\n",
    "a = [1, 1, 2, 3, 5, 8, 13, 21, 34, 55, 89]\n",
    "print(f'The list elements are {a}\\n')\n",
    "\n",
    "# iterate through list to print only if item is less than 5\n",
    "print(f'Items less than 5 are:')\n",
    "for i in a:\n",
    "    if i < 5:\n",
    "        print(i)"
   ]
  },
  {
   "cell_type": "markdown",
   "metadata": {},
   "source": [
    "#### Task 2: Lists (max, min, sorted, reverse)"
   ]
  },
  {
   "cell_type": "code",
   "execution_count": 54,
   "metadata": {},
   "outputs": [
    {
     "name": "stdout",
     "output_type": "stream",
     "text": [
      "Maximum of the numbers is 325234\n",
      "Minimum of the numbers is 2\n",
      "The original list is [23, 325234, 6345, 2423, 24, 2, 6, 7, 245, 5]\n",
      "The sorted list in reverse order is [325234, 6345, 2423, 245, 24, 23, 7, 6, 5, 2]\n"
     ]
    }
   ],
   "source": [
    "# enter a list of 10 numbers\n",
    "list = []\n",
    "for i in range(1,11):\n",
    "    list.append(int(input(f'Enter number {i}:')))\n",
    "\n",
    "# print maximum of list of numbers\n",
    "print(f'Maximum of the numbers is {max(list)}')\n",
    "\n",
    "# print the minimum of list of numbers\n",
    "print(f'Minimum of the numbers is {min(list)}')\n",
    "\n",
    "# print the original list, unordered\n",
    "print(f'The original list is {list}')\n",
    "\n",
    "# sort list in reverse order\n",
    "# .sort only sorts the list in place and does not return the sorted list\n",
    "list.sort(reverse=True)\n",
    "\n",
    "# print the sorted list in reverse order\n",
    "print(f'The sorted list in reverse order is {list}')"
   ]
  },
  {
   "cell_type": "markdown",
   "metadata": {},
   "source": [
    "#### Task 3: List Slicing"
   ]
  },
  {
   "cell_type": "code",
   "execution_count": 61,
   "metadata": {},
   "outputs": [
    {
     "data": {
      "text/plain": [
       "[1.1, 2.2, 3.3, 4.4, 5.5, 6.6, 7.7, 8.8]"
      ]
     },
     "execution_count": 61,
     "metadata": {},
     "output_type": "execute_result"
    }
   ],
   "source": [
    "# given three lists, provide the code that will retrieve the required elements in each list\n",
    "\n",
    "list_1 = [300,50,80,90,199,800,74,33]\n",
    "list_2 = ['Apple','Banana','Durian','Grapes','Papaya','Watermelon']\n",
    "list_3 = [0.0, 1.1, 2.2, 3.3, 4.4, 5.5, 6.6, 7.7, 8.8,9.9]\n",
    "\n",
    "# The numbers 800, 74 and 33 in list_1\n",
    "list_1[-3:]\n",
    "\n",
    "# The last two elements in list_2\n",
    "list_2[-2:]\n",
    "\n",
    "# All the elements in list_3 except the first and the last\n",
    "list_3[1:len(list_3)-1]"
   ]
  },
  {
   "cell_type": "markdown",
   "metadata": {},
   "source": [
    "#### Task 4: BMI"
   ]
  },
  {
   "cell_type": "code",
   "execution_count": 62,
   "metadata": {},
   "outputs": [],
   "source": [
    "# declare three lists\n",
    "\n",
    "list_students1 = ['Ann', 'Brandon', 'Christine', 'Daniel', 'Eileen', 'Francis', 'Gloria', 'Henry', 'Irene', 'John']\n",
    "list_weights1 = [45,90,52,75,48,65,60,85,49,100]\n",
    "list_heights1 = [1.54, 1.85, 1.66, 1.75, 1.58, 1.71, 1.68, 1.78, 1.62, 1.88]\n",
    "\n",
    "# prompt user to enter the names, weights and heights of 5 more students and store into new variables\n",
    "list_students2 = []\n",
    "list_weights2 = []\n",
    "list_heights2 = []\n",
    "\n",
    "for i in range(1,6):\n",
    "    list_students2.append(input(f\"Enter student {i}'s name:\"))\n",
    "    list_weights2.append(int(input(f\"Enter student {i}'s weight:\")))\n",
    "    list_heights2.append(float(input(f\"Enter student {i}'s height:\")))\n",
    "\n",
    "# combine old and new lists\n",
    "list_students_all = list_students1 + list_students2\n",
    "list_weights_all = list_weights1 + list_weights2\n",
    "list_heights_all = list_heights1 + list_heights2\n",
    "\n",
    "# use a for loop to calculate the BMIs of the 15 students and store in a list variable named list_bmis_all\n",
    "list_bmis_all = []\n",
    "\n",
    "for j in range(len(list_students_all)):\n",
    "    list_bmis_all.append(list_weights_all[j]/(list_heights_all[j]**2))\n",
    "\n",
    "# print out student with lowest and highest BMI\n",
    "print(f'The maximum BMI is {max(list_bmis_all)}')\n",
    "print(f'The minimum BMI is {min(list_bmis_all)}')"
   ]
  },
  {
   "cell_type": "markdown",
   "metadata": {},
   "source": [
    "# 10. Python functions"
   ]
  },
  {
   "cell_type": "markdown",
   "metadata": {},
   "source": [
    "#### Task 1: Scissors, Paper, Stone"
   ]
  },
  {
   "cell_type": "code",
   "execution_count": 119,
   "metadata": {},
   "outputs": [
    {
     "name": "stdout",
     "output_type": "stream",
     "text": [
      "Paper wins!\n",
      "Invalid input! Please try again\n",
      "It's a tie!\n",
      "Scissors wins!\n",
      "Stone wins!\n",
      "Paper wins!\n",
      "Quitting the program\n"
     ]
    }
   ],
   "source": [
    "# save as variables the combinations of winning pairs\n",
    "scissors = ['Scissors', 'Paper']\n",
    "paper = ['Paper', 'Stone']\n",
    "stone = ['Stone', 'Scissors']\n",
    "\n",
    "# write a function that takes in two string inputs which can be one of these values: Scissors, Paper or Stone\n",
    "def compare(input1, input2):\n",
    "    if input1 == input2:\n",
    "        print(\"It's a tie!\")\n",
    "    elif [input1, input2] == scissors or [input1, input2] == scissors.reverse():\n",
    "        print(\"Scissors wins!\")\n",
    "    elif [input1, input2] == paper or [input1, input2] == paper.reverse():\n",
    "        print(\"Paper wins!\")\n",
    "    elif [input1, input2] == stone or [input1, input2] == stone.reverse():\n",
    "        print(\"Stone wins!\")\n",
    "\n",
    "# prompt player names and append into dict of players\n",
    "players = {}\n",
    "\n",
    "for i in range(1,3):\n",
    "    players[i] = {'name':input(f'Enter name of Player {i}:')}\n",
    "\n",
    "while True:\n",
    "    # prompt player to choose Scissors, Paper or Stone\n",
    "    input1 = input(f\"{players[1]['name']}, please choose Scissors, Paper or Stone:\").title()\n",
    "    input2 = input(f\"{players[2]['name']}, please choose Scissors, Paper or Stone:\").title()\n",
    "\n",
    "    if input1 == 'Quit' or input2 == 'Quit':\n",
    "        print(\"Quitting the program\")\n",
    "        break;\n",
    "    elif (input1 not in ('Scissors','Paper','Stone')) or (input2 not in ('Scissors','Paper','Stone')):\n",
    "        print(\"Invalid input! Please try again\")\n",
    "    else:\n",
    "        # play game using compare function\n",
    "        compare(input1, input2)"
   ]
  },
  {
   "cell_type": "markdown",
   "metadata": {},
   "source": [
    "#### Task 2: Odd and Even (SUBMISSION REQUIRED)"
   ]
  },
  {
   "cell_type": "code",
   "execution_count": 127,
   "metadata": {},
   "outputs": [
    {
     "name": "stdout",
     "output_type": "stream",
     "text": [
      "Original List: [410, 413, 204, 427, 587, 838, 408, 304, 884, 524, 927, 498, 170, 640, 672, 224, 436, 675, 482, 507, 377, 821, 397, 85, 566, 506, 857, 467, 204, 142, 596, 489, 105, 459, 186, 391, 262, 705, 782, 88, 378, 384, 3, 416, 492, 907, 143, 153, 67, 402, 20, 797, 869, 678, 841, 556, 161, 24, 299, 955, 139, 275, 778, 805, 557, 362, 969, 641, 359, 118, 297, 546, 154, 178, 912, 274, 376, 477, 496, 889, 20, 168, 297, 753, 533, 369, 335, 526, 31, 792, 229, 724, 733, 637, 599, 781, 70, 215, 999, 74]\n",
      "\n",
      "Odd: [413, 427, 587, 927, 675, 507, 377, 821, 397, 85, 857, 467, 489, 105, 459, 391, 705, 3, 907, 143, 153, 67, 797, 869, 841, 161, 299, 955, 139, 275, 805, 557, 969, 641, 359, 297, 477, 889, 297, 753, 533, 369, 335, 31, 229, 733, 637, 599, 781, 215, 999]\n",
      "\n",
      "Even: [410, 204, 838, 408, 304, 884, 524, 498, 170, 640, 672, 224, 436, 482, 566, 506, 204, 142, 596, 186, 262, 782, 88, 378, 384, 416, 492, 402, 20, 678, 556, 24, 778, 362, 118, 546, 154, 178, 912, 274, 376, 496, 20, 168, 526, 792, 724, 70, 74]\n"
     ]
    }
   ],
   "source": [
    "import random\n",
    "\n",
    "# define a function called oddandeven(numbers_list)\n",
    "# takes one list and returns two outputs of two lists\n",
    "# one with even numbers, the other with odd numbers\n",
    "\n",
    "def oddandeven(numbers_list):\n",
    "    even_numbers = []\n",
    "    odd_numbers = []\n",
    "    for i in numbers_list:\n",
    "        if i % 2 == 0:\n",
    "            even_numbers.append(i)\n",
    "        else:\n",
    "            odd_numbers.append(i)\n",
    "    print(f'Odd: {odd_numbers}\\n')\n",
    "    print(f'Even: {even_numbers}')\n",
    "\n",
    "# generate a list with 100 random numbers in the range of 1 to 1000 and store in original_list\n",
    "original_list = [random.randint(1,1000) for x in range(0,100)]\n",
    "\n",
    "print(f'Original List: {original_list}\\n')\n",
    "oddandeven(original_list)"
   ]
  },
  {
   "cell_type": "markdown",
   "metadata": {},
   "source": [
    "# 11. Python Input/Output"
   ]
  },
  {
   "cell_type": "markdown",
   "metadata": {},
   "source": [
    "#### Task 1: Read file"
   ]
  },
  {
   "cell_type": "code",
   "execution_count": 137,
   "metadata": {},
   "outputs": [
    {
     "name": "stdout",
     "output_type": "stream",
     "text": [
      "/Users/iylia/Library/Mobile Documents/com~apple~CloudDocs/SP/Intro to Programming for DS/Lab 1/numbers.txt contains 9 numbers\n",
      "The total sum of all the 9 numbers is 1093\n",
      "The average of all the numbers is 121.44444444444444\n"
     ]
    }
   ],
   "source": [
    "from statistics import mean\n",
    "\n",
    "# input filename with path\n",
    "file = input('Enter the input filename:')\n",
    "\n",
    "# alias open file as f\n",
    "with open(file) as f:\n",
    "    # read all lines of file and save as a list\n",
    "    lines = f.readlines()\n",
    "    # strip all the line breaks and save as a list\n",
    "    lines_list = [line.strip() for line in lines]\n",
    "\n",
    "# make each item in list an integer\n",
    "lines_list = [int(i) for i in lines_list]\n",
    "\n",
    "# print length of list\n",
    "print(f'{file} contains {len(lines_list)} numbers')\n",
    "\n",
    "# print total sum of list\n",
    "sum_of_numbers = 0\n",
    "\n",
    "for i in lines_list:\n",
    "    sum_of_numbers += i\n",
    "\n",
    "print(f'The total sum of all the {len(lines_list)} numbers is {sum_of_numbers}')\n",
    "\n",
    "# print the mean of numbers in list\n",
    "print(f'The average of all the numbers is {mean(lines_list)}')"
   ]
  },
  {
   "cell_type": "markdown",
   "metadata": {},
   "source": [
    "#### Task 2: Read data file from data.gov.sg"
   ]
  },
  {
   "cell_type": "code",
   "execution_count": 189,
   "metadata": {},
   "outputs": [
    {
     "name": "stdout",
     "output_type": "stream",
     "text": [
      "public-transport-journeys.csv contains 11 rows\n",
      "The maximum number of journeys happened in year 2014 with 4428000 journeys\n",
      "The minimum number of journeys happened in year 2004 with 3099000 journeys\n"
     ]
    }
   ],
   "source": [
    "import pandas as pd\n",
    "\n",
    "file = pd.read_csv('/Users/iylia/Library/Mobile Documents/com~apple~CloudDocs/SP/Intro to Programming for DS/Lab 1/public-transport-journeys.csv')\n",
    "\n",
    "print(f'public-transport-journeys.csv contains {file.shape[0]} rows')\n",
    "\n",
    "# find highest average daily passenger journeys value\n",
    "file['average_daily_passenger_journeys'].max()\n",
    "# find the index of the value\n",
    "file['average_daily_passenger_journeys'].idxmax()\n",
    "\n",
    "# year for highest average daily passenger journeys value\n",
    "file.at[file['average_daily_passenger_journeys'].idxmax(), 'year']\n",
    "\n",
    "print(f\"The maximum number of journeys happened in year {file.at[file['average_daily_passenger_journeys'].idxmax(), 'year']} with {file['average_daily_passenger_journeys'].max()} journeys\")\n",
    "\n",
    "# find lowest average daily passenger journeys value\n",
    "file['average_daily_passenger_journeys'].min()\n",
    "# find the index of the value\n",
    "file['average_daily_passenger_journeys'].idxmin()\n",
    "\n",
    "# year for highest average daily passenger journeys value\n",
    "file.at[file['average_daily_passenger_journeys'].idxmin(), 'year']\n",
    "\n",
    "print(f\"The minimum number of journeys happened in year {file.at[file['average_daily_passenger_journeys'].idxmin(), 'year']} with {file['average_daily_passenger_journeys'].min()} journeys\")"
   ]
  }
 ],
 "metadata": {
  "kernelspec": {
   "display_name": "Python 3.11.0 64-bit",
   "language": "python",
   "name": "python3"
  },
  "language_info": {
   "codemirror_mode": {
    "name": "ipython",
    "version": 3
   },
   "file_extension": ".py",
   "mimetype": "text/x-python",
   "name": "python",
   "nbconvert_exporter": "python",
   "pygments_lexer": "ipython3",
   "version": "3.11.0"
  },
  "orig_nbformat": 4,
  "vscode": {
   "interpreter": {
    "hash": "aee8b7b246df8f9039afb4144a1f6fd8d2ca17a180786b69acc140d282b71a49"
   }
  }
 },
 "nbformat": 4,
 "nbformat_minor": 2
}
