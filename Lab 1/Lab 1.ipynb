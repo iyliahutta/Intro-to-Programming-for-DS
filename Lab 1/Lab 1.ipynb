{
 "cells": [
  {
   "cell_type": "markdown",
   "metadata": {},
   "source": [
    "# 2. Inputs, Outputs and Variables in Python"
   ]
  },
  {
   "cell_type": "markdown",
   "metadata": {},
   "source": [
    "#### Task 1: Basic Inputs and Outputs in Python"
   ]
  },
  {
   "cell_type": "code",
   "execution_count": 2,
   "metadata": {},
   "outputs": [
    {
     "name": "stdout",
     "output_type": "stream",
     "text": [
      "Hello Iylia\n"
     ]
    }
   ],
   "source": [
    "name = input(\"Enter your name:\")\n",
    "print(\"Hello \" + name)"
   ]
  },
  {
   "cell_type": "markdown",
   "metadata": {},
   "source": [
    "#### Task 2: Converting numeric inputs"
   ]
  },
  {
   "cell_type": "code",
   "execution_count": 13,
   "metadata": {},
   "outputs": [
    {
     "name": "stdout",
     "output_type": "stream",
     "text": [
      "Area of the square is:25\n",
      "Perimeter of the square is:20\n"
     ]
    }
   ],
   "source": [
    "length = int(input(\"Enter the length of the square:\"))\n",
    "#print(\"Area of the square is:\" + str(length ** 2))\n",
    "print(\"Area of the square is:\" + str(pow(length,2)))\n",
    "print(\"Perimeter of the square is:\" + str(length * 4))"
   ]
  },
  {
   "cell_type": "markdown",
   "metadata": {},
   "source": [
    "#### Task 3: Formatting outputs"
   ]
  },
  {
   "cell_type": "code",
   "execution_count": 54,
   "metadata": {},
   "outputs": [
    {
     "name": "stdout",
     "output_type": "stream",
     "text": [
      "Your BMI  is  18.6\n"
     ]
    }
   ],
   "source": [
    "weight = int(input(\"Enter your weight:\"))\n",
    "height = float(input(\"Enter your height:\"))\n",
    "print(f\"Your BMI  is  {(weight/(height ** 2)):.1f}\")"
   ]
  },
  {
   "cell_type": "markdown",
   "metadata": {},
   "source": [
    "#### Task 4: Average of electricity bills (SUBMISSION REQUIRED)"
   ]
  },
  {
   "cell_type": "code",
   "execution_count": 2,
   "metadata": {},
   "outputs": [
    {
     "name": "stdout",
     "output_type": "stream",
     "text": [
      "***********************************************************\n",
      "Calculate the average of your last 6-months electrcity bill\n",
      "***********************************************************\n",
      "Your electricity bills for the past 6 months are: $1213.32, $3232.32, $232.32, $3212321.43. $34343.43, $433434.34\n",
      "The average of your electricity bill is $614129.53\n"
     ]
    }
   ],
   "source": [
    "from statistics import mean, median, mode, stdev\n",
    "\n",
    "bill1 = float(input('Enter bill #1: '))\n",
    "bill2 = float(input('Enter bill #2: '))\n",
    "bill3 = float(input('Enter bill #3: '))\n",
    "bill4 = float(input('Enter bill #4: '))\n",
    "bill5 = float(input('Enter bill #5: '))\n",
    "bill6 = float(input('Enter bill #6: '))\n",
    "\n",
    "bill6mth = [bill1, bill2, bill3, bill4, bill5, bill6]\n",
    "\n",
    "border = '*'\n",
    "header = 'Calculate the average of your last 6-months electrcity bill'\n",
    "\n",
    "print(border*len(header))\n",
    "print(header)\n",
    "print(border*len(header))\n",
    "\n",
    "print(f'Your electricity bills for the past 6 months are: ${bill1:.2f}, ${bill2:.2f}, ${bill3:.2f}, ${bill4:.2f}. ${bill5:.2f}, ${bill6:.2f}')\n",
    "\n",
    "print(f'The average of your electricity bill is ${mean(bill6mth):.2f}')"
   ]
  },
  {
   "cell_type": "markdown",
   "metadata": {},
   "source": [
    "# 3. Using import in Python"
   ]
  },
  {
   "cell_type": "markdown",
   "metadata": {},
   "source": [
    "#### Task 1: Timer"
   ]
  },
  {
   "cell_type": "code",
   "execution_count": 69,
   "metadata": {},
   "outputs": [
    {
     "name": "stdout",
     "output_type": "stream",
     "text": [
      "Let's count down 10 now....\n",
      "Time is up!\n"
     ]
    }
   ],
   "source": [
    "from time import sleep\n",
    "\n",
    "time_to_wait = input(\"Enter the number of seconds to count down:\")\n",
    "\n",
    "print(f\"Let's count down {time_to_wait} seconds now....\")\n",
    "sleep(int(time_to_wait))\n",
    "print(\"Time is up!\")"
   ]
  },
  {
   "cell_type": "markdown",
   "metadata": {},
   "source": [
    "#### Task 2: Reaction game"
   ]
  },
  {
   "cell_type": "code",
   "execution_count": 65,
   "metadata": {},
   "outputs": [
    {
     "name": "stdout",
     "output_type": "stream",
     "text": [
      "You took 0.684866 seconds to type 2\n"
     ]
    }
   ],
   "source": [
    "from datetime import datetime\n",
    "\n",
    "time_now = datetime.now()\n",
    "\n",
    "user_input = input('Timer starts now! Press any key + Enter as quickly as possible!')\n",
    "\n",
    "time_entered = datetime.now()\n",
    "\n",
    "time_response = time_entered - time_now\n",
    "\n",
    "print(f'You took {time_response.total_seconds()} seconds to type {user_input}')\n"
   ]
  },
  {
   "cell_type": "markdown",
   "metadata": {},
   "source": [
    "#### Task 3: Days before assignment is due"
   ]
  },
  {
   "cell_type": "code",
   "execution_count": 71,
   "metadata": {},
   "outputs": [
    {
     "name": "stdout",
     "output_type": "stream",
     "text": [
      "Assignment due date is 20-Jan-2023\n",
      "2 months, 20 days till assignment is due\n"
     ]
    }
   ],
   "source": [
    "from datetime import date\n",
    "from dateutil import relativedelta as rd\n",
    "\n",
    "date_today = date.today()\n",
    "\n",
    "assignment_duedate = datetime.strptime(input('Please enter the due date of the assignment in DD-MM-YYYY format'),'%d-%m-%Y').date()\n",
    "\n",
    "number_of_months = rd.relativedelta(assignment_duedate, date_today).months\n",
    "\n",
    "number_of_days = rd.relativedelta(assignment_duedate, date_today).days\n",
    "\n",
    "print(f'Assignment due date is {assignment_duedate:%d-%b-%Y}\\n{number_of_months} months, {number_of_days} days till assignment is due')"
   ]
  },
  {
   "cell_type": "markdown",
   "metadata": {},
   "source": [
    "# 4. Working with Python numeric types"
   ]
  },
  {
   "cell_type": "markdown",
   "metadata": {},
   "source": [
    "#### Task 1: Perform basic mathematical calculations"
   ]
  },
  {
   "cell_type": "code",
   "execution_count": 82,
   "metadata": {},
   "outputs": [
    {
     "name": "stdout",
     "output_type": "stream",
     "text": [
      "The four numbers are 1, 2, 3, 4\n",
      "Sum is 10\n",
      "Difference is -3\n",
      "Product is 6\n",
      "Quotient is 0.42857142857142855\n",
      "Remainder is 2\n",
      "Power is 1\n"
     ]
    }
   ],
   "source": [
    "import math\n",
    "\n",
    "#prompt user to enter four numbers\n",
    "n1, n2, n3, n4 = int(input('Enter number 1: ')), int(input('Enter number 2: ')), int(input('Enter number 3: ')), int(input('Enter number 4: '))\n",
    "\n",
    "print(f'The four numbers are {n1}, {n2}, {n3}, {n4}')\n",
    "\n",
    "#function to sum multiple numbers\n",
    "def multi_sum(num1, *args):\n",
    "    total = num1\n",
    "    for num in args:\n",
    "        total = total + num\n",
    "    return total\n",
    "\n",
    "add = multi_sum(n1, n2, n3, n4)\n",
    "difference = n1 - n4\n",
    "product = n2 * n3\n",
    "quotient = (n1 + n2) / (n3 + n4)\n",
    "remainder = (n1 * n2) % (n3 * n4)\n",
    "powerl = int(math.pow(n1,n2))\n",
    "\n",
    "print(f'Sum is {add}\\nDifference is {difference}\\nProduct is {product}\\nQuotient is {quotient}\\nRemainder is {remainder}\\nPower is {powerl}')"
   ]
  },
  {
   "cell_type": "markdown",
   "metadata": {},
   "source": [
    "#### Task 2: Mathematical functions in Python"
   ]
  },
  {
   "cell_type": "code",
   "execution_count": 91,
   "metadata": {},
   "outputs": [
    {
     "name": "stdout",
     "output_type": "stream",
     "text": [
      "The square root of 4.5 is 2.1213203435596424\n",
      "The ceiling value of n1_squareroot is 3\n",
      "\n",
      "6.7 times 3.141592653589793 is 21.048670779051616\n",
      "The truncated value of n2_times_pi is 21\n",
      "\n",
      "7.3 to the power of 4.5 is 7672.782201279266\n",
      "The floor value of n3_powerof_n1 is 7672\n",
      "\n",
      "9.0 factorial is 362880\n",
      "362880 divided by 7.3 is 49709.58904109589\n",
      "The fractional value of the result is 0.5890410958891152\n",
      "The integer value of the result is 49709.0\n"
     ]
    }
   ],
   "source": [
    "import math\n",
    "\n",
    "#prompt user to enter four numbers\n",
    "n1, n2, n3, n4 = float(input('Enter number 1: ')), float(input('Enter number 2: ')), float(input('Enter number 3: ')), float(input('Enter number 4: '))\n",
    "\n",
    "#sqrt of n1 and print ceiling value\n",
    "n1_squareroot = math.sqrt(n1)\n",
    "print(f'The square root of {n1} is {n1_squareroot}\\nThe ceiling value of n1_squareroot is {math.ceil(n1_squareroot)}')\n",
    "\n",
    "#n2 times pi and print truncated value\n",
    "n2_times_pi = n2 * math.pi\n",
    "print(f'\\n{n2} times {math.pi} is {n2_times_pi}\\nThe truncated value of n2_times_pi is {math.trunc(n2_times_pi)}')\n",
    "\n",
    "#n3 to power of n1 and print floor value\n",
    "n3_powerof_n1 = math.pow(n3,n1)\n",
    "print(f'\\n{n3} to the power of {n1} is {n3_powerof_n1}\\nThe floor value of n3_powerof_n1 is {math.floor(n3_powerof_n1)}')\n",
    "\n",
    "#n4 factorial divided by n3 then print fractional value and integer value of result\n",
    "n4_factorial = math.factorial(int(n4))\n",
    "n4n3 = n4_factorial / n3\n",
    "\n",
    "#modf function saves float as fractional then integer in tuple\n",
    "f, i = math.modf(n4n3) #(f, i)\n",
    "\n",
    "print(f'\\n{n4} factorial is {n4_factorial}\\n{n4_factorial} divided by {n3} is {n4n3}\\nThe fractional value of the result is {f}\\nThe integer value of the result is {i}')"
   ]
  },
  {
   "cell_type": "markdown",
   "metadata": {},
   "source": [
    "# 5. Working with Python string types"
   ]
  },
  {
   "cell_type": "markdown",
   "metadata": {},
   "source": [
    "#### Task 1: Perform simple string operations"
   ]
  },
  {
   "cell_type": "code",
   "execution_count": 10,
   "metadata": {},
   "outputs": [
    {
     "name": "stdout",
     "output_type": "stream",
     "text": [
      "Length of string 1 hello is 5\n",
      "Length of string 2 many is 4\n",
      "Length of string 3 that is the question is 20\n",
      "String 1 in all caps HELLO\n",
      "The letter a in many is in index position 1\n",
      "The first two characters of that is the question is th\n"
     ]
    }
   ],
   "source": [
    "#prompt user to enter three string variables s1, s2, s3\n",
    "s1 = input('Enter string 1:')\n",
    "s2 = input('Emter string 2:')\n",
    "s3 = input('Enter string 3:')\n",
    "\n",
    "#print out the length of all the strings\n",
    "print(f'Length of string 1 {s1} is {len(s1)}')\n",
    "print(f'Length of string 2 {s2} is {len(s2)}')\n",
    "print(f'Length of string 3 {s3} is {len(s3)}')\n",
    "\n",
    "#print out s1 in all capital letters\n",
    "print(f'String 1 in all caps {s1.upper()}')\n",
    "\n",
    "#locate letter a in s2 and print out index if found or print \"The letter a is not found in s2\"\n",
    "s2_index = s2.index('a')\n",
    "if s2_index > 0:\n",
    "    print(f'The letter a in {s2} is in index position {s2_index}')\n",
    "else:\n",
    "    print(f'The letter a is not found in {s2}')\n",
    "\n",
    "#extract the first 2 characters from s3 and print them out\n",
    "print(f'The first two characters of {s3} is {s3[0:2]}')"
   ]
  },
  {
   "cell_type": "markdown",
   "metadata": {},
   "source": [
    "#### Task 2: Perform simple string operations (SUBMISSION REQUIRED)"
   ]
  },
  {
   "cell_type": "code",
   "execution_count": 15,
   "metadata": {},
   "outputs": [
    {
     "name": "stdout",
     "output_type": "stream",
     "text": [
      "s1 is When Breath Becomes Air\n",
      "Length of When Breath Becomes Air is 23\n",
      "2nd and 3rd characters of When Breath Becomes Air is he\n",
      "\n",
      "s2 is The 91-Storey Treehouse\n",
      "Length of The 91-Storey Treehouse is 23\n",
      "5th to 7th characters of The 91-Storey Treehouse is 91-\n",
      "\n",
      "s3 is Harry Potter and the Prisoner of Azkaban\n",
      "Length of Harry Potter and the Prisoner of Azkaban is 40\n",
      "Last two characters of Harry Potter and the Prisoner of Azkaban is an\n"
     ]
    }
   ],
   "source": [
    "#prompt the user to enter 3 random strings of at least 8 characters long, each separated by a comma\n",
    "random_strings = input('Please enter 3 random strings of at least 8 characters long, each separated by a comma:')\n",
    "\n",
    "s1 = random_strings.split(',')[0]\n",
    "s2 = random_strings.split(',')[1]\n",
    "s3 = random_strings.split(',')[2]\n",
    "\n",
    "len_s1 = len(s1)\n",
    "len_s2 = len(s2)\n",
    "len_s3 = len(s3)\n",
    "\n",
    "second_third_s1 = s1[1:3]\n",
    "fifth_to_seven_s2 = s2[4:7]\n",
    "last_two_s3 = s3[-2:]\n",
    "\n",
    "print(f's1 is {s1}')\n",
    "print(f'Length of {s1} is {len_s1}')\n",
    "print(f'2nd and 3rd characters of {s1} is {second_third_s1}\\n')\n",
    "\n",
    "print(f's2 is {s2}')\n",
    "print(f'Length of {s2} is {len_s2}')\n",
    "print(f'5th to 7th characters of {s2} is {fifth_to_seven_s2}\\n')\n",
    "\n",
    "print(f's3 is {s3}')\n",
    "print(f'Length of {s3} is {len_s3}')\n",
    "print(f'Last two characters of {s3} is {last_two_s3}')"
   ]
  },
  {
   "cell_type": "markdown",
   "metadata": {},
   "source": [
    "# 6. if-else statements"
   ]
  },
  {
   "cell_type": "markdown",
   "metadata": {},
   "source": [
    "#### Task 1: Odd or even"
   ]
  },
  {
   "cell_type": "code",
   "execution_count": 3,
   "metadata": {},
   "outputs": [
    {
     "name": "stdout",
     "output_type": "stream",
     "text": [
      "21 is odd\n"
     ]
    }
   ],
   "source": [
    "#ask the user for a number\n",
    "#if the input is not numeric, display an error message and exit the program\n",
    "\n",
    "num = input('Enter a number:')\n",
    "\n",
    "if num.isnumeric() == False:\n",
    "    print('You did not enter a number')\n",
    "    exit();\n",
    "else:\n",
    "    if int(num) % 2 == 0:\n",
    "        print(f'{num} is even')\n",
    "    else:\n",
    "        print(f'{num} is odd')"
   ]
  },
  {
   "cell_type": "markdown",
   "metadata": {},
   "source": [
    "#### Task 2: Spdonalds (SUBMISSION REQUIRED)"
   ]
  },
  {
   "cell_type": "code",
   "execution_count": 22,
   "metadata": {},
   "outputs": [
    {
     "name": "stdout",
     "output_type": "stream",
     "text": [
      "Welcome to SPdonalds!\n",
      "Below is our Breakfast menu:\n",
      "1. SPMuffin ($5.00)\n",
      "2. SPancakes ($3.00)\n",
      "3. SPHashbrown ($1.50)\n"
     ]
    }
   ],
   "source": [
    "from curses.ascii import isalpha\n",
    "\n",
    "def create_order_item(menu_index, menu, prices):\n",
    "  #print price of item\n",
    "    print(f'{menu[menu_index]} costs ${prices[menu_index]:.2f}')\n",
    "    \n",
    "    #prompt user for quantity\n",
    "    quantity = int(input(f'How many of {menu[menu_index]} would you like?:'))\n",
    "\n",
    "    #calculate price with quantity and store\n",
    "    subtotal = quantity*prices[menu_index]\n",
    "\n",
    "    #display subtotal\n",
    "    print(f'{quantity} X {menu[menu_index]} would cost a total of ${subtotal:.2f}\\n')\n",
    "\n",
    "    return[menu_index, quantity, subtotal]\n",
    "\n",
    "def print_order(order, menu):\n",
    "    #print the order, each item with name, quantity and subtotal\n",
    "    total = 0\n",
    "\n",
    "    print('Your order and total is:\\n')\n",
    "\n",
    "    for idx, item in enumerate(order):\n",
    "        item_Index = item[0]\n",
    "        qty = item[1]\n",
    "        sub_total = item[2]\n",
    "\n",
    "        print(f'{idx}: {menu[item_Index]} X {qty}: ${sub_total:.2f}')\n",
    "\n",
    "        total = total + sub_total #total += sub_total\n",
    "\n",
    "    #print grand total\n",
    "    print(f'Total: ${total:.2f}')\n",
    "\n",
    "print('Welcome to SPdonalds!')\n",
    "\n",
    "menu = {\n",
    "    \"SPMuffin\": 5.00,\n",
    "    \"SPancakes\": 3.00,\n",
    "    \"SPHashbrown\": 1.50\n",
    "}\n",
    "\n",
    "print('Below is our Breakfast menu:')\n",
    "\n",
    "for i, item in enumerate(menu, start=1):\n",
    "    print(f'{i}. {item} (${menu[item]:.2f})')\n",
    "\n",
    "#while True:\n",
    "#    choice = print('Enter your choice of food:')\n",
    "#\n",
    "#    if choice.upper() == 'Q':\n",
    "#        break;\n",
    "#    elif choice.upper() == 'D':\n",
    "#        #print order\n",
    "#        print_order(order, menu)\n",
    "#        #prompt user to choose\n",
    "#        delete_choice = int(input('Enter the index to delete:'))\n",
    "#        if delete_choice >= 0 and delete_choice < len(order):\n",
    "#            del(order[delete_choice])\n",
    "#        print('\\nItem removed')\n",
    "#        #delete item from list\n",
    "#        #display updated list\n",
    "#        print_order(order, menu)\n",
    "#    elif choice.isalpha() or : #error message and re-enter if user inputs a letter and not a number\n",
    "#        choice = input('That was an invalid input. Please key in the number of an item or \"Q\" to checkout:')\n",
    "#    else:\n",
    "#        menu_index = int(choice)\n",
    "#\n",
    "#        #using the membership operator 'in' to test for membershoip in sequence\n",
    "#        #print(choice in menu)\n",
    "#\n",
    "#        #if-else statements for conditionals\n",
    "#        #if choice in menu:\n",
    "#        if menu_index >= 0 and menu_index < len(menu):\n",
    "#            print('\\nGood choice')\n",
    "#\n",
    "#            #print price of item\n",
    "#            #print(f'{menu[menu_index]} costs ${prices[menu_index]:.2f}')\n",
    "#\n",
    "#            #prompt user for quantity\n",
    "#            #quantity = int(input(f'How many of {menu[menu_index]} would you like?:'))\n",
    "#\n",
    "#            #calculate price with quantity and store\n",
    "#            #subtotal = quantity*prices[menu_index]\n",
    "#\n",
    "#            #display subtotal\n",
    "#            #print(f'{quantity} X {menu[menu_index]} would cost a total of ${subtotal:.2f}')\n",
    "#\n",
    "#            #use function\n",
    "#            order_item = create_order_item(menu_index, menu, prices)\n",
    "#\n",
    "#            #add order item to list\n",
    "#            order.append(order_item)\n",
    "#\n",
    "#            #try to combine repeat items together\n",
    "#            #for y in range(len(order)):\n",
    "#            #    if order[y][0] != order_item[0]:\n",
    "#            #        order.append(order_item)\n",
    "#            #    elif order[y][0] == order_item[0]:\n",
    "#            #        for i in range(len(order)):\n",
    "#            #            order[i][0] = order_item[0]\n",
    "#            #            order[i][1] = order[i][1] + order_item[1]\n",
    "#            #            order[i][2] = order[i][2] + order_item[2]\n",
    "#            #    else:    \n",
    "#            #        quit()\n",
    "#\n",
    "#\n",
    "#        else:\n",
    "#            print(f'\\nSorry {menu_index} does not exist')"
   ]
  },
  {
   "cell_type": "code",
   "execution_count": null,
   "metadata": {},
   "outputs": [],
   "source": []
  }
 ],
 "metadata": {
  "kernelspec": {
   "display_name": "Python 3.11.0 64-bit",
   "language": "python",
   "name": "python3"
  },
  "language_info": {
   "codemirror_mode": {
    "name": "ipython",
    "version": 3
   },
   "file_extension": ".py",
   "mimetype": "text/x-python",
   "name": "python",
   "nbconvert_exporter": "python",
   "pygments_lexer": "ipython3",
   "version": "3.11.0"
  },
  "orig_nbformat": 4,
  "vscode": {
   "interpreter": {
    "hash": "aee8b7b246df8f9039afb4144a1f6fd8d2ca17a180786b69acc140d282b71a49"
   }
  }
 },
 "nbformat": 4,
 "nbformat_minor": 2
}
