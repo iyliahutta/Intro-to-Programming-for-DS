{
 "cells": [
  {
   "cell_type": "markdown",
   "metadata": {},
   "source": [
    "2. Inputs, Outputs and Variables in Python"
   ]
  },
  {
   "cell_type": "code",
   "execution_count": 2,
   "metadata": {},
   "outputs": [
    {
     "name": "stdout",
     "output_type": "stream",
     "text": [
      "Hello Iylia\n"
     ]
    }
   ],
   "source": [
    "#Task 1: Basic Inputs and Outputs in Python\n",
    "\n",
    "name = input(\"Enter your name:\")\n",
    "print(\"Hello \" + name)"
   ]
  },
  {
   "cell_type": "code",
   "execution_count": 13,
   "metadata": {},
   "outputs": [
    {
     "name": "stdout",
     "output_type": "stream",
     "text": [
      "Area of the square is:25\n",
      "Perimeter of the square is:20\n"
     ]
    }
   ],
   "source": [
    "#Task 2: Converting numeric inputs\n",
    "\n",
    "length = int(input(\"Enter the length of the square:\"))\n",
    "#print(\"Area of the square is:\" + str(length ** 2))\n",
    "print(\"Area of the square is:\" + str(pow(length,2)))\n",
    "print(\"Perimeter of the square is:\" + str(length * 4))"
   ]
  },
  {
   "cell_type": "code",
   "execution_count": 54,
   "metadata": {},
   "outputs": [
    {
     "name": "stdout",
     "output_type": "stream",
     "text": [
      "Your BMI  is  18.6\n"
     ]
    }
   ],
   "source": [
    "#Task 3: Formatting outputs\n",
    "\n",
    "weight = int(input(\"Enter your weight:\"))\n",
    "height = float(input(\"Enter your height:\"))\n",
    "print(f\"Your BMI  is  {(weight/(height ** 2)):.1f}\")"
   ]
  },
  {
   "cell_type": "code",
   "execution_count": 67,
   "metadata": {},
   "outputs": [
    {
     "name": "stdout",
     "output_type": "stream",
     "text": [
      "***********************************************************\n",
      "Calculate the average of your last 6-months electrcity bill\n",
      "***********************************************************\n",
      "Your electricity bills for the past 6 months are: $1231.12, $123123.12, $1343423.34, $24324.24. $2434.23, $24234234.24\n",
      "The average of your electricity bill is $4288128.38\n"
     ]
    }
   ],
   "source": [
    "#Task 4: Average of electricity bills (SUBMISSION REQUIRED)\n",
    "from statistics import mean, median, mode, stdev\n",
    "\n",
    "bill1 = float(input('Enter bill #1: '))\n",
    "bill2 = float(input('Enter bill #2: '))\n",
    "bill3 = float(input('Enter bill #3: '))\n",
    "bill4 = float(input('Enter bill #4: '))\n",
    "bill5 = float(input('Enter bill #5: '))\n",
    "bill6 = float(input('Enter bill #6: '))\n",
    "\n",
    "bill6mth = [bill1, bill2, bill3, bill4, bill5, bill6]\n",
    "\n",
    "border = '*'\n",
    "header = 'Calculate the average of your last 6-months electrcity bill'\n",
    "\n",
    "print(border*len(header))\n",
    "print(header)\n",
    "print(border*len(header))\n",
    "\n",
    "print(f'Your electricity bills for the past 6 months are: ${bill1:.2f}, ${bill2:.2f}, ${bill3:.2f}, ${bill4:.2f}. ${bill5:.2f}, ${bill6:.2f}')\n",
    "\n",
    "print(f'The average of your electricity bill is ${mean([bill1, bill2, bill3, bill4, bill5, bill6]):.2f}')\n",
    "#print(f'The average of your electricity bill is ${mean(bill6mth):.2f}')"
   ]
  },
  {
   "cell_type": "markdown",
   "metadata": {},
   "source": [
    "3. Using import in Python"
   ]
  },
  {
   "cell_type": "code",
   "execution_count": 69,
   "metadata": {},
   "outputs": [
    {
     "name": "stdout",
     "output_type": "stream",
     "text": [
      "Let's count down 10 now....\n",
      "Time is up!\n"
     ]
    }
   ],
   "source": [
    "#Task 1: Timer\n",
    "from time import sleep\n",
    "\n",
    "time_to_wait = input(\"Enter the number of seconds to count down:\")\n",
    "\n",
    "print(f\"Let's count down {time_to_wait} seconds now....\")\n",
    "sleep(int(time_to_wait))\n",
    "print(\"Time is up!\")"
   ]
  },
  {
   "cell_type": "code",
   "execution_count": 27,
   "metadata": {},
   "outputs": [
    {
     "ename": "TypeError",
     "evalue": "unsupported operand type(s) for -: 'datetime.datetime' and 'datetime.time'",
     "output_type": "error",
     "traceback": [
      "\u001b[0;31m---------------------------------------------------------------------------\u001b[0m",
      "\u001b[0;31mTypeError\u001b[0m                                 Traceback (most recent call last)",
      "Cell \u001b[0;32mIn [27], line 11\u001b[0m\n\u001b[1;32m      7\u001b[0m user_input \u001b[39m=\u001b[39m \u001b[39minput\u001b[39m(\u001b[39m'\u001b[39m\u001b[39mTimer starts now! Press any key + Enter as quickly as possible!\u001b[39m\u001b[39m'\u001b[39m)\n\u001b[1;32m      9\u001b[0m time_entered \u001b[39m=\u001b[39m datetime\u001b[39m.\u001b[39mnow()\n\u001b[0;32m---> 11\u001b[0m time_response \u001b[39m=\u001b[39m time_entered \u001b[39m-\u001b[39;49m time_now\n\u001b[1;32m     13\u001b[0m \u001b[39mprint\u001b[39m(\u001b[39mf\u001b[39m\u001b[39m'\u001b[39m\u001b[39mYou took \u001b[39m\u001b[39m{\u001b[39;00mtime_response\u001b[39m.\u001b[39mtotal_seconds()\u001b[39m}\u001b[39;00m\u001b[39m seconds to type \u001b[39m\u001b[39m{\u001b[39;00muser_input\u001b[39m}\u001b[39;00m\u001b[39m'\u001b[39m)\n",
      "\u001b[0;31mTypeError\u001b[0m: unsupported operand type(s) for -: 'datetime.datetime' and 'datetime.time'"
     ]
    }
   ],
   "source": [
    "#Task 2: Reaction game\n",
    "\n",
    "from datetime import datetime\n",
    "\n",
    "time_now = datetime.now()\n",
    "\n",
    "user_input = input('Timer starts now! Press any key + Enter as quickly as possible!')\n",
    "\n",
    "time_entered = datetime.now()\n",
    "\n",
    "time_response = time_entered - time_now\n",
    "\n",
    "print(f'You took {time_response.total_seconds()} seconds to type {user_input}')\n"
   ]
  },
  {
   "cell_type": "code",
   "execution_count": 13,
   "metadata": {},
   "outputs": [
    {
     "data": {
      "text/plain": [
       "datetime.time"
      ]
     },
     "execution_count": 13,
     "metadata": {},
     "output_type": "execute_result"
    }
   ],
   "source": []
  }
 ],
 "metadata": {
  "kernelspec": {
   "display_name": "Python 3.11.0 64-bit",
   "language": "python",
   "name": "python3"
  },
  "language_info": {
   "codemirror_mode": {
    "name": "ipython",
    "version": 3
   },
   "file_extension": ".py",
   "mimetype": "text/x-python",
   "name": "python",
   "nbconvert_exporter": "python",
   "pygments_lexer": "ipython3",
   "version": "3.11.0"
  },
  "orig_nbformat": 4,
  "vscode": {
   "interpreter": {
    "hash": "aee8b7b246df8f9039afb4144a1f6fd8d2ca17a180786b69acc140d282b71a49"
   }
  }
 },
 "nbformat": 4,
 "nbformat_minor": 2
}
