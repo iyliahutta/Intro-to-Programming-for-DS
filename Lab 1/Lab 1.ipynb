{
 "cells": [
  {
   "cell_type": "markdown",
   "metadata": {},
   "source": [
    "# 2. Inputs, Outputs and Variables in Python"
   ]
  },
  {
   "cell_type": "markdown",
   "metadata": {},
   "source": [
    "#### Task 1: Basic Inputs and Outputs in Python"
   ]
  },
  {
   "cell_type": "code",
   "execution_count": 2,
   "metadata": {},
   "outputs": [
    {
     "name": "stdout",
     "output_type": "stream",
     "text": [
      "Hello Iylia\n"
     ]
    }
   ],
   "source": [
    "name = input(\"Enter your name:\")\n",
    "print(\"Hello \" + name)"
   ]
  },
  {
   "cell_type": "markdown",
   "metadata": {},
   "source": [
    "#### Task 2: Converting numeric inputs"
   ]
  },
  {
   "cell_type": "code",
   "execution_count": 13,
   "metadata": {},
   "outputs": [
    {
     "name": "stdout",
     "output_type": "stream",
     "text": [
      "Area of the square is:25\n",
      "Perimeter of the square is:20\n"
     ]
    }
   ],
   "source": [
    "length = int(input(\"Enter the length of the square:\"))\n",
    "#print(\"Area of the square is:\" + str(length ** 2))\n",
    "print(\"Area of the square is:\" + str(pow(length,2)))\n",
    "print(\"Perimeter of the square is:\" + str(length * 4))"
   ]
  },
  {
   "cell_type": "markdown",
   "metadata": {},
   "source": [
    "#### Task 3: Formatting outputs"
   ]
  },
  {
   "cell_type": "code",
   "execution_count": 54,
   "metadata": {},
   "outputs": [
    {
     "name": "stdout",
     "output_type": "stream",
     "text": [
      "Your BMI  is  18.6\n"
     ]
    }
   ],
   "source": [
    "weight = int(input(\"Enter your weight:\"))\n",
    "height = float(input(\"Enter your height:\"))\n",
    "print(f\"Your BMI  is  {(weight/(height ** 2)):.1f}\")"
   ]
  },
  {
   "cell_type": "markdown",
   "metadata": {},
   "source": [
    "#### Task 4: Average of electricity bills (SUBMISSION REQUIRED)"
   ]
  },
  {
   "cell_type": "code",
   "execution_count": 67,
   "metadata": {},
   "outputs": [
    {
     "name": "stdout",
     "output_type": "stream",
     "text": [
      "***********************************************************\n",
      "Calculate the average of your last 6-months electrcity bill\n",
      "***********************************************************\n",
      "Your electricity bills for the past 6 months are: $1231.12, $123123.12, $1343423.34, $24324.24. $2434.23, $24234234.24\n",
      "The average of your electricity bill is $4288128.38\n"
     ]
    }
   ],
   "source": [
    "from statistics import mean, median, mode, stdev\n",
    "\n",
    "bill1 = float(input('Enter bill #1: '))\n",
    "bill2 = float(input('Enter bill #2: '))\n",
    "bill3 = float(input('Enter bill #3: '))\n",
    "bill4 = float(input('Enter bill #4: '))\n",
    "bill5 = float(input('Enter bill #5: '))\n",
    "bill6 = float(input('Enter bill #6: '))\n",
    "\n",
    "bill6mth = [bill1, bill2, bill3, bill4, bill5, bill6]\n",
    "\n",
    "border = '*'\n",
    "header = 'Calculate the average of your last 6-months electrcity bill'\n",
    "\n",
    "print(border*len(header))\n",
    "print(header)\n",
    "print(border*len(header))\n",
    "\n",
    "print(f'Your electricity bills for the past 6 months are: ${bill1:.2f}, ${bill2:.2f}, ${bill3:.2f}, ${bill4:.2f}. ${bill5:.2f}, ${bill6:.2f}')\n",
    "\n",
    "print(f'The average of your electricity bill is ${mean([bill1, bill2, bill3, bill4, bill5, bill6]):.2f}')\n",
    "#print(f'The average of your electricity bill is ${mean(bill6mth):.2f}')"
   ]
  },
  {
   "cell_type": "markdown",
   "metadata": {},
   "source": [
    "# 3. Using import in Python"
   ]
  },
  {
   "cell_type": "markdown",
   "metadata": {},
   "source": [
    "#### Task 1: Timer"
   ]
  },
  {
   "cell_type": "code",
   "execution_count": 69,
   "metadata": {},
   "outputs": [
    {
     "name": "stdout",
     "output_type": "stream",
     "text": [
      "Let's count down 10 now....\n",
      "Time is up!\n"
     ]
    }
   ],
   "source": [
    "from time import sleep\n",
    "\n",
    "time_to_wait = input(\"Enter the number of seconds to count down:\")\n",
    "\n",
    "print(f\"Let's count down {time_to_wait} seconds now....\")\n",
    "sleep(int(time_to_wait))\n",
    "print(\"Time is up!\")"
   ]
  },
  {
   "cell_type": "markdown",
   "metadata": {},
   "source": [
    "#### Task 2: Reaction game"
   ]
  },
  {
   "cell_type": "code",
   "execution_count": 65,
   "metadata": {},
   "outputs": [
    {
     "name": "stdout",
     "output_type": "stream",
     "text": [
      "You took 0.684866 seconds to type 2\n"
     ]
    }
   ],
   "source": [
    "from datetime import datetime\n",
    "\n",
    "time_now = datetime.now()\n",
    "\n",
    "user_input = input('Timer starts now! Press any key + Enter as quickly as possible!')\n",
    "\n",
    "time_entered = datetime.now()\n",
    "\n",
    "time_response = time_entered - time_now\n",
    "\n",
    "print(f'You took {time_response.total_seconds()} seconds to type {user_input}')\n"
   ]
  },
  {
   "cell_type": "markdown",
   "metadata": {},
   "source": [
    "#### Task 3: Days before assignment is due"
   ]
  },
  {
   "cell_type": "code",
   "execution_count": 71,
   "metadata": {},
   "outputs": [
    {
     "name": "stdout",
     "output_type": "stream",
     "text": [
      "Assignment due date is 20-Jan-2023\n",
      "2 months, 20 days till assignment is due\n"
     ]
    }
   ],
   "source": [
    "from datetime import date\n",
    "from dateutil import relativedelta as rd\n",
    "\n",
    "date_today = date.today()\n",
    "\n",
    "assignment_duedate = datetime.strptime(input('Please enter the due date of the assignment in DD-MM-YYYY format'),'%d-%m-%Y').date()\n",
    "\n",
    "number_of_months = rd.relativedelta(assignment_duedate, date_today).months\n",
    "\n",
    "number_of_days = rd.relativedelta(assignment_duedate, date_today).days\n",
    "\n",
    "print(f'Assignment due date is {assignment_duedate:%d-%b-%Y}\\n{number_of_months} months, {number_of_days} days till assignment is due')"
   ]
  },
  {
   "cell_type": "markdown",
   "metadata": {},
   "source": [
    "# 4. Working with Python numeric types"
   ]
  },
  {
   "cell_type": "markdown",
   "metadata": {},
   "source": [
    "#### Task 1: Perform basic mathematical calculations"
   ]
  },
  {
   "cell_type": "code",
   "execution_count": 82,
   "metadata": {},
   "outputs": [
    {
     "name": "stdout",
     "output_type": "stream",
     "text": [
      "The four numbers are 1, 2, 3, 4\n",
      "Sum is 10\n",
      "Difference is -3\n",
      "Product is 6\n",
      "Quotient is 0.42857142857142855\n",
      "Remainder is 2\n",
      "Power is 1\n"
     ]
    }
   ],
   "source": [
    "import math\n",
    "\n",
    "#prompt user to enter four numbers\n",
    "n1, n2, n3, n4 = int(input('Enter number 1: ')), int(input('Enter number 2: ')), int(input('Enter number 3: ')), int(input('Enter number 4: '))\n",
    "\n",
    "print(f'The four numbers are {n1}, {n2}, {n3}, {n4}')\n",
    "\n",
    "#function to sum multiple numbers\n",
    "def multi_sum(num1, *args):\n",
    "    total = num1\n",
    "    for num in args:\n",
    "        total = total + num\n",
    "    return total\n",
    "\n",
    "add = multi_sum(n1, n2, n3, n4)\n",
    "difference = n1 - n4\n",
    "product = n2 * n3\n",
    "quotient = (n1 + n2) / (n3 + n4)\n",
    "remainder = (n1 * n2) % (n3 * n4)\n",
    "powerl = int(math.pow(n1,n2))\n",
    "\n",
    "print(f'Sum is {add}\\nDifference is {difference}\\nProduct is {product}\\nQuotient is {quotient}\\nRemainder is {remainder}\\nPower is {powerl}')"
   ]
  },
  {
   "cell_type": "markdown",
   "metadata": {},
   "source": [
    "#### Task 2: Mathematical functions in Python"
   ]
  },
  {
   "cell_type": "code",
   "execution_count": null,
   "metadata": {},
   "outputs": [],
   "source": [
    "#prompt user to enter four numbers\n",
    "n1, n2, n3, n4 = int(input('Enter number 1: ')), int(input('Enter number 2: ')), int(input('Enter number 3: ')), int(input('Enter number 4: '))\n",
    "\n"
   ]
  }
 ],
 "metadata": {
  "kernelspec": {
   "display_name": "Python 3.11.0 64-bit",
   "language": "python",
   "name": "python3"
  },
  "language_info": {
   "codemirror_mode": {
    "name": "ipython",
    "version": 3
   },
   "file_extension": ".py",
   "mimetype": "text/x-python",
   "name": "python",
   "nbconvert_exporter": "python",
   "pygments_lexer": "ipython3",
   "version": "3.11.0"
  },
  "orig_nbformat": 4,
  "vscode": {
   "interpreter": {
    "hash": "aee8b7b246df8f9039afb4144a1f6fd8d2ca17a180786b69acc140d282b71a49"
   }
  }
 },
 "nbformat": 4,
 "nbformat_minor": 2
}
