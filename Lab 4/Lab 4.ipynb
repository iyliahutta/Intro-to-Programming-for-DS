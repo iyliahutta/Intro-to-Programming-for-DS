{
 "cells": [
  {
   "cell_type": "code",
   "execution_count": 3,
   "metadata": {},
   "outputs": [],
   "source": [
    "# initialise\n",
    "import pandas as pd\n",
    "import numpy as np\n",
    "import matplotlib.pyplot as plt"
   ]
  },
  {
   "attachments": {},
   "cell_type": "markdown",
   "metadata": {},
   "source": [
    "# 6. Selection\n",
    "## A. Subset columns"
   ]
  },
  {
   "attachments": {},
   "cell_type": "markdown",
   "metadata": {},
   "source": [
    "#### Task 3: Create derived columns by boolean logic"
   ]
  },
  {
   "cell_type": "code",
   "execution_count": 17,
   "metadata": {},
   "outputs": [
    {
     "name": "stdout",
     "output_type": "stream",
     "text": [
      "*** Data in 1980 column ***\n",
      "Variables\n",
      "Total                  1651500\n",
      "Single                  674100\n",
      "Married                 864600\n",
      "Widowed                  97100\n",
      "Divorced/ Separated      15800\n",
      "Males                   833500\n",
      "Single                  375800\n",
      "Married                 435900\n",
      "Widowed                  16000\n",
      "Divorced/ Separated       5700\n",
      "Females                 818000\n",
      "Single                  298300\n",
      "Married                 428700\n",
      "Widowed                  81100\n",
      "Divorced/ Separated      10100\n",
      "Name: 1980, dtype: int64\n",
      "\n",
      "Number of rows more than 500k is 5\n",
      "Number of rows less than 500k is 10\n"
     ]
    }
   ],
   "source": [
    "mydf = pd.read_excel('/Users/iylia/Library/Mobile Documents/com~apple~CloudDocs/SP/Intro to Programming for DS/Lab 4/Lab4_Dataset/singstats_maritalstatus.xlsx', index_col='Variables')\n",
    "\n",
    "print('*** Data in 1980 column ***')\n",
    "print(mydf['1980'])\n",
    "print()\n",
    "print(f\"Number of rows more than 500k is {mydf['1980'][mydf['1980']>500000].count()}\")\n",
    "print(f\"Number of rows less than 500k is {mydf['1980'][mydf['1980']<500000].count()}\")"
   ]
  },
  {
   "attachments": {},
   "cell_type": "markdown",
   "metadata": {},
   "source": [
    "#### Task 4: Select columns by regular expression"
   ]
  },
  {
   "cell_type": "code",
   "execution_count": 19,
   "metadata": {},
   "outputs": [
    {
     "name": "stdout",
     "output_type": "stream",
     "text": [
      "                        2010     2011     2012     2013     2014     2015  \\\n",
      "Variables                                                                   \n",
      "Total                3105700  3148700  3183000  3205900  3259800  3275900   \n",
      "Single               1000500  1012000  1022600  1029300  1048100  1034500   \n",
      "Married              1844600  1875900  1899000  1911500  1940100  1945600   \n",
      "Widowed               157600   157700   152300   158000   161100   172100   \n",
      "Divorced/ Separated   103100   103000   109200   107200   110600   123600   \n",
      "Males                1517400  1534200  1550000  1560900  1583900  1589600   \n",
      "Single                527100   529600   534700   535100   538500   533200   \n",
      "Married               928400   944300   952200   963100   980800   984700   \n",
      "Widowed                24900    25700    25700    25700    27300    28900   \n",
      "Divorced/ Separated    37100    34600    37500    37000    37300    42700   \n",
      "Females              1588300  1614500  1633000  1645000  1675900  1686300   \n",
      "Single                473400   482400   487900   494100   509600   501300   \n",
      "Married               916300   931600   946800   948400   959200   960900   \n",
      "Widowed               132700   132000   126700   132300   133700   143200   \n",
      "Divorced/ Separated    66000    68400    71700    70200    73300    80900   \n",
      "\n",
      "                        2016  \n",
      "Variables                     \n",
      "Total                3318500  \n",
      "Single               1049200  \n",
      "Married              1974700  \n",
      "Widowed               174600  \n",
      "Divorced/ Separated   119900  \n",
      "Males                1607500  \n",
      "Single                539700  \n",
      "Married               993900  \n",
      "Widowed                29900  \n",
      "Divorced/ Separated    44100  \n",
      "Females              1711000  \n",
      "Single                509600  \n",
      "Married               980800  \n",
      "Widowed               144700  \n",
      "Divorced/ Separated    75900  \n"
     ]
    }
   ],
   "source": [
    "df_2010_and_after = mydf.filter(regex='201.*')\n",
    "\n",
    "print(df_2010_and_after)"
   ]
  },
  {
   "attachments": {},
   "cell_type": "markdown",
   "metadata": {},
   "source": [
    "## B. Subset rows"
   ]
  },
  {
   "attachments": {},
   "cell_type": "markdown",
   "metadata": {},
   "source": [
    "#### Task 3: Select row(s) by boolean indexing"
   ]
  },
  {
   "cell_type": "code",
   "execution_count": 41,
   "metadata": {},
   "outputs": [
    {
     "data": {
      "image/png": "[encoded data removed]",
      "text/plain": [
       "<Figure size 640x480 with 1 Axes>"
      ]
     },
     "metadata": {},
     "output_type": "display_data"
    }
   ],
   "source": [
    "df_rainfall = pd.read_csv('/Users/iylia/Library/Mobile Documents/com~apple~CloudDocs/SP/Intro to Programming for DS/Lab 4/Lab4_Dataset/rainfall-monthly-total.csv', index_col='month')\n",
    "\n",
    "df_last12 = df_rainfall[df_rainfall['total_rainfall']>300].sort_values(by='total_rainfall',ascending=True).tail(12)\n",
    "\n",
    "df_last12.plot.bar()\n",
    "plt.show()"
   ]
  },
  {
   "attachments": {},
   "cell_type": "markdown",
   "metadata": {},
   "source": [
    "## A. Drop missing values with dropna"
   ]
  },
  {
   "attachments": {},
   "cell_type": "markdown",
   "metadata": {},
   "source": [
    "#### Task 1: Drop missing values with dropna"
   ]
  },
  {
   "cell_type": "code",
   "execution_count": 47,
   "metadata": {},
   "outputs": [
    {
     "name": "stdout",
     "output_type": "stream",
     "text": [
      "**** First 10 rows of original dataset ****\n",
      "                        1980  1981  1982     1983     1984     1985     1986  \\\n",
      "Variables                                                                      \n",
      "Total                1651500   NaN   NaN  1791900  1829000  1866700  1906600   \n",
      "Single                674100   NaN   NaN   728000   714300   726600   736500   \n",
      "Married               864600   NaN   NaN   951200  1005100  1020100  1039700   \n",
      "Widowed                97100   NaN   NaN   101700    92800    99200   108200   \n",
      "Divorced/ Separated    15800   NaN   NaN    11000    16700    20800    22300   \n",
      "Males                 833500   NaN   NaN   901700   912200   929800   948000   \n",
      "Single                375800   NaN   NaN   404700   393400   400100   408100   \n",
      "Married               435900   NaN   NaN   476300   499600   506500   517100   \n",
      "Widowed                16000   NaN   NaN    16600    13600    16200    15500   \n",
      "Divorced/ Separated     5700   NaN   NaN     4100     5600     7000     7300   \n",
      "\n",
      "                        1987     1988     1989  ...     2007     2008  \\\n",
      "Variables                                       ...                     \n",
      "Total                1947600  1990000  2032400  ...  2944600  2938800   \n",
      "Single                735200   745700   752800  ...   918400   918700   \n",
      "Married              1083300  1112200  1137800  ...  1787100  1783700   \n",
      "Widowed               106900   108100   116200  ...   155600   146900   \n",
      "Divorced/ Separated    22200    24100    25700  ...    83600    89500   \n",
      "Males                 974100   994400  1007900  ...  1438300  1437200   \n",
      "Single                410800   416100   418000  ...   487500   488900   \n",
      "Married               539600   553300   563800  ...   894700   896300   \n",
      "Widowed                16100    17000    17900  ...    26400    22700   \n",
      "Divorced/ Separated     7700     8000     8200  ...    29700    29300   \n",
      "\n",
      "                        2009     2010     2011     2012     2013     2014  \\\n",
      "Variables                                                                   \n",
      "Total                3034800  3105700  3148700  3183000  3205900  3259800   \n",
      "Single                957600  1000500  1012000  1022600  1029300  1048100   \n",
      "Married              1831300  1844600  1875900  1899000  1911500  1940100   \n",
      "Widowed               152700   157600   157700   152300   158000   161100   \n",
      "Divorced/ Separated    93200   103100   103000   109200   107200   110600   \n",
      "Males                1477500  1517400  1534200  1550000  1560900  1583900   \n",
      "Single                505100   527100   529600   534700   535100   538500   \n",
      "Married               913300   928400   944300   952200   963100   980800   \n",
      "Widowed                26600    24900    25700    25700    25700    27300   \n",
      "Divorced/ Separated    32400    37100    34600    37500    37000    37300   \n",
      "\n",
      "                        2015     2016  \n",
      "Variables                              \n",
      "Total                3275900  3318500  \n",
      "Single               1034500  1049200  \n",
      "Married              1945600  1974700  \n",
      "Widowed               172100   174600  \n",
      "Divorced/ Separated   123600   119900  \n",
      "Males                1589600  1607500  \n",
      "Single                533200   539700  \n",
      "Married               984700   993900  \n",
      "Widowed                28900    29900  \n",
      "Divorced/ Separated    42700    44100  \n",
      "\n",
      "[10 rows x 37 columns]\n",
      "\n",
      "**** Remaining dataset after dropping columns with missing data ****\n",
      "                        1980     1983     1984     1985     1986     1987  \\\n",
      "Variables                                                                   \n",
      "Total                1651500  1791900  1829000  1866700  1906600  1947600   \n",
      "Single                674100   728000   714300   726600   736500   735200   \n",
      "Married               864600   951200  1005100  1020100  1039700  1083300   \n",
      "Widowed                97100   101700    92800    99200   108200   106900   \n",
      "Divorced/ Separated    15800    11000    16700    20800    22300    22200   \n",
      "Males                 833500   901700   912200   929800   948000   974100   \n",
      "Single                375800   404700   393400   400100   408100   410800   \n",
      "Married               435900   476300   499600   506500   517100   539600   \n",
      "Widowed                16000    16600    13600    16200    15500    16100   \n",
      "Divorced/ Separated     5700     4100     5600     7000     7300     7700   \n",
      "\n",
      "                        1988     1989     1990     1991  ...     2007  \\\n",
      "Variables                                                ...            \n",
      "Total                1990000  2032400  2078800  2153700  ...  2944600   \n",
      "Single                745700   752800   747200   760100  ...   918400   \n",
      "Married              1112200  1137800  1176400  1240000  ...  1787100   \n",
      "Widowed               108100   116200   127300   121300  ...   155600   \n",
      "Divorced/ Separated    24100    25700    27900    32300  ...    83600   \n",
      "Males                 994400  1007900  1045600  1077800  ...  1438300   \n",
      "Single                416100   418000   422600   424900  ...   487500   \n",
      "Married               553300   563800   586700   621600  ...   894700   \n",
      "Widowed                17000    17900    26100    20100  ...    26400   \n",
      "Divorced/ Separated     8000     8200    10200    11100  ...    29700   \n",
      "\n",
      "                        2008     2009     2010     2011     2012     2013  \\\n",
      "Variables                                                                   \n",
      "Total                2938800  3034800  3105700  3148700  3183000  3205900   \n",
      "Single                918700   957600  1000500  1012000  1022600  1029300   \n",
      "Married              1783700  1831300  1844600  1875900  1899000  1911500   \n",
      "Widowed               146900   152700   157600   157700   152300   158000   \n",
      "Divorced/ Separated    89500    93200   103100   103000   109200   107200   \n",
      "Males                1437200  1477500  1517400  1534200  1550000  1560900   \n",
      "Single                488900   505100   527100   529600   534700   535100   \n",
      "Married               896300   913300   928400   944300   952200   963100   \n",
      "Widowed                22700    26600    24900    25700    25700    25700   \n",
      "Divorced/ Separated    29300    32400    37100    34600    37500    37000   \n",
      "\n",
      "                        2014     2015     2016  \n",
      "Variables                                       \n",
      "Total                3259800  3275900  3318500  \n",
      "Single               1048100  1034500  1049200  \n",
      "Married              1940100  1945600  1974700  \n",
      "Widowed               161100   172100   174600  \n",
      "Divorced/ Separated   110600   123600   119900  \n",
      "Males                1583900  1589600  1607500  \n",
      "Single                538500   533200   539700  \n",
      "Married               980800   984700   993900  \n",
      "Widowed                27300    28900    29900  \n",
      "Divorced/ Separated    37300    42700    44100  \n",
      "\n",
      "[10 rows x 35 columns]\n"
     ]
    }
   ],
   "source": [
    "mydf = pd.read_excel('/Users/iylia/Library/Mobile Documents/com~apple~CloudDocs/SP/Intro to Programming for DS/Lab 4/Lab4_Dataset/singstats_maritalstatus.xlsx', index_col='Variables',na_values='-')\n",
    "\n",
    "print('**** First 10 rows of original dataset ****')\n",
    "print(mydf.head(10))\n",
    "print()\n",
    "print('**** Remaining dataset after dropping columns with missing data ****')\n",
    "print(mydf.dropna(axis=1).head(10))"
   ]
  }
 ],
 "metadata": {
  "kernelspec": {
   "display_name": "base",
   "language": "python",
   "name": "python3"
  },
  "language_info": {
   "codemirror_mode": {
    "name": "ipython",
    "version": 3
   },
   "file_extension": ".py",
   "mimetype": "text/x-python",
   "name": "python",
   "nbconvert_exporter": "python",
   "pygments_lexer": "ipython3",
   "version": "3.9.12 (main, Apr  5 2022, 01:52:34) \n[Clang 12.0.0 ]"
  },
  "orig_nbformat": 4,
  "vscode": {
   "interpreter": {
    "hash": "a71da55772d7adf9ab2d729b63db113bf83408dc46e39b574bcbe24d0660929d"
   }
  }
 },
 "nbformat": 4,
 "nbformat_minor": 2
}
