{
 "cells": [
  {
   "cell_type": "code",
   "execution_count": 3,
   "metadata": {},
   "outputs": [],
   "source": [
    "# initialise\n",
    "import pandas as pd\n",
    "import numpy as np\n",
    "import matplotlib.pyplot as plt"
   ]
  },
  {
   "attachments": {},
   "cell_type": "markdown",
   "metadata": {},
   "source": [
    "# 6. Selection\n",
    "## A. Subset columns"
   ]
  },
  {
   "attachments": {},
   "cell_type": "markdown",
   "metadata": {},
   "source": [
    "#### Task 3: Create derived columns by boolean logic"
   ]
  },
  {
   "cell_type": "code",
   "execution_count": 17,
   "metadata": {},
   "outputs": [
    {
     "name": "stdout",
     "output_type": "stream",
     "text": [
      "*** Data in 1980 column ***\n",
      "Variables\n",
      "Total                  1651500\n",
      "Single                  674100\n",
      "Married                 864600\n",
      "Widowed                  97100\n",
      "Divorced/ Separated      15800\n",
      "Males                   833500\n",
      "Single                  375800\n",
      "Married                 435900\n",
      "Widowed                  16000\n",
      "Divorced/ Separated       5700\n",
      "Females                 818000\n",
      "Single                  298300\n",
      "Married                 428700\n",
      "Widowed                  81100\n",
      "Divorced/ Separated      10100\n",
      "Name: 1980, dtype: int64\n",
      "\n",
      "Number of rows more than 500k is 5\n",
      "Number of rows less than 500k is 10\n"
     ]
    }
   ],
   "source": [
    "mydf = pd.read_excel('/Users/iylia/Library/Mobile Documents/com~apple~CloudDocs/SP/Intro to Programming for DS/Lab 4/Lab4_Dataset/singstats_maritalstatus.xlsx', index_col='Variables')\n",
    "\n",
    "print('*** Data in 1980 column ***')\n",
    "print(mydf['1980'])\n",
    "print()\n",
    "print(f\"Number of rows more than 500k is {mydf['1980'][mydf['1980']>500000].count()}\")\n",
    "print(f\"Number of rows less than 500k is {mydf['1980'][mydf['1980']<500000].count()}\")"
   ]
  },
  {
   "cell_type": "code",
   "execution_count": null,
   "metadata": {},
   "outputs": [],
   "source": []
  }
 ],
 "metadata": {
  "kernelspec": {
   "display_name": "base",
   "language": "python",
   "name": "python3"
  },
  "language_info": {
   "codemirror_mode": {
    "name": "ipython",
    "version": 3
   },
   "file_extension": ".py",
   "mimetype": "text/x-python",
   "name": "python",
   "nbconvert_exporter": "python",
   "pygments_lexer": "ipython3",
   "version": "3.9.12"
  },
  "orig_nbformat": 4,
  "vscode": {
   "interpreter": {
    "hash": "a71da55772d7adf9ab2d729b63db113bf83408dc46e39b574bcbe24d0660929d"
   }
  }
 },
 "nbformat": 4,
 "nbformat_minor": 2
}
