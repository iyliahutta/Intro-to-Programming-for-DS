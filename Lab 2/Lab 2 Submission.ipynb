{
 "cells": [
  {
   "cell_type": "markdown",
   "metadata": {},
   "source": [
    "# 6. Manipulating Array Content"
   ]
  },
  {
   "cell_type": "markdown",
   "metadata": {},
   "source": [
    "#### Task 1: Concatenate arrays"
   ]
  },
  {
   "cell_type": "code",
   "execution_count": 5,
   "metadata": {},
   "outputs": [
    {
     "name": "stdout",
     "output_type": "stream",
     "text": [
      "(3, 3)\n",
      "(3, 3)\n",
      "(5, 3)\n",
      "[[ 1.   2.   3. ]\n",
      " [ 4.   5.   6. ]\n",
      " [ 7.   8.   9. ]\n",
      " [ 1.5  1.5  1.5]\n",
      " [ 1.5  1.5  1.5]\n",
      " [ 1.5  1.5  1.5]\n",
      " [ 0.   1.   2. ]\n",
      " [ 3.   4.   5. ]\n",
      " [ 6.   7.   8. ]\n",
      " [ 9.  10.  11. ]\n",
      " [12.  13.  14. ]]\n"
     ]
    }
   ],
   "source": [
    "import numpy as np\n",
    "\n",
    "# (a) write code to concatenate the following arrays on axis = 0\n",
    "\n",
    "a = np.array([[1,2,3],[4,5,6],[7,8,9]])\n",
    "\n",
    "b = np.full((3,3),1.5)\n",
    "\n",
    "c = np.arange(0,15).reshape(5,3)\n",
    "\n",
    "print(a.shape)\n",
    "print(b.shape)\n",
    "print(c.shape)\n",
    "\n",
    "print(np.concatenate((a,b,c)))"
   ]
  },
  {
   "cell_type": "code",
   "execution_count": 6,
   "metadata": {},
   "outputs": [
    {
     "name": "stdout",
     "output_type": "stream",
     "text": [
      "(4, 4)\n",
      "(4, 6)\n",
      "(4, 10)\n",
      "[[  1   2   3   4 185 135 140 114 105 146   0   1   2   3   4   5   6   7\n",
      "    8   9]\n",
      " [  4   5   6   7 170 176 100 120 100 117  10  11  12  13  14  15  16  17\n",
      "   18  19]\n",
      " [  7   8   9  10 125 166 154 169 103 122  20  21  22  23  24  25  26  27\n",
      "   28  29]\n",
      " [ 11  12  13  14 177 109 134 175 129 189  30  31  32  33  34  35  36  37\n",
      "   38  39]]\n"
     ]
    }
   ],
   "source": [
    "# (b) write code to concatenate the following arrays on axis = 1\n",
    "\n",
    "a = np.array([[1,2,3,4],[4,5,6,7],[7,8,9,10],[11,12,13,14]])\n",
    "\n",
    "b = np.random.randint(100,200,(4,6))\n",
    "\n",
    "c = np.arange(0,40).reshape(4,10)\n",
    "\n",
    "print(a.shape)\n",
    "print(b.shape)\n",
    "print(c.shape)\n",
    "\n",
    "print(np.concatenate((a,b,c), axis=1))"
   ]
  },
  {
   "cell_type": "markdown",
   "metadata": {},
   "source": [
    "# 8. Sorting arrays"
   ]
  },
  {
   "cell_type": "markdown",
   "metadata": {},
   "source": [
    "#### Task 1: Basic sorting"
   ]
  },
  {
   "cell_type": "code",
   "execution_count": 10,
   "metadata": {},
   "outputs": [
    {
     "name": "stdout",
     "output_type": "stream",
     "text": [
      "**Before sorting**\n",
      "[146 162 167 149 120 109 110 168 168 163]\n",
      "\n",
      "**After sorting**\n",
      "[109 110 120 146 149 162 163 167 168 168]\n"
     ]
    }
   ],
   "source": [
    "import random\n",
    "\n",
    "# (a) write code to sort the following 1d-array in-place using the sort method\n",
    "\n",
    "arr_1 = np.random.randint(100,200,10)\n",
    "\n",
    "print('**Before sorting**')\n",
    "print(arr_1)\n",
    "\n",
    "arr_1.sort()\n",
    "print('\\n**After sorting**')\n",
    "print(arr_1)"
   ]
  },
  {
   "cell_type": "code",
   "execution_count": 15,
   "metadata": {},
   "outputs": [
    {
     "name": "stdout",
     "output_type": "stream",
     "text": [
      "**Before sorting**\n",
      "[[ 8  8 17  4  4]\n",
      " [11 13 11 16  2]\n",
      " [ 7 16 12  9 14]]\n",
      "\n",
      "**After sorting**\n",
      "[[ 7  8 11  4  2]\n",
      " [ 8 13 12  9  4]\n",
      " [11 16 17 16 14]]\n"
     ]
    }
   ],
   "source": [
    "# (b) write code to sort the following 2-d array in-place by columns\n",
    "\n",
    "arr_2 = np.random.randint(1,20,(3,5))\n",
    "\n",
    "print('**Before sorting**')\n",
    "print(arr_2)\n",
    "\n",
    "arr_2.sort(axis=0)\n",
    "print('\\n**After sorting**')\n",
    "print(arr_2)"
   ]
  },
  {
   "cell_type": "code",
   "execution_count": 17,
   "metadata": {},
   "outputs": [
    {
     "name": "stdout",
     "output_type": "stream",
     "text": [
      "**Before sorting - original array**\n",
      "[[134 144 140 155 153]\n",
      " [168 126 164 138 114]]\n",
      "\n",
      "**After calling sort method - original array**\n",
      "[[134 144 140 155 153]\n",
      " [168 126 164 138 114]]\n",
      "\n",
      "After calling sort method - copy of sorted array**\n",
      "[[134 140 144 153 155]\n",
      " [114 126 138 164 168]]\n"
     ]
    }
   ],
   "source": [
    "# (c) write code to sort the following 2d-array by rows without affecting the original\n",
    "\n",
    "arr_3 = np.random.randint(100,200,(2,5))\n",
    "\n",
    "print('**Before sorting - original array**')\n",
    "print(arr_3)\n",
    "\n",
    "arr_3c = np.copy(arr_3)\n",
    "arr_3c.sort(axis=1)\n",
    "\n",
    "print('\\n**After calling sort method - original array**')\n",
    "print(arr_3)\n",
    "\n",
    "print('\\nAfter calling sort method - copy of sorted array**')\n",
    "print(arr_3c)"
   ]
  },
  {
   "cell_type": "markdown",
   "metadata": {},
   "source": [
    "# 9. Subsetting and Indexing"
   ]
  },
  {
   "cell_type": "markdown",
   "metadata": {},
   "source": [
    "#### Task 2: Boolean indexing"
   ]
  },
  {
   "cell_type": "code",
   "execution_count": 18,
   "metadata": {},
   "outputs": [],
   "source": [
    "a = np.array((np.arange(0,10),\n",
    "             np.arange(10,20),\n",
    "             np.arange(20,30),\n",
    "             np.arange(30,40)))\n",
    "\n",
    "b = np.random.randint(100,200,(3,3))"
   ]
  },
  {
   "cell_type": "code",
   "execution_count": 21,
   "metadata": {},
   "outputs": [
    {
     "name": "stdout",
     "output_type": "stream",
     "text": [
      "[[ 0  1  2  3  4  5  6  7  8  9]\n",
      " [10 11 12 13 14 15 16 17 18 19]\n",
      " [20 21 22 23 24 25 26 27 28 29]\n",
      " [30 31 32 33 34 35 36 37 38 39]]\n",
      "[ 0  2  4  6  8 10 12 14 16 18 20 22 24 26 28 30 32 34 36 38]\n"
     ]
    }
   ],
   "source": [
    "# (a) write code to return all even numbers in array a\n",
    "\n",
    "print(a)\n",
    "\n",
    "# a_even = a % 2 == 0\n",
    "# a = a[a_even]\n",
    "# print(a)\n",
    "\n",
    "print(a[a%2==0])"
   ]
  },
  {
   "cell_type": "code",
   "execution_count": 25,
   "metadata": {},
   "outputs": [
    {
     "name": "stdout",
     "output_type": "stream",
     "text": [
      "[[167 156 143]\n",
      " [114 144 177]\n",
      " [161 162 121]]\n",
      "[167 156 177 161 162]\n"
     ]
    }
   ],
   "source": [
    "# (b) write code to return all the numbers that are greater than 150 in array b\n",
    "\n",
    "print(b)\n",
    "\n",
    "# b_over_150 = b > 150\n",
    "# b = b[b_over_150]\n",
    "# print(b)\n",
    "\n",
    "print(b[b>150])"
   ]
  },
  {
   "cell_type": "markdown",
   "metadata": {},
   "source": [
    "# 11. Statistical methods"
   ]
  },
  {
   "cell_type": "markdown",
   "metadata": {},
   "source": [
    "#### Task 1: sum, mean"
   ]
  },
  {
   "cell_type": "code",
   "execution_count": null,
   "metadata": {},
   "outputs": [],
   "source": []
  },
  {
   "cell_type": "markdown",
   "metadata": {},
   "source": [
    "# 12. File I/O on Numpy arrays"
   ]
  },
  {
   "cell_type": "markdown",
   "metadata": {},
   "source": [
    "#### Task 1: Load and save a numpy array "
   ]
  },
  {
   "cell_type": "code",
   "execution_count": 20,
   "metadata": {},
   "outputs": [
    {
     "name": "stdout",
     "output_type": "stream",
     "text": [
      "There are altogether 855 rows of data in the file /Users/iylia/Library/Mobile Documents/com~apple~CloudDocs/SP/Intro to Programming for DS/Lab 2/Lab2_Dataset/singapore-residents-by-ethnic-group-and-sex-end-june-annual.csv\n",
      "\n",
      "There are 57 years of data captured from 1960 to 2016\n",
      "\n",
      "Year with the highest total number of residents: 2016\n",
      "Population Count: 3933559\n",
      "\n",
      "Year with the highest total number of residents: 1960\n",
      "Population Count: 1646400\n",
      "\n"
     ]
    }
   ],
   "source": [
    "import numpy as np\n",
    "\n",
    "### Read the csv file with the loadtxt() function\n",
    "fname = \"/Users/iylia/Library/Mobile Documents/com~apple~CloudDocs/SP/Intro to Programming for DS/Lab 2/Lab2_Dataset/singapore-residents-by-ethnic-group-and-sex-end-june-annual.csv\"\n",
    "data = np.loadtxt(fname,skiprows=1,dtype=[('year','i8'),('level_1','U50'),('value','i8')],delimiter=\",\")\n",
    "\n",
    "### Print out total rows of data in the file\n",
    "print(f\"There are altogether {len(data)} rows of data in the file {fname}\")\n",
    "print()\n",
    "\n",
    "### Print out the number of years of data captured\n",
    "data_years = data['year']  # Just extract the year column\n",
    "years = np.unique(data_years)   # Get the unique values in this column\n",
    "print(f\"There are {len(years)} years of data captured from 1960 to 2016\")\n",
    "print()\n",
    "\n",
    "### Extract only the rows with “Total Residents\" in the “level_1” column\n",
    "keyword = 'Total Residents'\n",
    "column_to_search = data['level_1']\n",
    "out = [i for i, v in enumerate(column_to_search) if keyword in v]\n",
    "data_totalresidents = data[out]\n",
    "\n",
    "### Print out the year which has the highest total number of residents\n",
    "max = data_totalresidents['value'].max()\n",
    "argmax = data_totalresidents['value'].argmax()\n",
    "print(f\"Year with the highest total number of residents: {str(data_totalresidents[argmax]['year'])}\")\n",
    "print(f\"Population Count: {str(max)}\")\n",
    "print()\n",
    "\n",
    "### Print out the year which has the lowest total number of residents\n",
    "min = data_totalresidents['value'].min()\n",
    "argmin = data_totalresidents['value'].argmin()\n",
    "\n",
    "print(f\"Year with the highest total number of residents: {str(data_totalresidents[argmin]['year'])}\")\n",
    "print(f\"Population Count: {str(min)}\")\n",
    "print()\n"
   ]
  },
  {
   "cell_type": "code",
   "execution_count": null,
   "metadata": {},
   "outputs": [],
   "source": []
  }
 ],
 "metadata": {
  "kernelspec": {
   "display_name": "Python 3.11.0 64-bit",
   "language": "python",
   "name": "python3"
  },
  "language_info": {
   "codemirror_mode": {
    "name": "ipython",
    "version": 3
   },
   "file_extension": ".py",
   "mimetype": "text/x-python",
   "name": "python",
   "nbconvert_exporter": "python",
   "pygments_lexer": "ipython3",
   "version": "3.11.0"
  },
  "orig_nbformat": 4,
  "vscode": {
   "interpreter": {
    "hash": "aee8b7b246df8f9039afb4144a1f6fd8d2ca17a180786b69acc140d282b71a49"
   }
  }
 },
 "nbformat": 4,
 "nbformat_minor": 2
}
