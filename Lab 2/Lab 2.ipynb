{
 "cells": [
  {
   "cell_type": "markdown",
   "metadata": {},
   "source": [
    "# 3. Create Numpy arrays"
   ]
  },
  {
   "cell_type": "markdown",
   "metadata": {},
   "source": [
    "#### Task 1: Create 1-d numpy array"
   ]
  },
  {
   "cell_type": "code",
   "execution_count": 20,
   "metadata": {},
   "outputs": [
    {
     "name": "stdout",
     "output_type": "stream",
     "text": [
      "[0 1 2 3 4 5 6 7]\n",
      "\n",
      "[1.2 1.4 1.6 1.8 2. ]\n",
      "\n",
      "['Mary' 'John' 'Peter' 'Christine']\n",
      "\n",
      "['2017-10-01' '2017-10-02' '2017-10-03' '2017-10-04' '2017-10-05'\n",
      " '2017-10-06' '2017-10-07' '2017-10-08' '2017-10-09' '2017-10-10'\n",
      " '2017-10-11' '2017-10-12' '2017-10-13' '2017-10-14' '2017-10-15'\n",
      " '2017-10-16' '2017-10-17' '2017-10-18' '2017-10-19' '2017-10-20'\n",
      " '2017-10-21' '2017-10-22' '2017-10-23' '2017-10-24' '2017-10-25'\n",
      " '2017-10-26' '2017-10-27' '2017-10-28' '2017-10-29' '2017-10-30']\n",
      "\n",
      "[0.9856419  0.88252984 0.91659435 0.79701539 0.76456815 0.0886444\n",
      " 0.6219601  0.92387675 0.53091992 0.52586655]\n",
      "\n",
      "[143 151 192 114 110 101 131 140 144 163 180 120 171 156 183 138 130 122\n",
      " 117 122]\n",
      "\n",
      "[ 5.          5.10204082  5.20408163  5.30612245  5.40816327  5.51020408\n",
      "  5.6122449   5.71428571  5.81632653  5.91836735  6.02040816  6.12244898\n",
      "  6.2244898   6.32653061  6.42857143  6.53061224  6.63265306  6.73469388\n",
      "  6.83673469  6.93877551  7.04081633  7.14285714  7.24489796  7.34693878\n",
      "  7.44897959  7.55102041  7.65306122  7.75510204  7.85714286  7.95918367\n",
      "  8.06122449  8.16326531  8.26530612  8.36734694  8.46938776  8.57142857\n",
      "  8.67346939  8.7755102   8.87755102  8.97959184  9.08163265  9.18367347\n",
      "  9.28571429  9.3877551   9.48979592  9.59183673  9.69387755  9.79591837\n",
      "  9.89795918 10.        ]\n",
      "\n"
     ]
    }
   ],
   "source": [
    "import numpy as np\n",
    "\n",
    "# write Python code to create 1-d Numpy arrays containing the values as follows:\n",
    "\n",
    "# (a) [0,1,2,3,4,5,6,7]\n",
    "a = np.array([0,1,2,3,4,5,6,7])\n",
    "print(a)\n",
    "print()\n",
    "\n",
    "# (b) [1.2,1.4,1.6,1.8,2.0]\n",
    "b = np.array([1.2,1.4,1.6,1.8,2.0], dtype = float)\n",
    "print(b)\n",
    "print()\n",
    "\n",
    "# (c) ['Mary', 'John', 'Peter', 'Christine']\n",
    "c = np.array(['Mary', 'John', 'Peter', 'Christine'])\n",
    "print(c)\n",
    "print()\n",
    "\n",
    "# (d) ['2017-10-01', '2017-10-02', '2017-10-03',….., '2017-10-31'] \n",
    "d = np.arange('2017-10-01', '2017-10-31', dtype='datetime64')\n",
    "print(d)\n",
    "print()\n",
    "\n",
    "# (e) 10 random decimal numbers between 0  and 1\n",
    "e = np.random.uniform(0,1,size=10)\n",
    "# e = np.random.sample(10)\n",
    "print(e)\n",
    "print()\n",
    "\n",
    "# (f) 20 random whole numbers between 100 and 200\n",
    "f = np.random.randint(100,200,size=20)\n",
    "print(f)\n",
    "print()\n",
    "\n",
    "# (g) 50 evenly spaced numbers between 5 and 10 \n",
    "g = np.linspace(5,10,50)\n",
    "print(g)\n",
    "print()"
   ]
  },
  {
   "cell_type": "markdown",
   "metadata": {},
   "source": [
    "#### Task 2: Create 2-d numpy array"
   ]
  },
  {
   "cell_type": "code",
   "execution_count": 35,
   "metadata": {},
   "outputs": [
    {
     "name": "stdout",
     "output_type": "stream",
     "text": [
      "[[1 2 3 4]\n",
      " [5 6 7 8]]\n",
      "\n",
      "[[1.5 2.5 3.5]\n",
      " [4.5 5.5 6.5]\n",
      " [7.5 8.5 9.5]]\n",
      "\n",
      "[[ 1.6  1.7  1.8]\n",
      " [ 2.5  5.   7.5]\n",
      " [20.  40.  60. ]]\n",
      "\n",
      "[[0. 0. 0. 0.]\n",
      " [0. 0. 0. 0.]\n",
      " [0. 0. 0. 0.]]\n",
      "\n",
      "[[1. 1. 1. 1. 1.]\n",
      " [1. 1. 1. 1. 1.]\n",
      " [1. 1. 1. 1. 1.]\n",
      " [1. 1. 1. 1. 1.]\n",
      " [1. 1. 1. 1. 1.]]\n",
      "\n",
      "[[10.5 10.5 10.5]\n",
      " [10.5 10.5 10.5]\n",
      " [10.5 10.5 10.5]\n",
      " [10.5 10.5 10.5]]\n",
      "\n",
      "[[1. 0. 0. 0.]\n",
      " [0. 1. 0. 0.]\n",
      " [0. 0. 1. 0.]\n",
      " [0. 0. 0. 1.]]\n",
      "\n",
      "[[1.35616048 5.67099361 3.28078367 4.92373435 2.10285092 4.53467201\n",
      "  5.30797826 3.11128793]\n",
      " [4.15120541 1.60751517 4.17946077 1.90968888 3.96715005 3.69081469\n",
      "  3.30719734 5.67846367]\n",
      " [4.64713772 1.96776158 3.8869496  5.8895509  3.54610194 5.52838278\n",
      "  3.61014953 1.7275535 ]\n",
      " [1.70391875 3.27596504 3.74064923 5.18727358 5.99849387 4.50039333\n",
      "  1.58003947 2.19896404]]\n",
      "\n"
     ]
    }
   ],
   "source": [
    "# Write Python code to create 2-d Numpy arrays containing the values as follows\n",
    "\n",
    "# (a)\t\t2x4 array [(1,2,3,4), (5,6,7,8)]\n",
    "a = np.array([(1,2,3,4), (5,6,7,8)])\n",
    "print(a)\n",
    "print()\n",
    "\n",
    "# (b)\t\t3x3 array [(1.5,2.5,3.5),(4.5,5.5,6.5),(7.5,8.5,9.5)]\n",
    "b = np.array([(1.5,2.5,3.5),(4.5,5.5,6.5),(7.5,8.5,9.5)])\n",
    "print(b)\n",
    "print()\n",
    "\n",
    "# (c)\t\t3x3 array [(1.6,1.7,1.8),(2.5,5.0,7.5),(20,40,60)]\n",
    "c = np.array([(1.6,1.7,1.8),(2.5,5.0,7.5),(20,40,60)])\n",
    "print(c)\n",
    "print()\n",
    "\n",
    "# (d)\t\t3x4 2-d array, with initial value zero\n",
    "d = np.zeros((3,4))\n",
    "print(d)\n",
    "print()\n",
    "\n",
    "# (e)\t\t5x5 2-d array with initial value one\n",
    "e = np.ones((5,5))\n",
    "print(e)\n",
    "print()\n",
    "\n",
    "# (f)\t\t4x3 2-d array with initial value 10.5\n",
    "f = np.full((4,3),10.5,dtype=float)\n",
    "print(f)\n",
    "print()\n",
    "\n",
    "# (g)\t\t4x4 identity matrix\n",
    "g = np.eye(4)\n",
    "print(g)\n",
    "print()\n",
    "\n",
    "# (h)\t\t4x8 array with random values between 1 and 6\n",
    "h = np.random.uniform(1,6,(4,8))\n",
    "print(h)\n",
    "print()"
   ]
  },
  {
   "cell_type": "markdown",
   "metadata": {},
   "source": [
    "# 4. Inspect Numpy arrays"
   ]
  },
  {
   "cell_type": "markdown",
   "metadata": {},
   "source": [
    "#### Task 1: Use the  shape, ndim, size properties and len function"
   ]
  },
  {
   "cell_type": "code",
   "execution_count": null,
   "metadata": {},
   "outputs": [],
   "source": []
  }
 ],
 "metadata": {
  "kernelspec": {
   "display_name": "Python 3.11.0 64-bit",
   "language": "python",
   "name": "python3"
  },
  "language_info": {
   "codemirror_mode": {
    "name": "ipython",
    "version": 3
   },
   "file_extension": ".py",
   "mimetype": "text/x-python",
   "name": "python",
   "nbconvert_exporter": "python",
   "pygments_lexer": "ipython3",
   "version": "3.11.0"
  },
  "orig_nbformat": 4,
  "vscode": {
   "interpreter": {
    "hash": "aee8b7b246df8f9039afb4144a1f6fd8d2ca17a180786b69acc140d282b71a49"
   }
  }
 },
 "nbformat": 4,
 "nbformat_minor": 2
}
