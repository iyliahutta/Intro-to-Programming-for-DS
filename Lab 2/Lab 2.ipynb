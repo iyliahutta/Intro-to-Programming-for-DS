{
 "cells": [
  {
   "cell_type": "code",
   "execution_count": 2,
   "metadata": {},
   "outputs": [],
   "source": [
    "# initialisation\n",
    "import numpy as np"
   ]
  },
  {
   "cell_type": "markdown",
   "metadata": {},
   "source": [
    "# 3. Create Numpy arrays"
   ]
  },
  {
   "cell_type": "markdown",
   "metadata": {},
   "source": [
    "#### Task 1: Create 1-d numpy array"
   ]
  },
  {
   "cell_type": "code",
   "execution_count": 20,
   "metadata": {},
   "outputs": [
    {
     "name": "stdout",
     "output_type": "stream",
     "text": [
      "[0 1 2 3 4 5 6 7]\n",
      "\n",
      "[1.2 1.4 1.6 1.8 2. ]\n",
      "\n",
      "['Mary' 'John' 'Peter' 'Christine']\n",
      "\n",
      "['2017-10-01' '2017-10-02' '2017-10-03' '2017-10-04' '2017-10-05'\n",
      " '2017-10-06' '2017-10-07' '2017-10-08' '2017-10-09' '2017-10-10'\n",
      " '2017-10-11' '2017-10-12' '2017-10-13' '2017-10-14' '2017-10-15'\n",
      " '2017-10-16' '2017-10-17' '2017-10-18' '2017-10-19' '2017-10-20'\n",
      " '2017-10-21' '2017-10-22' '2017-10-23' '2017-10-24' '2017-10-25'\n",
      " '2017-10-26' '2017-10-27' '2017-10-28' '2017-10-29' '2017-10-30']\n",
      "\n",
      "[0.9856419  0.88252984 0.91659435 0.79701539 0.76456815 0.0886444\n",
      " 0.6219601  0.92387675 0.53091992 0.52586655]\n",
      "\n",
      "[143 151 192 114 110 101 131 140 144 163 180 120 171 156 183 138 130 122\n",
      " 117 122]\n",
      "\n",
      "[ 5.          5.10204082  5.20408163  5.30612245  5.40816327  5.51020408\n",
      "  5.6122449   5.71428571  5.81632653  5.91836735  6.02040816  6.12244898\n",
      "  6.2244898   6.32653061  6.42857143  6.53061224  6.63265306  6.73469388\n",
      "  6.83673469  6.93877551  7.04081633  7.14285714  7.24489796  7.34693878\n",
      "  7.44897959  7.55102041  7.65306122  7.75510204  7.85714286  7.95918367\n",
      "  8.06122449  8.16326531  8.26530612  8.36734694  8.46938776  8.57142857\n",
      "  8.67346939  8.7755102   8.87755102  8.97959184  9.08163265  9.18367347\n",
      "  9.28571429  9.3877551   9.48979592  9.59183673  9.69387755  9.79591837\n",
      "  9.89795918 10.        ]\n",
      "\n"
     ]
    }
   ],
   "source": [
    "# write Python code to create 1-d Numpy arrays containing the values as follows:\n",
    "\n",
    "# (a) [0,1,2,3,4,5,6,7]\n",
    "a = np.array([0,1,2,3,4,5,6,7])\n",
    "print(a)\n",
    "print()\n",
    "\n",
    "# (b) [1.2,1.4,1.6,1.8,2.0]\n",
    "b = np.array([1.2,1.4,1.6,1.8,2.0], dtype = float)\n",
    "print(b)\n",
    "print()\n",
    "\n",
    "# (c) ['Mary', 'John', 'Peter', 'Christine']\n",
    "c = np.array(['Mary', 'John', 'Peter', 'Christine'])\n",
    "print(c)\n",
    "print()\n",
    "\n",
    "# (d) ['2017-10-01', '2017-10-02', '2017-10-03',….., '2017-10-31'] \n",
    "d = np.arange('2017-10-01', '2017-10-31', dtype='datetime64')\n",
    "print(d)\n",
    "print()\n",
    "\n",
    "# (e) 10 random decimal numbers between 0  and 1\n",
    "e = np.random.uniform(0,1,size=10)\n",
    "# e = np.random.sample(10)\n",
    "print(e)\n",
    "print()\n",
    "\n",
    "# (f) 20 random whole numbers between 100 and 200\n",
    "f = np.random.randint(100,200,size=20)\n",
    "print(f)\n",
    "print()\n",
    "\n",
    "# (g) 50 evenly spaced numbers between 5 and 10 \n",
    "g = np.linspace(5,10,50)\n",
    "print(g)\n",
    "print()"
   ]
  },
  {
   "cell_type": "markdown",
   "metadata": {},
   "source": [
    "#### Task 2: Create 2-d numpy array"
   ]
  },
  {
   "cell_type": "code",
   "execution_count": 35,
   "metadata": {},
   "outputs": [
    {
     "name": "stdout",
     "output_type": "stream",
     "text": [
      "[[1 2 3 4]\n",
      " [5 6 7 8]]\n",
      "\n",
      "[[1.5 2.5 3.5]\n",
      " [4.5 5.5 6.5]\n",
      " [7.5 8.5 9.5]]\n",
      "\n",
      "[[ 1.6  1.7  1.8]\n",
      " [ 2.5  5.   7.5]\n",
      " [20.  40.  60. ]]\n",
      "\n",
      "[[0. 0. 0. 0.]\n",
      " [0. 0. 0. 0.]\n",
      " [0. 0. 0. 0.]]\n",
      "\n",
      "[[1. 1. 1. 1. 1.]\n",
      " [1. 1. 1. 1. 1.]\n",
      " [1. 1. 1. 1. 1.]\n",
      " [1. 1. 1. 1. 1.]\n",
      " [1. 1. 1. 1. 1.]]\n",
      "\n",
      "[[10.5 10.5 10.5]\n",
      " [10.5 10.5 10.5]\n",
      " [10.5 10.5 10.5]\n",
      " [10.5 10.5 10.5]]\n",
      "\n",
      "[[1. 0. 0. 0.]\n",
      " [0. 1. 0. 0.]\n",
      " [0. 0. 1. 0.]\n",
      " [0. 0. 0. 1.]]\n",
      "\n",
      "[[1.35616048 5.67099361 3.28078367 4.92373435 2.10285092 4.53467201\n",
      "  5.30797826 3.11128793]\n",
      " [4.15120541 1.60751517 4.17946077 1.90968888 3.96715005 3.69081469\n",
      "  3.30719734 5.67846367]\n",
      " [4.64713772 1.96776158 3.8869496  5.8895509  3.54610194 5.52838278\n",
      "  3.61014953 1.7275535 ]\n",
      " [1.70391875 3.27596504 3.74064923 5.18727358 5.99849387 4.50039333\n",
      "  1.58003947 2.19896404]]\n",
      "\n"
     ]
    }
   ],
   "source": [
    "# Write Python code to create 2-d Numpy arrays containing the values as follows\n",
    "\n",
    "# (a)\t\t2x4 array [(1,2,3,4), (5,6,7,8)]\n",
    "a = np.array([(1,2,3,4), (5,6,7,8)])\n",
    "print(a)\n",
    "print()\n",
    "\n",
    "# (b)\t\t3x3 array [(1.5,2.5,3.5),(4.5,5.5,6.5),(7.5,8.5,9.5)]\n",
    "b = np.array([(1.5,2.5,3.5),(4.5,5.5,6.5),(7.5,8.5,9.5)])\n",
    "print(b)\n",
    "print()\n",
    "\n",
    "# (c)\t\t3x3 array [(1.6,1.7,1.8),(2.5,5.0,7.5),(20,40,60)]\n",
    "c = np.array([(1.6,1.7,1.8),(2.5,5.0,7.5),(20,40,60)])\n",
    "print(c)\n",
    "print()\n",
    "\n",
    "# (d)\t\t3x4 2-d array, with initial value zero\n",
    "d = np.zeros((3,4))\n",
    "print(d)\n",
    "print()\n",
    "\n",
    "# (e)\t\t5x5 2-d array with initial value one\n",
    "e = np.ones((5,5))\n",
    "print(e)\n",
    "print()\n",
    "\n",
    "# (f)\t\t4x3 2-d array with initial value 10.5\n",
    "f = np.full((4,3),10.5,dtype=float)\n",
    "print(f)\n",
    "print()\n",
    "\n",
    "# (g)\t\t4x4 identity matrix\n",
    "g = np.eye(4)\n",
    "print(g)\n",
    "print()\n",
    "\n",
    "# (h)\t\t4x8 array with random values between 1 and 6\n",
    "h = np.random.uniform(1,6,(4,8))\n",
    "print(h)\n",
    "print()"
   ]
  },
  {
   "cell_type": "markdown",
   "metadata": {},
   "source": [
    "# 4. Inspect Numpy arrays"
   ]
  },
  {
   "cell_type": "markdown",
   "metadata": {},
   "source": [
    "#### Task 1: Use the  shape, ndim, size properties and len function"
   ]
  },
  {
   "cell_type": "code",
   "execution_count": 57,
   "metadata": {},
   "outputs": [
    {
     "name": "stdout",
     "output_type": "stream",
     "text": [
      "shape\n",
      "(6,)\n",
      "(3, 4)\n",
      "(2, 2, 4)\n",
      "(4, 4)\n",
      "\n",
      "len\n",
      "6\n",
      "3\n",
      "2\n",
      "4\n",
      "\n",
      "ndim\n",
      "1\n",
      "2\n",
      "3\n",
      "2\n",
      "\n",
      "size\n",
      "6\n",
      "12\n",
      "16\n",
      "16\n"
     ]
    }
   ],
   "source": [
    "a = np.array([1.55,1.73,1.9,1.72,1.66,1.8])\n",
    "b = np.array([('red', 'green', 'yellow', 'blue'),(True,False, False, True), \n",
    "('2017-10-01', '2017-11-11', '2017-12-23', '2018-03-31')])\n",
    "c = np.array([\n",
    "        [\n",
    "            (10,9,8,7),\n",
    "            (6,5,4,3)\n",
    "        ], \n",
    "        [   (1,2,3,4),\n",
    "            (5,6,7,8)\n",
    "        ]\n",
    "]\n",
    ")\n",
    "\n",
    "# text file contains multiple datatypes, so all are indicated as string and comma as separator\n",
    "d = np.loadtxt(\"/Users/iylia/Library/Mobile Documents/com~apple~CloudDocs/SP/Intro to Programming for DS/Lab 2/Lab2_Dataset/data1.txt\",dtype=\"str\",delimiter=\",\")\n",
    "\n",
    "print(\"shape\")\n",
    "print(a.shape)\n",
    "print(b.shape)\n",
    "print(c.shape)\n",
    "print(d.shape)\n",
    "print()\n",
    "print(\"len\")\n",
    "print(len(a))\n",
    "print(len(b))\n",
    "print(len(c))\n",
    "print(len(d))\n",
    "print()\n",
    "print(\"ndim\")\n",
    "print(a.ndim)\n",
    "print(b.ndim)\n",
    "print(c.ndim)\n",
    "print(d.ndim)\n",
    "print()\n",
    "print(\"size\")\n",
    "print(a.size)\n",
    "print(b.size)\n",
    "print(c.size)\n",
    "print(d.size)"
   ]
  },
  {
   "cell_type": "markdown",
   "metadata": {},
   "source": [
    "#### Task 2: Use the type function, dtype property"
   ]
  },
  {
   "cell_type": "code",
   "execution_count": 65,
   "metadata": {},
   "outputs": [
    {
     "name": "stdout",
     "output_type": "stream",
     "text": [
      "Array 1\n",
      "<class 'numpy.ndarray'>\n",
      "float64\n",
      "\n",
      "Array 2\n",
      "<class 'numpy.ndarray'>\n",
      "<U10\n",
      "\n",
      "Array 3\n",
      "<class 'numpy.ndarray'>\n",
      "int64\n",
      "\n",
      "Array 4\n",
      "<class 'numpy.ndarray'>\n",
      "<U10\n"
     ]
    }
   ],
   "source": [
    "print(\"Array 1\")\n",
    "print(type(a))\n",
    "print(a.dtype)\n",
    "print()\n",
    "print(\"Array 2\")\n",
    "print(type(b))\n",
    "print(b.dtype)\n",
    "print()\n",
    "print(\"Array 3\")\n",
    "print(type(c))\n",
    "print(c.dtype)\n",
    "print()\n",
    "print(\"Array 4\")\n",
    "print(type(d))\n",
    "print(d.dtype)"
   ]
  },
  {
   "cell_type": "markdown",
   "metadata": {},
   "source": [
    "# 5. Manipulating Array Shapes"
   ]
  },
  {
   "cell_type": "markdown",
   "metadata": {},
   "source": [
    "#### Task 1: Flatten an array"
   ]
  },
  {
   "cell_type": "code",
   "execution_count": 71,
   "metadata": {},
   "outputs": [
    {
     "name": "stdout",
     "output_type": "stream",
     "text": [
      "['Mary' 'John' 'Bob' 'Zoe' 'Chris' 'Ann' 'Leon' 'Kathy' 'Sam']\n"
     ]
    }
   ],
   "source": [
    "# (a)\tWrite Python code to convert the multi-dimensional array a, into a 1-D array\n",
    "a = np.array([ ['Mary', 'John','Bob'], \n",
    "               ['Zoe', 'Chris','Ann'],\n",
    "               ['Leon', 'Kathy','Sam']])\n",
    "\n",
    "print(a.ravel())"
   ]
  },
  {
   "cell_type": "markdown",
   "metadata": {},
   "source": [
    "#### Task 2: Reshape arrays"
   ]
  },
  {
   "cell_type": "code",
   "execution_count": 77,
   "metadata": {},
   "outputs": [
    {
     "name": "stdout",
     "output_type": "stream",
     "text": [
      "[[15 16 17 18 19]\n",
      " [20 21 22 23 24]\n",
      " [25 26 27 28 29]]\n",
      "\n",
      "[[ 1  2  3  4]\n",
      " [ 5  6  7  8]\n",
      " [ 9 10 11 12]]\n"
     ]
    }
   ],
   "source": [
    "# (a)\tWrite Python code to convert the following 1-D array a into a 3x5 multi-dimensional array\n",
    "a = np.arange(15,30)\n",
    "\n",
    "print(a.reshape((3,5)))\n",
    "print()\n",
    "\n",
    "# (b)\tConvert the following 2x6 array b into a 3x4 array\n",
    "b = np.array([ [1,2,3,4,5,6], [7,8,9,10,11,12]])\n",
    "\n",
    "print(b.reshape((3,4)))"
   ]
  },
  {
   "cell_type": "markdown",
   "metadata": {},
   "source": [
    "#### Task 3: Transpose array"
   ]
  },
  {
   "cell_type": "code",
   "execution_count": 81,
   "metadata": {},
   "outputs": [
    {
     "name": "stdout",
     "output_type": "stream",
     "text": [
      "[[ 1  2  3  4  5  6]\n",
      " [ 7  8  9 10 11 12]]\n",
      "\n",
      "[[ 1  7]\n",
      " [ 2  8]\n",
      " [ 3  9]\n",
      " [ 4 10]\n",
      " [ 5 11]\n",
      " [ 6 12]]\n"
     ]
    }
   ],
   "source": [
    "# (a)\tWrite Python code to transpose the following array\n",
    "a = np.array([ [1,2,3,4,5,6], [7,8,9,10,11,12]])\n",
    "\n",
    "print(a)\n",
    "print()\n",
    "print(a.T)"
   ]
  },
  {
   "cell_type": "markdown",
   "metadata": {},
   "source": [
    "# 6. Manipulating Array Content"
   ]
  },
  {
   "cell_type": "markdown",
   "metadata": {},
   "source": [
    "#### Task 1: Concatenate Arrays"
   ]
  },
  {
   "cell_type": "code",
   "execution_count": 82,
   "metadata": {},
   "outputs": [
    {
     "name": "stdout",
     "output_type": "stream",
     "text": [
      "(3, 3)\n",
      "(3, 3)\n",
      "(5, 3)\n",
      "[[ 1.   2.   3. ]\n",
      " [ 4.   5.   6. ]\n",
      " [ 7.   8.   9. ]\n",
      " [ 1.5  1.5  1.5]\n",
      " [ 1.5  1.5  1.5]\n",
      " [ 1.5  1.5  1.5]\n",
      " [ 0.   1.   2. ]\n",
      " [ 3.   4.   5. ]\n",
      " [ 6.   7.   8. ]\n",
      " [ 9.  10.  11. ]\n",
      " [12.  13.  14. ]]\n"
     ]
    }
   ],
   "source": [
    "# (a) write code to concatenate the following arrays on axis = 0\n",
    "\n",
    "a = np.array([[1,2,3],[4,5,6],[7,8,9]])\n",
    "\n",
    "b = np.full((3,3),1.5)\n",
    "\n",
    "c = np.arange(0,15).reshape(5,3)\n",
    "\n",
    "print(a.shape)\n",
    "print(b.shape)\n",
    "print(c.shape)\n",
    "\n",
    "print(np.concatenate((a,b,c)))"
   ]
  },
  {
   "cell_type": "code",
   "execution_count": 84,
   "metadata": {},
   "outputs": [
    {
     "name": "stdout",
     "output_type": "stream",
     "text": [
      "(4, 4)\n",
      "(4, 6)\n",
      "(4, 10)\n",
      "[[  1   2   3   4 192 120 103 174 111 172   0   1   2   3   4   5   6   7\n",
      "    8   9]\n",
      " [  4   5   6   7 139 150 194 147 154 159  10  11  12  13  14  15  16  17\n",
      "   18  19]\n",
      " [  7   8   9  10 168 197 183 119 162 136  20  21  22  23  24  25  26  27\n",
      "   28  29]\n",
      " [ 11  12  13  14 121 190 172 157 171 187  30  31  32  33  34  35  36  37\n",
      "   38  39]]\n"
     ]
    }
   ],
   "source": [
    "# (b) write code to concatenate the following arrays on axis = 1\n",
    "\n",
    "a = np.array([[1,2,3,4],[4,5,6,7],[7,8,9,10],[11,12,13,14]])\n",
    "\n",
    "b = np.random.randint(100,200,(4,6))\n",
    "\n",
    "c = np.arange(0,40).reshape(4,10)\n",
    "\n",
    "print(a.shape)\n",
    "print(b.shape)\n",
    "print(c.shape)\n",
    "\n",
    "print(np.concatenate((a,b,c), axis=1))"
   ]
  },
  {
   "cell_type": "markdown",
   "metadata": {},
   "source": [
    "#### Task 2: Split arrays"
   ]
  },
  {
   "cell_type": "code",
   "execution_count": 4,
   "metadata": {},
   "outputs": [
    {
     "data": {
      "text/plain": [
       "[array([0, 1, 2, 3, 4]),\n",
       " array([5, 6, 7, 8, 9]),\n",
       " array([10, 11, 12, 13, 14]),\n",
       " array([15, 16, 17, 18, 19]),\n",
       " array([20, 21, 22, 23, 24]),\n",
       " array([25, 26, 27, 28, 29]),\n",
       " array([30, 31, 32, 33, 34]),\n",
       " array([35, 36, 37, 38, 39]),\n",
       " array([40, 41, 42, 43, 44]),\n",
       " array([45, 46, 47, 48, 49]),\n",
       " array([50, 51, 52, 53, 54]),\n",
       " array([55, 56, 57, 58, 59]),\n",
       " array([60, 61, 62, 63, 64]),\n",
       " array([65, 66, 67, 68, 69]),\n",
       " array([70, 71, 72, 73, 74]),\n",
       " array([75, 76, 77, 78, 79]),\n",
       " array([80, 81, 82, 83, 84]),\n",
       " array([85, 86, 87, 88, 89]),\n",
       " array([90, 91, 92, 93, 94]),\n",
       " array([95, 96, 97, 98, 99])]"
      ]
     },
     "execution_count": 4,
     "metadata": {},
     "output_type": "execute_result"
    }
   ],
   "source": [
    "# (a)\tWrite Python code to split the following array into 20 sub-arrays\n",
    "\n",
    "x = np.arange(100)\n",
    "\n",
    "np.hsplit(x,20)"
   ]
  },
  {
   "cell_type": "code",
   "execution_count": 6,
   "metadata": {},
   "outputs": [
    {
     "data": {
      "text/plain": [
       "[array([0, 1, 2, 3, 4, 5, 6, 7, 8, 9]),\n",
       " array([10, 11, 12, 13, 14, 15, 16, 17, 18, 19, 20, 21, 22, 23, 24]),\n",
       " array([25, 26, 27, 28, 29, 30, 31, 32, 33, 34, 35, 36, 37, 38, 39, 40, 41,\n",
       "        42, 43, 44]),\n",
       " array([45, 46, 47, 48, 49, 50, 51, 52, 53, 54, 55, 56, 57, 58, 59, 60, 61,\n",
       "        62, 63, 64, 65, 66, 67, 68, 69, 70, 71, 72, 73, 74]),\n",
       " array([75, 76, 77, 78, 79, 80, 81, 82, 83, 84, 85, 86, 87, 88, 89, 90, 91,\n",
       "        92, 93, 94]),\n",
       " array([95, 96, 97, 98, 99])]"
      ]
     },
     "execution_count": 6,
     "metadata": {},
     "output_type": "execute_result"
    }
   ],
   "source": [
    "# (b)\tWrite Python code to split the following array at these intervals: 10, 25, 45, 75, 95\n",
    "\n",
    "x = np.arange(100)\n",
    "\n",
    "np.hsplit(x,[10,25,45,75,95])"
   ]
  },
  {
   "cell_type": "markdown",
   "metadata": {},
   "source": [
    "# 7. Copying arrays"
   ]
  },
  {
   "cell_type": "markdown",
   "metadata": {},
   "source": [
    "#### Task 1: Make a copy of a Numpy array"
   ]
  },
  {
   "cell_type": "code",
   "execution_count": 5,
   "metadata": {},
   "outputs": [
    {
     "name": "stdout",
     "output_type": "stream",
     "text": [
      "y = [1 2 3]\n",
      "z = [1 2 3]\n",
      "\n",
      "There is no difference between y and z\n"
     ]
    }
   ],
   "source": [
    "# (a)\tWhat is the difference between y and z?\n",
    "\n",
    "x = np.array([1, 2, 3])\n",
    "\n",
    "y = x\n",
    "\n",
    "z = np.copy(x)\n",
    "\n",
    "print(f'y = {y}')\n",
    "print(f'z = {z}')\n",
    "print()\n",
    "print(f'There is no difference between y and z')"
   ]
  },
  {
   "cell_type": "code",
   "execution_count": 9,
   "metadata": {},
   "outputs": [
    {
     "name": "stdout",
     "output_type": "stream",
     "text": [
      "x = [10  2  3]\n",
      "\n",
      "After executing \"x[0] = 10\",\n",
      "x = [10  2  3]\n",
      "y = [10  2  3]\n",
      "z = [1 2 3]\n",
      "\n",
      "z becomes the original x before changing the first value in the array\n"
     ]
    }
   ],
   "source": [
    "# (b)\tWhat is the value of x, y and z after executing Line 4?\n",
    "\n",
    "x = np.array([1, 2, 3])\n",
    "\n",
    "y = x\n",
    "\n",
    "z = np.copy(x)\n",
    "\n",
    "x[0] = 10\n",
    "\n",
    "print(f'x = {x}')\n",
    "print()\n",
    "print(f'After executing \"x[0] = 10\",\\nx = {x}\\ny = {y}\\nz = {z}')\n",
    "print()\n",
    "print(f'z becomes the original x before changing the first value in the array')"
   ]
  },
  {
   "cell_type": "markdown",
   "metadata": {},
   "source": [
    "# 8. Sorting arrays"
   ]
  },
  {
   "cell_type": "markdown",
   "metadata": {},
   "source": [
    "#### Task 1: Basic sorting"
   ]
  },
  {
   "cell_type": "code",
   "execution_count": 10,
   "metadata": {},
   "outputs": [
    {
     "name": "stdout",
     "output_type": "stream",
     "text": [
      "**Before sorting**\n",
      "[125 170 193 135 161 191 127 135 149 189]\n",
      "\n",
      "**After sorting**\n",
      "[125 127 135 135 149 161 170 189 191 193]\n"
     ]
    }
   ],
   "source": [
    "# (a) write code to sort the following 1d-array in-place using the sort method\n",
    "\n",
    "arr_1 = np.random.randint(100,200,10)\n",
    "\n",
    "print('**Before sorting**')\n",
    "print(arr_1)\n",
    "\n",
    "arr_1.sort()\n",
    "print('\\n**After sorting**')\n",
    "print(arr_1)"
   ]
  },
  {
   "cell_type": "code",
   "execution_count": 11,
   "metadata": {},
   "outputs": [
    {
     "name": "stdout",
     "output_type": "stream",
     "text": [
      "**Before sorting**\n",
      "[[ 9 15  5 18  7]\n",
      " [19 13  2 14  9]\n",
      " [ 2  2  5  9 12]]\n",
      "\n",
      "**After sorting**\n",
      "[[ 2  2  2  9  7]\n",
      " [ 9 13  5 14  9]\n",
      " [19 15  5 18 12]]\n"
     ]
    }
   ],
   "source": [
    "# (b) write code to sort the following 2-d array in-place by columns\n",
    "\n",
    "arr_2 = np.random.randint(1,20,(3,5))\n",
    "\n",
    "print('**Before sorting**')\n",
    "print(arr_2)\n",
    "\n",
    "arr_2.sort(axis=0)\n",
    "print('\\n**After sorting**')\n",
    "print(arr_2)"
   ]
  },
  {
   "cell_type": "code",
   "execution_count": 12,
   "metadata": {},
   "outputs": [
    {
     "name": "stdout",
     "output_type": "stream",
     "text": [
      "**Before sorting - original array**\n",
      "[[110 105 191 118 183]\n",
      " [149 187 191 186 119]]\n",
      "\n",
      "**After calling sort method - original array**\n",
      "[[110 105 191 118 183]\n",
      " [149 187 191 186 119]]\n",
      "\n",
      "After calling sort method - copy of sorted array**\n",
      "[[105 110 118 183 191]\n",
      " [119 149 186 187 191]]\n"
     ]
    }
   ],
   "source": [
    "# (c) write code to sort the following 2d-array by rows without affecting the original\n",
    "\n",
    "arr_3 = np.random.randint(100,200,(2,5))\n",
    "\n",
    "print('**Before sorting - original array**')\n",
    "print(arr_3)\n",
    "\n",
    "arr_3c = np.copy(arr_3)\n",
    "arr_3c.sort(axis=1)\n",
    "\n",
    "print('\\n**After calling sort method - original array**')\n",
    "print(arr_3)\n",
    "\n",
    "print('\\nAfter calling sort method - copy of sorted array**')\n",
    "print(arr_3c)"
   ]
  },
  {
   "cell_type": "markdown",
   "metadata": {},
   "source": [
    "# 9. Subsetting and Indexing"
   ]
  },
  {
   "cell_type": "markdown",
   "metadata": {},
   "source": [
    "#### Task 1: Basic subsetting"
   ]
  },
  {
   "cell_type": "code",
   "execution_count": 14,
   "metadata": {},
   "outputs": [],
   "source": [
    "a = np.arange(1,100,1)\n",
    "b = np.array([[1,2,3,4],[100,200,300,400],[5,6,7,8],[9,10,11,12]])"
   ]
  },
  {
   "cell_type": "code",
   "execution_count": 19,
   "metadata": {},
   "outputs": [
    {
     "name": "stdout",
     "output_type": "stream",
     "text": [
      "\"a[3]\" = 4\n",
      "\"a[3]\" datatype = int64\n",
      "\n",
      "\"b[3]\" = [ 9 10 11 12]\n",
      "\"b[3]\" datatype = int64\n"
     ]
    }
   ],
   "source": [
    "# (a)\tWhat is the output of a[3] and b[3]? What is the datatype of each output?\n",
    "\n",
    "print(f'\"a[3]\" = {a[3]}')\n",
    "print(f'\"a[3]\" datatype = {a[3].dtype}')\n",
    "print()\n",
    "print(f'\"b[3]\" = {b[3]}')\n",
    "print(f'\"b[3]\" datatype = {b[3].dtype}')"
   ]
  },
  {
   "cell_type": "code",
   "execution_count": 21,
   "metadata": {},
   "outputs": [
    {
     "name": "stdout",
     "output_type": "stream",
     "text": [
      "The 2nd and 3rd rows of array b are [[100 200 300 400]\n",
      " [  5   6   7   8]]\n"
     ]
    }
   ],
   "source": [
    "# (b)\tWrite Python code to print out 2nd and third rows of the array b (ie [100,200,300,400] and [5,6,7,8]\n",
    "\n",
    "print(f'The 2nd and 3rd rows of array b are {b[1:3]}')"
   ]
  },
  {
   "cell_type": "code",
   "execution_count": 25,
   "metadata": {},
   "outputs": [
    {
     "name": "stdout",
     "output_type": "stream",
     "text": [
      "All the rows of the last column of array b are [  4 400   8  12]\n"
     ]
    }
   ],
   "source": [
    "# (c)\tWrite Python code to print out all the rows of the last column of array b\n",
    "\n",
    "print(f'All the rows of the last column of array b are {b[:5,3]}')"
   ]
  },
  {
   "cell_type": "code",
   "execution_count": 26,
   "metadata": {},
   "outputs": [
    {
     "name": "stdout",
     "output_type": "stream",
     "text": [
      "First column of row 2 of array b is 100\n",
      "Last column of row 2 of array b is 400\n"
     ]
    }
   ],
   "source": [
    "# (d)\tWrite Python code to print out row 2 (i.e.[ 100,200,300,400], first  and last columns of array b\n",
    "\n",
    "print(f'First column of row 2 of array b is {b[1][0]}\\nLast column of row 2 of array b is {b[1][3]}')"
   ]
  },
  {
   "cell_type": "code",
   "execution_count": 27,
   "metadata": {},
   "outputs": [
    {
     "name": "stdout",
     "output_type": "stream",
     "text": [
      "Row 3 to end and column 2 to end of array b is [[ 6  7  8]\n",
      " [10 11 12]]\n"
     ]
    }
   ],
   "source": [
    "# (e)\tWrite Python code to print out row 3 to end, column 2 to end of the array b\n",
    "\n",
    "print(f'Row 3 to end and column 2 to end of array b is {b[2:,1:]}')"
   ]
  },
  {
   "cell_type": "code",
   "execution_count": 32,
   "metadata": {},
   "outputs": [
    {
     "name": "stdout",
     "output_type": "stream",
     "text": [
      "[11 13 15 17 19 21]\n"
     ]
    }
   ],
   "source": [
    "# (f)\tWrite Python code to print out elements from index 10 to 20 with step 2 from array a\n",
    "\n",
    "print(a[10:21:2])"
   ]
  },
  {
   "cell_type": "code",
   "execution_count": 34,
   "metadata": {},
   "outputs": [
    {
     "name": "stdout",
     "output_type": "stream",
     "text": [
      "[99 98 97 96 95 94 93 92 91 90 89 88 87 86 85 84 83 82 81 80 79 78 77 76\n",
      " 75 74 73 72 71 70 69 68 67 66 65 64 63 62 61 60 59 58 57 56 55 54 53 52\n",
      " 51 50 49 48 47 46 45 44 43 42 41 40 39 38 37 36 35 34 33 32 31 30 29 28\n",
      " 27 26 25 24 23 22 21 20 19 18 17 16 15 14 13 12 11 10  9  8  7  6  5  4\n",
      "  3  2  1]\n"
     ]
    }
   ],
   "source": [
    "# (g)\tWrite Python code to select and reverse elements in array a from index 0 to the end, then print it out.\n",
    "\n",
    "print(a[::-1])"
   ]
  },
  {
   "cell_type": "markdown",
   "metadata": {},
   "source": [
    "#### Task 2: Boolean indexing"
   ]
  },
  {
   "cell_type": "code",
   "execution_count": 35,
   "metadata": {},
   "outputs": [],
   "source": [
    "a = np.array((np.arange(0,10),\n",
    "             np.arange(10,20),\n",
    "             np.arange(20,30),\n",
    "             np.arange(30,40)))\n",
    "\n",
    "b = np.random.randint(100,200,(3,3))"
   ]
  },
  {
   "cell_type": "code",
   "execution_count": 36,
   "metadata": {},
   "outputs": [
    {
     "name": "stdout",
     "output_type": "stream",
     "text": [
      "[[ 0  1  2  3  4  5  6  7  8  9]\n",
      " [10 11 12 13 14 15 16 17 18 19]\n",
      " [20 21 22 23 24 25 26 27 28 29]\n",
      " [30 31 32 33 34 35 36 37 38 39]]\n",
      "\n",
      "[ 0  2  4  6  8 10 12 14 16 18 20 22 24 26 28 30 32 34 36 38]\n"
     ]
    }
   ],
   "source": [
    "# (a) write code to return all even numbers in array a\n",
    "\n",
    "print(a)\n",
    "print()\n",
    "\n",
    "# a_even = a % 2 == 0\n",
    "# a = a[a_even]\n",
    "# print(a)\n",
    "\n",
    "print(a[a%2==0])"
   ]
  },
  {
   "cell_type": "code",
   "execution_count": 37,
   "metadata": {},
   "outputs": [
    {
     "name": "stdout",
     "output_type": "stream",
     "text": [
      "[[143 149 167]\n",
      " [129 153 138]\n",
      " [130 101 198]]\n",
      "\n",
      "[167 153 198]\n"
     ]
    }
   ],
   "source": [
    "# (b) write code to return all the numbers that are greater than 150 in array b\n",
    "\n",
    "print(b)\n",
    "print()\n",
    "\n",
    "# b_over_150 = b > 150\n",
    "# b = b[b_over_150]\n",
    "# print(b)\n",
    "\n",
    "print(b[b>150])"
   ]
  },
  {
   "cell_type": "markdown",
   "metadata": {},
   "source": [
    "#### Task 3: Indexing using WHERE"
   ]
  },
  {
   "cell_type": "code",
   "execution_count": 85,
   "metadata": {},
   "outputs": [
    {
     "name": "stdout",
     "output_type": "stream",
     "text": [
      "*** Values of where the elements are, and their rows/columns ***\n",
      "Value: 6 in row 2, column 0\n",
      "Value: 7 in row 2, column 1\n",
      "Value: 8 in row 2, column 2\n"
     ]
    }
   ],
   "source": [
    "# Given the following Numpy array,  print out the values and the rows and indexes where the element is greater than 5.\n",
    "\n",
    "b = np.arange(9.).reshape(3, 3)\n",
    "# Hint: A new Numpy array b5 containing the indices of wherever 5 occurs is created\n",
    "# You can iterate through b5 to identify the exact row and column of each index\n",
    "b5 = np.where( b > 5 )\n",
    "# b5i = list(map(list, zip(*b5))) # convert tuple of row and column indices arrays into two lists then zip into list of paired indices and save as one list\n",
    "\n",
    "print(f'*** Values of where the elements are, and their rows/columns ***')\n",
    "for r,c in list(map(list, zip(*b5))):\n",
    "    print(f'Value: {b[r][c]:.0f} in row {r}, column {c}')"
   ]
  },
  {
   "cell_type": "markdown",
   "metadata": {},
   "source": [
    "# 10. Array Math"
   ]
  },
  {
   "cell_type": "markdown",
   "metadata": {},
   "source": [
    "#### Task 1: Add, subtract, multiply and divide numpy arrays"
   ]
  },
  {
   "cell_type": "code",
   "execution_count": 3,
   "metadata": {},
   "outputs": [],
   "source": [
    "# initialising arrays for part 10\n",
    "\n",
    "a = np.arange(100,200,1).reshape(20,5) \n",
    "b = np.arange(1,2000,20).reshape(10,10) \n",
    "c = np.array([[1,2,3],[4,5,6]])"
   ]
  },
  {
   "cell_type": "code",
   "execution_count": 6,
   "metadata": {},
   "outputs": [
    {
     "ename": "ValueError",
     "evalue": "operands could not be broadcast together with shapes (20,5) (10,10) ",
     "output_type": "error",
     "traceback": [
      "\u001b[0;31m---------------------------------------------------------------------------\u001b[0m",
      "\u001b[0;31mValueError\u001b[0m                                Traceback (most recent call last)",
      "Cell \u001b[0;32mIn [6], line 3\u001b[0m\n\u001b[1;32m      1\u001b[0m \u001b[39m# (a)\tWhat happens when you try to perform the following operations on array a and array b?\u001b[39;00m\n\u001b[0;32m----> 3\u001b[0m np\u001b[39m.\u001b[39;49madd(a,b)\n",
      "\u001b[0;31mValueError\u001b[0m: operands could not be broadcast together with shapes (20,5) (10,10) "
     ]
    }
   ],
   "source": [
    "# (a)\tWhat happens when you try to perform the following operations on array a and array b?\n",
    "\n",
    "np.add(a,b)\n",
    "# print(a+b)\n",
    "\n",
    "# the array cannot be printed as their shapes are different"
   ]
  },
  {
   "cell_type": "code",
   "execution_count": 9,
   "metadata": {},
   "outputs": [
    {
     "name": "stdout",
     "output_type": "stream",
     "text": [
      "[[104 192 149 105 121]\n",
      " [131 149 195 184 193]\n",
      " [156 165 204 168 211]\n",
      " [166 129 183 135 177]\n",
      " [148 192 167 152 219]\n",
      " [133 153 203 156 152]\n",
      " [207 203 149 190 159]\n",
      " [192 187 159 197 221]\n",
      " [178 226 197 211 148]\n",
      " [177 196 174 205 187]\n",
      " [213 166 199 225 179]\n",
      " [235 177 217 224 212]\n",
      " [202 168 165 219 195]\n",
      " [249 260 177 217 187]\n",
      " [243 259 206 184 198]\n",
      " [273 250 234 234 272]\n",
      " [212 217 259 244 206]\n",
      " [186 190 214 263 285]\n",
      " [285 197 240 281 209]\n",
      " [274 274 240 240 262]]\n"
     ]
    }
   ],
   "source": [
    "# (b)\tCreate an array a2 that has the same shape as array a, containing random numbers between 0 and 100. Print the contents of the resulting array when a and a2 are added together.\n",
    "\n",
    "a2 = np.random.randint(0,100,size = (20,5))\n",
    "\n",
    "print(np.add(a,a2))"
   ]
  },
  {
   "cell_type": "code",
   "execution_count": 22,
   "metadata": {},
   "outputs": [
    {
     "name": "stdout",
     "output_type": "stream",
     "text": [
      "[[1420  839 1218]\n",
      " [ 797  496  615]]\n"
     ]
    }
   ],
   "source": [
    "# (c)\tExtract a subset of array b into an array variable b1, such that you can perform a subtraction operation of (b1 – c) successfully.  Print out the resulting contents of the array of this operation.\n",
    "\n",
    "# shape of c is (2.3)\n",
    "# shape of b is (10,10)\n",
    "\n",
    "b1 = np.random.choice(b\n",
    "                        .flatten(), \n",
    "                        size = (2,3)) # subset of b in same shape of c\n",
    "\n",
    "print(np\n",
    "        .subtract(b1,c))"
   ]
  },
  {
   "cell_type": "code",
   "execution_count": 31,
   "metadata": {},
   "outputs": [],
   "source": [
    "# (d)\tExtract a subset of array a into an array variable a2, \n",
    "\n",
    "# •\twhere a2 contains numbers that are even\n",
    "# •\ta2 is the same shape as array c\n",
    "\n",
    "a2 = np.random.choice(a[a%2==0] # subset a where a2 contanins even numbers\n",
    "                        .flatten(), # flatten subset as np.random.choice only takes 1-D arrays\n",
    "                        size = (2,3)) # change shape to be same as array c"
   ]
  },
  {
   "cell_type": "code",
   "execution_count": 33,
   "metadata": {},
   "outputs": [
    {
     "name": "stdout",
     "output_type": "stream",
     "text": [
      "[[19.2         8.4         4.        ]\n",
      " [ 3.          3.76        2.46666667]]\n"
     ]
    }
   ],
   "source": [
    "# (e)\tCreate an array c2 such that c2 contains the values of array c multiplied by 10.\n",
    "\n",
    "# Using the array a2 created in part (d), perform a division operation of (a2 / c2) and print out the resulting contents of the array of this operation.\n",
    "\n",
    "c2 = np.multiply(c,10)\n",
    "\n",
    "print(np.divide(a2,c2))"
   ]
  },
  {
   "cell_type": "markdown",
   "metadata": {},
   "source": [
    "# 11. Statistical Methods"
   ]
  },
  {
   "cell_type": "markdown",
   "metadata": {},
   "source": [
    "#### Task 1: sum, mean (SUBMISSION REQUIRED)"
   ]
  },
  {
   "cell_type": "code",
   "execution_count": 34,
   "metadata": {},
   "outputs": [
    {
     "name": "stdout",
     "output_type": "stream",
     "text": [
      "Contents of array a\n",
      "[[ 0  1  2  3  4  5  6  7  8  9]\n",
      " [10 11 12 13 14 15 16 17 18 19]\n",
      " [20 21 22 23 24 25 26 27 28 29]\n",
      " [30 31 32 33 34 35 36 37 38 39]]\n",
      "\n",
      "*** Sum of all numbers in a ***\n",
      "780\n",
      "\n",
      "*** Mean of all numbers in a ***\n",
      "19.5\n",
      "\n",
      "*** Sum of all numbers in each row ***\n",
      "Row 1 sum = 45\n",
      "Row 2 sum = 145\n",
      "Row 3 sum = 245\n",
      "Row 4 sum = 345\n"
     ]
    }
   ],
   "source": [
    "a = np.array((np.arange(0,10),\n",
    "             np.arange(10,20),\n",
    "             np.arange(20,30),\n",
    "             np.arange(30,40)))\n",
    "\n",
    "print(\"Contents of array a\")\n",
    "print(a)\n",
    "print()\n",
    "\n",
    "# (a)\tWhat is the sum of all the numbers in array a?\n",
    "print(\"*** Sum of all numbers in a ***\")\n",
    "print(a.sum())\n",
    "print()\n",
    "\n",
    "# (b)\tWhat is their mean?\n",
    "print(\"*** Mean of all numbers in a ***\")\n",
    "print(a.mean())\n",
    "print()\n",
    "\n",
    "# (c)\tWhat is the sum of all the numbers in each row?\n",
    "print(\"*** Sum of all numbers in each row ***\")\n",
    "print(f\"Row 1 sum = {a.sum(axis=1)[0]}\")\n",
    "print(f\"Row 2 sum = {a.sum(axis=1)[1]}\")\n",
    "print(f\"Row 3 sum = {a.sum(axis=1)[2]}\")\n",
    "print(f\"Row 4 sum = {a.sum(axis=1)[3]}\")"
   ]
  },
  {
   "cell_type": "markdown",
   "metadata": {},
   "source": [
    "#### Task 2: std, var"
   ]
  },
  {
   "cell_type": "code",
   "execution_count": 46,
   "metadata": {},
   "outputs": [
    {
     "name": "stdout",
     "output_type": "stream",
     "text": [
      "Contents of array a\n",
      "[10.  10.5 11.  11.5 12.  12.5 13.  13.5 14.  14.5 15.  15.5 16.  16.5\n",
      " 17.  17.5 18.  18.5 19.  19.5 20.  20.5 21.  21.5 22.  22.5 23.  23.5\n",
      " 24.  24.5 25.  25.5 26.  26.5 27.  27.5 28.  28.5 29.  29.5 30.  30.5\n",
      " 31.  31.5 32.  32.5 33.  33.5 34.  34.5 35.  35.5 36.  36.5 37.  37.5\n",
      " 38.  38.5 39.  39.5 40.  40.5 41.  41.5 42.  42.5 43.  43.5 44.  44.5\n",
      " 45.  45.5 46.  46.5 47.  47.5 48.  48.5 49.  49.5]\n",
      "\n",
      "Contents of array b\n",
      "[10.  10.1 10.2 10.3 10.4 10.5 10.6 10.7 10.8 10.9 11.  11.1 11.2 11.3\n",
      " 11.4 11.5 11.6 11.7 11.8 11.9 12.  12.1 12.2 12.3 12.4 12.5 12.6 12.7\n",
      " 12.8 12.9 13.  13.1 13.2 13.3 13.4 13.5 13.6 13.7 13.8 13.9 14.  14.1\n",
      " 14.2 14.3 14.4 14.5 14.6 14.7 14.8 14.9 15.  15.1 15.2 15.3 15.4 15.5\n",
      " 15.6 15.7 15.8 15.9 16.  16.1 16.2 16.3 16.4 16.5 16.6 16.7 16.8 16.9\n",
      " 17.  17.1 17.2 17.3 17.4 17.5 17.6 17.7 17.8 17.9 18.  18.1 18.2 18.3\n",
      " 18.4 18.5 18.6 18.7 18.8 18.9 19.  19.1 19.2 19.3 19.4 19.5 19.6 19.7\n",
      " 19.8 19.9]\n",
      "\n",
      "*** Standard deviation ***\n",
      "SD of a = 11.5461032388\n",
      "SD of b = 2.88660700477\n",
      "\n",
      "*** Variance ***\n",
      "VAR of a = 133.3125\n",
      "VAR of b = 8.3325\n"
     ]
    }
   ],
   "source": [
    "a = np.arange(10, 50, 0.5)\n",
    "b = np.arange(10, 20, 0.1)\n",
    "\n",
    "print(f'Contents of array a\\n{a}')\n",
    "print()\n",
    "print(f'Contents of array b\\n{b}')\n",
    "print()\n",
    "\n",
    "# (a)\tWhat is the standard deviation of arrays a and b?\n",
    "\n",
    "print('*** Standard deviation ***')\n",
    "print(f'SD of a = {np.std(a):.10f}')\n",
    "print(f'SD of b = {np.std(b):.11f}')\n",
    "print()\n",
    "\n",
    "# (b)\tWhat is the variance of arrays a and b?\n",
    "print('*** Variance ***')\n",
    "print(f'VAR of a = {(np.std(a))**2:.4f}')\n",
    "print(f'VAR of b = {(np.std(b))**2:.4f}')"
   ]
  },
  {
   "cell_type": "markdown",
   "metadata": {},
   "source": [
    "#### Task 3: min/max, argmin/argmax"
   ]
  },
  {
   "cell_type": "code",
   "execution_count": 129,
   "metadata": {},
   "outputs": [
    {
     "name": "stdout",
     "output_type": "stream",
     "text": [
      "***Contents of array a***\n",
      "[[ 79 543  22 792]\n",
      " [308 383 908 366]\n",
      " [445 216 661 911]]\n",
      "\n",
      "Max a at row 0 is 792\n",
      "Max a at row 1 is 908\n",
      "Max a at row 2 is 911\n",
      "\n",
      "Max a = 911\n",
      "Row and Column of 911 is ([2],[3])\n",
      "\n",
      "Min a at row 0 is 22\n",
      "Min a at row 1 is 308\n",
      "Min a at row 2 is 216\n",
      "\n",
      "Min a = 22\n",
      "Row and Column of 22 is ([0],[2])\n"
     ]
    }
   ],
   "source": [
    "a = np.random.randint(1,1000,(3,4))\n",
    "\n",
    "# Print out the following information:\n",
    "# •\tmaximum value of each row in array a\n",
    "# •\tmaximum value of the entire array a\n",
    "# •\trow and column that has the number with the maximum value in array a\n",
    "# •\tminimum value of each column in array a\n",
    "# •\tminimum value of the entire array a\n",
    "# •\trow and column that has the number with the minimum value in array a\n",
    "\n",
    "print('***Contents of array a***')\n",
    "print(a)\n",
    "print()\n",
    "# for idx, row in enumerate(a):\n",
    "#     print(f'Max a at row {idx} is {a[idx].max()}')\n",
    "for row, idx in enumerate(a.argmax(axis=1)): # enumerating argmax outputs the row index and the index of the value in that row\n",
    "    print(f'Max a at row {row} is {a[row,idx]}')\n",
    "print()\n",
    "print(f'Max a = {a.max()}')\n",
    "print(f'Row and Column of {a.max()} is ([{list(map(list, zip(*np.where(a == a.max()))))[0][0]}],[{list(map(list, zip(*np.where(a == a.max()))))[0][1]}])')\n",
    "print()\n",
    "for row, idx in enumerate(a.argmin(axis=1)):\n",
    "    print(f'Min a at row {row} is {a[row,idx]}')\n",
    "print()\n",
    "print(f'Min a = {a.min()}')\n",
    "print(f'Row and Column of {a.min()} is ([{list(map(list, zip(*np.where(a == a.min()))))[0][0]}],[{list(map(list, zip(*np.where(a == a.min()))))[0][1]}])')\n"
   ]
  },
  {
   "cell_type": "markdown",
   "metadata": {},
   "source": [
    "#### Task 4: cumsum, cumprod"
   ]
  },
  {
   "cell_type": "code",
   "execution_count": null,
   "metadata": {},
   "outputs": [],
   "source": []
  }
 ],
 "metadata": {
  "kernelspec": {
   "display_name": "Python 3.11.0 64-bit",
   "language": "python",
   "name": "python3"
  },
  "language_info": {
   "codemirror_mode": {
    "name": "ipython",
    "version": 3
   },
   "file_extension": ".py",
   "mimetype": "text/x-python",
   "name": "python",
   "nbconvert_exporter": "python",
   "pygments_lexer": "ipython3",
   "version": "3.11.0"
  },
  "orig_nbformat": 4,
  "vscode": {
   "interpreter": {
    "hash": "aee8b7b246df8f9039afb4144a1f6fd8d2ca17a180786b69acc140d282b71a49"
   }
  }
 },
 "nbformat": 4,
 "nbformat_minor": 2
}
