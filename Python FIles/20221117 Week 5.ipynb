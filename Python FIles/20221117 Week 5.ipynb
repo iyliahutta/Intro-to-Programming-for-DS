{
 "cells": [
  {
   "cell_type": "code",
   "execution_count": 7,
   "metadata": {},
   "outputs": [
    {
     "name": "stdout",
     "output_type": "stream",
     "text": [
      "(2, 2, 3)\n",
      "[[[17 14 17]\n",
      "  [29 21 24]]\n",
      "\n",
      " [[ 4  1  0]\n",
      "  [ 6  9  5]]]\n"
     ]
    }
   ],
   "source": [
    "import numpy as np\n",
    "\n",
    "# playing with 3d array sorting\n",
    "d = np.array([\n",
    "    [\n",
    "        [29,21,24],\n",
    "        [17,14,17]\n",
    "    ],\n",
    "    [\n",
    "        [4,1,5],\n",
    "        [6,9,0]\n",
    "    ]\n",
    "])\n",
    "\n",
    "print(d.shape)\n",
    "d.sort(axis=1)\n",
    "print(d)"
   ]
  },
  {
   "cell_type": "code",
   "execution_count": 13,
   "metadata": {},
   "outputs": [
    {
     "name": "stdout",
     "output_type": "stream",
     "text": [
      "(3, 2, 2, 3)\n",
      "[[[[ 21  24  29]\n",
      "   [ 14  17  17]]\n",
      "\n",
      "  [[ 21  24  29]\n",
      "   [ 14  17  17]]]\n",
      "\n",
      "\n",
      " [[[  1   4   5]\n",
      "   [  0   6   9]]\n",
      "\n",
      "  [[ 21  24  29]\n",
      "   [ 14  17  17]]]\n",
      "\n",
      "\n",
      " [[[232 654 679]\n",
      "   [203 584 904]]\n",
      "\n",
      "  [[ 21  24  29]\n",
      "   [ 14  17  17]]]]\n"
     ]
    }
   ],
   "source": [
    "# playing with 4d array sorting\n",
    "e = np.array([\n",
    "    [\n",
    "        [\n",
    "            [29,21,24],\n",
    "            [17,14,17]\n",
    "        ],\n",
    "        [\n",
    "            [29,21,24],\n",
    "            [17,14,17]\n",
    "        ]\n",
    "    ],\n",
    "    [\n",
    "        [\n",
    "            [4,1,5],\n",
    "            [6,9,0]\n",
    "        ],\n",
    "        [\n",
    "            [29,21,24],\n",
    "            [17,14,17]\n",
    "        ]\n",
    "    ],\n",
    "    [\n",
    "        [\n",
    "            [232,654,679],\n",
    "            [584,904,203]\n",
    "        ],\n",
    "        [\n",
    "            [29,21,24],\n",
    "            [17,14,17]\n",
    "        ]\n",
    "    ],\n",
    "])\n",
    "\n",
    "print(e.shape)\n",
    "e.sort(axis=3)\n",
    "print(e)"
   ]
  }
 ],
 "metadata": {
  "kernelspec": {
   "display_name": "Python 3.11.0 64-bit",
   "language": "python",
   "name": "python3"
  },
  "language_info": {
   "codemirror_mode": {
    "name": "ipython",
    "version": 3
   },
   "file_extension": ".py",
   "mimetype": "text/x-python",
   "name": "python",
   "nbconvert_exporter": "python",
   "pygments_lexer": "ipython3",
   "version": "3.11.0"
  },
  "orig_nbformat": 4,
  "vscode": {
   "interpreter": {
    "hash": "aee8b7b246df8f9039afb4144a1f6fd8d2ca17a180786b69acc140d282b71a49"
   }
  }
 },
 "nbformat": 4,
 "nbformat_minor": 2
}
