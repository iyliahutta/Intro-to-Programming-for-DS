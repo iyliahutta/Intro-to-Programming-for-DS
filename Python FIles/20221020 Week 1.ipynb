{
 "cells": [
  {
   "cell_type": "code",
   "execution_count": 10,
   "metadata": {},
   "outputs": [
    {
     "name": "stdout",
     "output_type": "stream",
     "text": [
      "Hello Iylia\n"
     ]
    }
   ],
   "source": [
    "name = input(\"What's your name?\")\n",
    "print('Hello ' + name)"
   ]
  },
  {
   "cell_type": "code",
   "execution_count": 9,
   "metadata": {},
   "outputs": [
    {
     "data": {
      "text/plain": [
       "'today'"
      ]
     },
     "execution_count": 9,
     "metadata": {},
     "output_type": "execute_result"
    }
   ],
   "source": [
    "var1 = 'today'\n",
    "\n",
    "var1"
   ]
  },
  {
   "cell_type": "code",
   "execution_count": 12,
   "metadata": {},
   "outputs": [
    {
     "name": "stdout",
     "output_type": "stream",
     "text": [
      "you are 26\n"
     ]
    }
   ],
   "source": [
    "age = int(input('What is your age?'))\n",
    "print('you are ' + str(age))"
   ]
  },
  {
   "cell_type": "code",
   "execution_count": 17,
   "metadata": {},
   "outputs": [
    {
     "name": "stdout",
     "output_type": "stream",
     "text": [
      "Your weight is 52.0\n",
      "Your height is 1.67\n",
      "your bmi is 18.6453\n"
     ]
    }
   ],
   "source": [
    "weight = float(input('What is your weight?'))\n",
    "height = float(input('What is your height?'))\n",
    "\n",
    "print('Your weight is ' + str(weight))\n",
    "print('Your height is ' + str(height))\n",
    "\n",
    "bmi = weight/(height*height)\n",
    "\n",
    "#the {} are placeholders for formats\n",
    "#can google to see how placeholders works for formats\n",
    "output = 'your bmi is {:.4f}'\n",
    "\n",
    "print(output.format(bmi))\n",
    "\n",
    "#print('your bmi is {:.4f}'.format(bmi))\n",
    "#print(f'your bmi is {bmi:.4f}')"
   ]
  },
  {
   "cell_type": "code",
   "execution_count": 21,
   "metadata": {},
   "outputs": [
    {
     "name": "stdout",
     "output_type": "stream",
     "text": [
      "your bmi is 18.65\n"
     ]
    }
   ],
   "source": [
    "print(f'your bmi is {bmi:.4f}')"
   ]
  },
  {
   "cell_type": "code",
   "execution_count": 22,
   "metadata": {},
   "outputs": [
    {
     "name": "stdout",
     "output_type": "stream",
     "text": [
      "33\n"
     ]
    }
   ],
   "source": [
    "#generating a random number\n",
    "\n",
    "import random\n",
    "secret_number = random.randint(1,100)\n",
    "print(secret_number)"
   ]
  },
  {
   "cell_type": "code",
   "execution_count": 25,
   "metadata": {},
   "outputs": [
    {
     "name": "stdout",
     "output_type": "stream",
     "text": [
      "Today is 20 October 2022 8:49 PM\n"
     ]
    }
   ],
   "source": [
    "from datetime import datetime\n",
    "\n",
    "now = datetime.now()\n",
    "\n",
    "#print('Today is {:%-d %B %Y %-I:%M %p}'.format(now))\n",
    "print(f'Today is {now:%-d %B %Y %-I:%M %p}')"
   ]
  },
  {
   "cell_type": "code",
   "execution_count": 27,
   "metadata": {},
   "outputs": [
    {
     "name": "stdout",
     "output_type": "stream",
     "text": [
      "16\n",
      "0.25\n",
      "2\n",
      "256\n",
      "3.5\n"
     ]
    }
   ],
   "source": [
    "x = 2\n",
    "y = 8\n",
    "z = 3.459\n",
    "print(x*y)    # product of x and y  output: 16\n",
    "print(x/y)    # quotient of x and y  output: 0.25\n",
    "print(x % y)  # remainder of  x divided by y   output: 2\n",
    "print(x**y)  # x to the power of y   output: 256\n",
    "print(round(z,1))   # z rounded to 1 decimal place  output: 3.5\n",
    "\n",
    "#float is a higher order than integer so if calculate float and integer, python will use float as result"
   ]
  },
  {
   "cell_type": "code",
   "execution_count": 31,
   "metadata": {},
   "outputs": [
    {
     "name": "stdout",
     "output_type": "stream",
     "text": [
      "6.918\n"
     ]
    },
    {
     "data": {
      "text/plain": [
       "float"
      ]
     },
     "execution_count": 31,
     "metadata": {},
     "output_type": "execute_result"
    }
   ],
   "source": [
    "d = x * z\n",
    "\n",
    "#float is a higher order than integer so if calculate float and integer, python will use float as result\n",
    "print(d)\n",
    "\n",
    "type(d) #check class of object"
   ]
  },
  {
   "cell_type": "code",
   "execution_count": 32,
   "metadata": {},
   "outputs": [
    {
     "name": "stdout",
     "output_type": "stream",
     "text": [
      "HELLO WORL\n"
     ]
    }
   ],
   "source": [
    "text = 'HELLO WORLD, IM PYTHON' #strings are a list of characters\n",
    "\n",
    "print(text[:10]) #print everything up to the 10th character"
   ]
  },
  {
   "cell_type": "code",
   "execution_count": 33,
   "metadata": {},
   "outputs": [
    {
     "name": "stdout",
     "output_type": "stream",
     "text": [
      "D, IM PYTHON\n"
     ]
    }
   ],
   "source": [
    "print(text[10:]) #print from the 10th character"
   ]
  },
  {
   "cell_type": "code",
   "execution_count": 34,
   "metadata": {},
   "outputs": [
    {
     "name": "stdout",
     "output_type": "stream",
     "text": [
      "NOHTYP MI ,DLROW OLLEH\n"
     ]
    }
   ],
   "source": [
    "print(text[::-1]) #print everything backwards\n",
    "#the 3rd argument in subsetting is stepper"
   ]
  },
  {
   "cell_type": "code",
   "execution_count": 36,
   "metadata": {},
   "outputs": [
    {
     "name": "stdout",
     "output_type": "stream",
     "text": [
      "['fksdhjfas', '3892740932', 'dfljkhsdf', 'fsdkjf1312']\n"
     ]
    }
   ],
   "source": [
    "number = 'fksdhjfas|3892740932|dfljkhsdf|fsdkjf1312'\n",
    "\n",
    "print(number.split(sep=\"|\"))"
   ]
  },
  {
   "cell_type": "code",
   "execution_count": null,
   "metadata": {},
   "outputs": [],
   "source": []
  }
 ],
 "metadata": {
  "kernelspec": {
   "display_name": "Python 3.10.7 64-bit",
   "language": "python",
   "name": "python3"
  },
  "language_info": {
   "codemirror_mode": {
    "name": "ipython",
    "version": 3
   },
   "file_extension": ".py",
   "mimetype": "text/x-python",
   "name": "python",
   "nbconvert_exporter": "python",
   "pygments_lexer": "ipython3",
   "version": "3.10.7"
  },
  "orig_nbformat": 4,
  "vscode": {
   "interpreter": {
    "hash": "b0fa6594d8f4cbf19f97940f81e996739fb7646882a419484c72d19e05852a7e"
   }
  }
 },
 "nbformat": 4,
 "nbformat_minor": 2
}
