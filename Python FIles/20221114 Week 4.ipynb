{
 "cells": [
  {
   "cell_type": "code",
   "execution_count": 12,
   "metadata": {},
   "outputs": [],
   "source": [
    "import numpy as np\n",
    "\n",
    "d = np.loadtxt(\n",
    "    '/Users/iylia/Library/Mobile Documents/com~apple~CloudDocs/SP/Intro to Programming for DS/Lab 2/Lab2_Dataset/situps.csv',\n",
    "    delimiter = ',',\n",
    "    skiprows = 1,\n",
    "    dtype = [\n",
    "        ('StudentID','u8'),\n",
    "        ('NumberOfSitups','U8')\n",
    "    ]\n",
    ")\n",
    "\n",
    "# this csv file that I have has na and empty values for number of situps so i8 datatype doesn't work and need to use U8 to parse it as a string when using loadtxt"
   ]
  },
  {
   "cell_type": "code",
   "execution_count": 13,
   "metadata": {},
   "outputs": [],
   "source": [
    "# use genfromtxt to handle missing values\n",
    "\n",
    "d = np.genfromtxt(\n",
    "    '/Users/iylia/Library/Mobile Documents/com~apple~CloudDocs/SP/Intro to Programming for DS/Lab 2/Lab2_Dataset/situps.csv',\n",
    "    delimiter = ',',\n",
    "    skip_header = 1,\n",
    "    dtype = [\n",
    "        ('StudentID', 'u8'),\n",
    "        ('NumberOfSitups', 'i8')\n",
    "    ],\n",
    "    missing_values = ['na', '-'],\n",
    "    filling_values = 0\n",
    ")"
   ]
  }
 ],
 "metadata": {
  "kernelspec": {
   "display_name": "Python 3.11.0 64-bit",
   "language": "python",
   "name": "python3"
  },
  "language_info": {
   "codemirror_mode": {
    "name": "ipython",
    "version": 3
   },
   "file_extension": ".py",
   "mimetype": "text/x-python",
   "name": "python",
   "nbconvert_exporter": "python",
   "pygments_lexer": "ipython3",
   "version": "3.11.0"
  },
  "orig_nbformat": 4,
  "vscode": {
   "interpreter": {
    "hash": "aee8b7b246df8f9039afb4144a1f6fd8d2ca17a180786b69acc140d282b71a49"
   }
  }
 },
 "nbformat": 4,
 "nbformat_minor": 2
}
