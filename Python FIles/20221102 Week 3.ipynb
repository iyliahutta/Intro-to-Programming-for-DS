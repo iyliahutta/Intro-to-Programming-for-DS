{
 "cells": [
  {
   "cell_type": "markdown",
   "metadata": {},
   "source": [
    "add feature to ordering system\n",
    "- delete item from cart"
   ]
  },
  {
   "cell_type": "code",
   "execution_count": 3,
   "metadata": {},
   "outputs": [
    {
     "name": "stdout",
     "output_type": "stream",
     "text": [
      "Welcome to Food Order\n",
      "\n",
      "Hi iy\n",
      "\n",
      "You may order the following:\n",
      "[0] Burger\n",
      "[1] Coke\n",
      "[2] Fries\n",
      "[3] Fish and Chips\n",
      "[4] Salad\n",
      "[Q] to checkout\n",
      "[D] to delete item\n",
      "\n",
      "Good choice\n",
      "Fish and Chips costs $5.00\n",
      "4 X Fish and Chips would cost a total of $20.00\n",
      "\n",
      "\n",
      "Sorry 5 does not exist\n",
      "\n",
      "Good choice\n",
      "Fries costs $2.00\n",
      "3 X Fries would cost a total of $6.00\n",
      "\n",
      "\n",
      "Good choice\n",
      "Coke costs $1.50\n",
      "5 X Coke would cost a total of $7.50\n",
      "\n",
      "Your order and total is:\n",
      "\n",
      "0: Fish and Chips X 4: $20.00\n",
      "1: Fries X 3: $6.00\n",
      "2: Coke X 5: $7.50\n",
      "Total: $33.50\n",
      "Item removed\n",
      "Your order and total is:\n",
      "\n",
      "0: Fries X 3: $6.00\n",
      "1: Coke X 5: $7.50\n",
      "Total: $13.50\n"
     ]
    }
   ],
   "source": [
    "#Create a program for food ordering system\n",
    "\n",
    "from curses.ascii import isalpha\n",
    "from pickle import TRUE\n",
    "\n",
    "def create_order_item(menu_index, menu, prices):\n",
    "  #print price of item\n",
    "    print(f'{menu[menu_index]} costs ${prices[menu_index]:.2f}')\n",
    "    \n",
    "    #prompt user for quantity\n",
    "    quantity = int(input(f'How many of {menu[menu_index]} would you like?:'))\n",
    "\n",
    "    #calculate price with quantity and store\n",
    "    subtotal = quantity*prices[menu_index]\n",
    "\n",
    "    #display subtotal\n",
    "    print(f'{quantity} X {menu[menu_index]} would cost a total of ${subtotal:.2f}\\n')\n",
    "\n",
    "    return[menu_index, quantity, subtotal]\n",
    "\n",
    "def print_order(order, menu):\n",
    "    #print the order, each item with name, quantity and subtotal\n",
    "    total = 0\n",
    "\n",
    "    print('Your order and total is:\\n')\n",
    "\n",
    "    for idx, item in enumerate(order):\n",
    "        item_Index = item[0]\n",
    "        qty = item[1]\n",
    "        sub_total = item[2]\n",
    "\n",
    "        print(f'{idx}: {menu[item_Index]} X {qty}: ${sub_total:.2f}')\n",
    "\n",
    "        total = total + sub_total #total += sub_total\n",
    "\n",
    "    #print grand total\n",
    "    print(f'Total: ${total:.2f}')\n",
    "\n",
    "print('Welcome to Food Order\\n')\n",
    "name = input('How may I address you?')\n",
    "print('Hi ' + name)\n",
    "\n",
    "#assigning variables\n",
    "#item1, item2, item3 = 'Burger', 'Coke', 'Fries' #to store multiple variables with shorthand\n",
    "#item4 = item5 = 'Fish and Chips'\n",
    "\n",
    "menu = [\n",
    "    'Burger',\n",
    "    'Coke',\n",
    "    'Fries',\n",
    "    'Fish and Chips',\n",
    "    'Salad'\n",
    "]\n",
    "\n",
    "prices = [\n",
    "    3.50,\n",
    "    1.50,\n",
    "    2,\n",
    "    5,\n",
    "    3\n",
    "]\n",
    "\n",
    "#to print multiple strings together\n",
    "#use f (formatting) function\n",
    "#or .format function\n",
    "\n",
    "print('\\nYou may order the following:')\n",
    "#print(f'{item1} {item2} {item3} {item4} {item5}')\n",
    "\n",
    "#for stepper_variable in sequence_variable:\n",
    "#   something_you_want_to_do\n",
    "\n",
    "#using enumerate to retrieve index of list\n",
    "for number, item in enumerate(menu):\n",
    "    print(f'[{number}] {item}')\n",
    "\n",
    "print('[Q] to checkout\\n[D] to delete item')\n",
    "\n",
    "order = []\n",
    "\n",
    "while True:\n",
    "    choice = input('Enter the number of the item:')\n",
    "\n",
    "    if choice.upper() == 'Q':\n",
    "        break;\n",
    "    elif choice.upper() == 'D':\n",
    "        #print order\n",
    "        print_order(order, menu)\n",
    "        #prompt user to choose\n",
    "        delete_choice = int(input('Enter the index to delete:'))\n",
    "        if delete_choice >= 0 and delete_choice < len(order):\n",
    "            del(order[delete_choice])\n",
    "        print('\\nItem removed')\n",
    "        #delete item from list\n",
    "        #display updated list\n",
    "        print_order(order, menu)\n",
    "    elif choice.isalpha(): #error message and re-enter if user inputs a letter and not a number\n",
    "        choice = input('That was an invalid input. Please key in the number of an item or \"Q\" to checkout:')\n",
    "    else:\n",
    "        menu_index = int(choice)\n",
    "\n",
    "        #using the membership operator 'in' to test for membershoip in sequence\n",
    "        #print(choice in menu)\n",
    "\n",
    "        #if-else statements for conditionals\n",
    "        #if choice in menu:\n",
    "        if menu_index >= 0 and menu_index < len(menu):\n",
    "            print('\\nGood choice')\n",
    "\n",
    "            #print price of item\n",
    "            #print(f'{menu[menu_index]} costs ${prices[menu_index]:.2f}')\n",
    "\n",
    "            #prompt user for quantity\n",
    "            #quantity = int(input(f'How many of {menu[menu_index]} would you like?:'))\n",
    "\n",
    "            #calculate price with quantity and store\n",
    "            #subtotal = quantity*prices[menu_index]\n",
    "\n",
    "            #display subtotal\n",
    "            #print(f'{quantity} X {menu[menu_index]} would cost a total of ${subtotal:.2f}')\n",
    "\n",
    "            #use function\n",
    "            order_item = create_order_item(menu_index, menu, prices)\n",
    "\n",
    "            #add order item to list\n",
    "            order.append(order_item)\n",
    "\n",
    "            #try to combine repeat items together\n",
    "            #for y in range(len(order)):\n",
    "            #    if order[y][0] != order_item[0]:\n",
    "            #        order.append(order_item)\n",
    "            #    elif order[y][0] == order_item[0]:\n",
    "            #        for i in range(len(order)):\n",
    "            #            order[i][0] = order_item[0]\n",
    "            #            order[i][1] = order[i][1] + order_item[1]\n",
    "            #            order[i][2] = order[i][2] + order_item[2]\n",
    "            #    else:    \n",
    "            #        quit()\n",
    "\n",
    "\n",
    "        else:\n",
    "            print(f'\\nSorry {menu_index} does not exist')"
   ]
  },
  {
   "cell_type": "markdown",
   "metadata": {},
   "source": [
    "About dictionaries"
   ]
  },
  {
   "cell_type": "code",
   "execution_count": 1,
   "metadata": {},
   "outputs": [
    {
     "name": "stdout",
     "output_type": "stream",
     "text": [
      "{'name': 'Iylia', 'mobile': '93658393', 'contact_numbers': ['23131232', '2313123', '546575465'], 'address': {'country': 'Singapore', 'postal': '273038', 'road': 'Learning Road'}}\n"
     ]
    }
   ],
   "source": [
    "person = {\n",
    "    \"name\": \"Iylia\",\n",
    "    \"mobile\": \"93658393\",\n",
    "    \"contact_numbers\": [\n",
    "        \"23131232\",\n",
    "        \"2313123\",\n",
    "        \"546575465\"\n",
    "    ],\n",
    "    \"address\": {\n",
    "        \"country\": \"Singapore\",\n",
    "        \"postal\": \"273038\",\n",
    "        \"road\": \"Learning Road\"\n",
    "    }\n",
    "}\n",
    "\n",
    "#print dictionary\n",
    "print(person)"
   ]
  },
  {
   "cell_type": "code",
   "execution_count": 2,
   "metadata": {},
   "outputs": [
    {
     "name": "stdout",
     "output_type": "stream",
     "text": [
      "4.5\n",
      "3.4\n"
     ]
    }
   ],
   "source": [
    "menu = [\n",
    "    {\n",
    "        \"name\": \"Burger\",\n",
    "        \"price\": 4.50\n",
    "    },\n",
    "    {\n",
    "        \"name\": \"Fries\",\n",
    "        \"price\": 1.50,\n",
    "        \"rating\": {\n",
    "            \"avg\": 3.4,\n",
    "            \"max\": 4.8,\n",
    "            \"min\": 1.3\n",
    "        }\n",
    "    }\n",
    "]\n",
    "\n",
    "print(menu[0][\"price\"])\n",
    "\n",
    "print(menu[1][\"rating\"][\"avg\"])"
   ]
  },
  {
   "cell_type": "markdown",
   "metadata": {},
   "source": [
    "#### Iterating through a dictionary"
   ]
  },
  {
   "cell_type": "code",
   "execution_count": 1,
   "metadata": {},
   "outputs": [
    {
     "name": "stdout",
     "output_type": "stream",
     "text": [
      "dict_keys(['Ms Dora', 'Ms Eileen', 'Mr Calvin', 'Mr Hu-Shien'])\n",
      "Ms Dora\n",
      "68706085\n",
      "Ms Eileen\n",
      "68704739\n",
      "Mr Calvin\n",
      "67721917\n",
      "Mr Hu-Shien\n",
      "67721922\n",
      "Ms Dora 68706085\n",
      "Ms Eileen 68704739\n",
      "Mr Calvin 67721917\n",
      "Mr Hu-Shien 67721922\n",
      "0 Ms Dora\n",
      "1 Ms Eileen\n",
      "2 Mr Calvin\n",
      "3 Mr Hu-Shien\n",
      "Jack 93837726\n",
      "John 93847755\n",
      "Jill 94762781\n",
      "Jane 91289900\n"
     ]
    }
   ],
   "source": [
    "# iterating using dict keys\n",
    "tel2 = {\n",
    "    'Ms Dora': 68706085, \n",
    "    'Ms Eileen': 68704739, \n",
    "    'Mr Calvin':67721917, \n",
    "    'Mr Hu-Shien': 67721922\n",
    "}\n",
    "\n",
    "print(tel2.keys())\n",
    "\n",
    "for t in tel2: # t is the key\n",
    "   print(t) # print the keys \n",
    "   print(tel2[t]) # access via the keys\n",
    "\n",
    "\n",
    "# use the dict function to create key-value pairs for a dictionary\n",
    "tel = dict([\n",
    "   ('Ms Dora', 68706085), \n",
    "   ('Ms Eileen', 68704739), \n",
    "   ('Mr Calvin', 67721917),\n",
    "   ('Mr Hu-Shien', 67721922)\n",
    "])\n",
    "\n",
    "# use .items() to iterate through a dictionary\n",
    "for key, value in tel.items():\n",
    "    print(key, value)\n",
    "\n",
    "# using enumerate to iterate\n",
    "for key, value in enumerate(tel):\n",
    "   print(key, value)\n",
    "\n",
    "# iterating through multiple dictionaries\n",
    "phonebook1 = { \"Jack\" : 93837726, \"Jill\" : 94762781}\n",
    "phonebook2 = {  \"John\" : 93847755,  \"Jane\": 91289900}\n",
    "\n",
    "for p1, p2 in zip(phonebook1, phonebook2):\n",
    "    print(\"{} {}\".format(p1,phonebook1[p1]))\n",
    "    print(\"{} {}\".format(p2, phonebook2[p2]))"
   ]
  },
  {
   "cell_type": "markdown",
   "metadata": {},
   "source": [
    "#### Adding items to dictionary"
   ]
  },
  {
   "cell_type": "code",
   "execution_count": 4,
   "metadata": {},
   "outputs": [
    {
     "name": "stdout",
     "output_type": "stream",
     "text": [
      "{1500000: {'name': 'Sophie', 'course': 'DBIT'}, 1511111: {'name': 'Chanon', 'course': 'DIT'}, 1522222: {'name': 'Calvin', 'course': 'DISM'}, 1533333: {'name': 'Fong Sow', 'course': 'DIT'}, 1544444: {'name': 'Eileen', 'course': 'DISM'}, 1555555: {'name': 'Dora', 'course': 'DBIT'}}\n"
     ]
    }
   ],
   "source": [
    "students = {\n",
    "  1500000: {'name':'Sophie', 'course':'DBIT'}, \n",
    "  1511111: {'name':'Chanon','course':'DIT'},\n",
    "  1522222: {'name':'Calvin','course':'DISM'},\n",
    "   1533333: {'name':'Fong Sow','course':'DIT'},\n",
    "   1544444: {'name':'Eileen','course':'DISM'}\n",
    "}\n",
    "\n",
    "\n",
    "students[1555555] = {'name':'Dora', 'course': 'DBIT'}\n",
    "\n",
    "print(students)"
   ]
  },
  {
   "cell_type": "markdown",
   "metadata": {},
   "source": [
    "#### Removing items from a dictionary"
   ]
  },
  {
   "cell_type": "code",
   "execution_count": 5,
   "metadata": {},
   "outputs": [
    {
     "name": "stdout",
     "output_type": "stream",
     "text": [
      "5\n"
     ]
    }
   ],
   "source": [
    "students = {\n",
    "  1500000: {'name':'Sophie', 'course':'DBIT'}, \n",
    "  1511111: {'name':'Chanon','course':'DIT'},\n",
    "  1522222: {'name':'Calvin','course':'DISM'},\n",
    "   1533333: {'name':'Fong Sow','course':'DIT'},\n",
    "   1544444: {'name':'Eileen','course':'DISM'}\n",
    "}\n",
    "print(len(students))\n",
    "del students[1533333]; # remove entry with key 1533333\n",
    "students.pop(1544444) # remove entry with key 1544444\n",
    "students.clear();     # remove all entries in dict\n",
    "del students ;        # delete entire dictionary"
   ]
  }
 ],
 "metadata": {
  "kernelspec": {
   "display_name": "Python 3.11.0 64-bit",
   "language": "python",
   "name": "python3"
  },
  "language_info": {
   "codemirror_mode": {
    "name": "ipython",
    "version": 3
   },
   "file_extension": ".py",
   "mimetype": "text/x-python",
   "name": "python",
   "nbconvert_exporter": "python",
   "pygments_lexer": "ipython3",
   "version": "3.11.0"
  },
  "orig_nbformat": 4,
  "vscode": {
   "interpreter": {
    "hash": "aee8b7b246df8f9039afb4144a1f6fd8d2ca17a180786b69acc140d282b71a49"
   }
  }
 },
 "nbformat": 4,
 "nbformat_minor": 2
}
