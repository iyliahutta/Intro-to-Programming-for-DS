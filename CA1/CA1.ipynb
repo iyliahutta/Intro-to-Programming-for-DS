{
 "cells": [
  {
   "cell_type": "code",
   "execution_count": 124,
   "metadata": {},
   "outputs": [],
   "source": [
    "# initialise\n",
    "import numpy as np\n",
    "import matplotlib.pyplot as plt"
   ]
  },
  {
   "attachments": {},
   "cell_type": "markdown",
   "metadata": {},
   "source": [
    "# HDB Resale Prices"
   ]
  },
  {
   "attachments": {},
   "cell_type": "markdown",
   "metadata": {},
   "source": [
    "Data for this analysis was obtained from [here](https://data.gov.sg/dataset/resale-flat-prices).\n",
    "\n",
    "The data set consists of transacted resale flat prices from the years 1990 to present (8 December 2022).\n",
    "\n",
    "According to the data.gov website, prior to March 2012, data is based on date of approval for the resale transactions. For March 2012 onwards, the data is based on date of registration for the resale transactions.\n",
    "\n",
    "Furthermore, data from 2015 onwards includes a column named `remaining_lease`, which indicates the remaining years of lease for the houses in the datasets.\n",
    "\n",
    "For ease of analyses, I will limit my analyses to the years from 2015, which would already include at least 7 years of data and encompass several global and local events impacting the HDB resale market."
   ]
  },
  {
   "cell_type": "code",
   "execution_count": 149,
   "metadata": {},
   "outputs": [
    {
     "name": "stdout",
     "output_type": "stream",
     "text": [
      "[('2015-01', 'ANG MO KIO', '3 ROOM', 'mid', 60., 1986, '70', 255000.)\n",
      " ('2015-01', 'ANG MO KIO', '3 ROOM', 'low', 68., 1981, '65', 275000.)\n",
      " ('2015-01', 'ANG MO KIO', '3 ROOM', 'low', 69., 1980, '64', 285000.)\n",
      " ('2015-01', 'ANG MO KIO', '3 ROOM', 'low', 68., 1979, '63', 290000.)\n",
      " ('2015-01', 'ANG MO KIO', '3 ROOM', 'mid', 68., 1980, '64', 290000.)\n",
      " ('2015-01', 'ANG MO KIO', '3 ROOM', 'mid', 67., 1980, '64', 290000.)\n",
      " ('2015-01', 'ANG MO KIO', '3 ROOM', 'low', 68., 1980, '64', 290000.)\n",
      " ('2015-01', 'ANG MO KIO', '3 ROOM', 'low', 68., 1981, '65', 293000.)\n",
      " ('2015-01', 'ANG MO KIO', '3 ROOM', 'low', 67., 1978, '62', 300000.)\n",
      " ('2015-01', 'ANG MO KIO', '3 ROOM', 'high', 68., 1985, '69', 307500.)]\n"
     ]
    }
   ],
   "source": [
    "# import dataset\n",
    "\n",
    "f1 = '/Users/iylia/Library/Mobile Documents/com~apple~CloudDocs/SP/Intro to Programming for DS/CA1/Data/Resale Flat Prices/resale-flat-prices-based-on-registration-date-from-jan-2015-to-dec-2016.csv'\n",
    "f2 = '/Users/iylia/Library/Mobile Documents/com~apple~CloudDocs/SP/Intro to Programming for DS/CA1/Data/Resale Flat Prices/resale-flat-prices-based-on-registration-date-from-jan-2017-onwards.csv'\n",
    "\n",
    "d1 = np.loadtxt(f1,\n",
    "                delimiter=',',\n",
    "                skiprows=1,\n",
    "                usecols=(0,1,2,5,6,8,9,10),\n",
    "                dtype=[('month', 'U50'),\n",
    "                        ('town', 'U50'),\n",
    "                        ('flat_type', 'U50'),\n",
    "                        ('storey_range', 'U50'),\n",
    "                        ('floor_area_sqm', 'f8'),\n",
    "                        ('lease_commence_date', 'i8'),\n",
    "                        ('remaining_lease', 'i8'),\n",
    "                        ('resale_price', 'f8')],\n",
    "               )\n",
    "\n",
    "d2 = np.loadtxt(f2,\n",
    "                delimiter=',',\n",
    "                skiprows=1,\n",
    "                usecols=(0,1,2,5,6,8,9,10),\n",
    "                dtype=[('month', 'U50'),\n",
    "                        ('town', 'U50'),\n",
    "                        ('flat_type', 'U50'),\n",
    "                        ('storey_range', 'U50'),\n",
    "                        ('floor_area_sqm', 'f8'),\n",
    "                        ('lease_commence_date', 'i8'),\n",
    "                        ('remaining_lease', 'U50'),\n",
    "                        ('resale_price', 'f8')],\n",
    "               )\n",
    "\n",
    "# change remaining_lease column in d2 to be integer of years without months\n",
    "years = [i for i,j in np.char.split(d2['remaining_lease'],sep=' years')] # create list of years from split array string where i is the year, j is the rest of the string\n",
    "\n",
    "d2['remaining_lease'] = np.array(years, dtype='i8') # replace the remaining lease column in d2 to be integer of years without months\n",
    "\n",
    "# stack d1 and d2 into combined dataset\n",
    "d = np.hstack((d1,d2))\n",
    "\n",
    "# convert storey_range into categorical levels of low/mid/high\n",
    "storeys = []\n",
    "for i in d['storey_range']:\n",
    "    if i in (\"01 TO 03\", \"01 TO 05\", \"04 TO 06\"):\n",
    "        storeys.append(\"low\")\n",
    "    elif i in (\"06 TO 10\", \"07 TO 09\"):\n",
    "        storeys.append(\"mid\")\n",
    "    else:\n",
    "        storeys.append(\"high\")\n",
    "\n",
    "d['storey_range'] = np.array(storeys, dtype='U50')\n",
    "\n",
    "# view first 10 rows of full dataset\n",
    "print(d[:10])"
   ]
  },
  {
   "attachments": {},
   "cell_type": "markdown",
   "metadata": {},
   "source": [
    "## Exploratory Data Analysis\n",
    "\n",
    "Now that the dataset has been imported and combined, "
   ]
  },
  {
   "cell_type": "markdown",
   "metadata": {},
   "source": []
  }
 ],
 "metadata": {
  "kernelspec": {
   "display_name": "Python 3",
   "language": "python",
   "name": "python3"
  },
  "language_info": {
   "codemirror_mode": {
    "name": "ipython",
    "version": 3
   },
   "file_extension": ".py",
   "mimetype": "text/x-python",
   "name": "python",
   "nbconvert_exporter": "python",
   "pygments_lexer": "ipython3",
   "version": "3.11.0"
  },
  "orig_nbformat": 4,
  "vscode": {
   "interpreter": {
    "hash": "aee8b7b246df8f9039afb4144a1f6fd8d2ca17a180786b69acc140d282b71a49"
   }
  }
 },
 "nbformat": 4,
 "nbformat_minor": 2
}
